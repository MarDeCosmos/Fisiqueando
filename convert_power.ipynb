{
 "cells": [
  {
   "cell_type": "code",
   "execution_count": 1,
   "id": "1d6c9ccb",
   "metadata": {},
   "outputs": [],
   "source": [
    "## ---\n",
    "## title: Report title\n",
    "## author: Your name\n",
    "## description: My amazing report\n",
    "## ---"
   ]
  },
  {
   "cell_type": "code",
   "execution_count": 2,
   "id": "863d09cf",
   "metadata": {},
   "outputs": [
    {
     "data": {
      "application/vnd.jupyter.widget-view+json": {
       "model_id": "56bcc52790f74f3298a89301da764e0d",
       "version_major": 2,
       "version_minor": 0
      },
      "text/plain": [
       "HBox(children=(VBox(children=(IntSlider(value=0), IntSlider(value=0))), Output()))"
      ]
     },
     "metadata": {},
     "output_type": "display_data"
    }
   ],
   "source": [
    "## flex_subtitle = \"built using jupyter-flex\"\n",
    "## flex_external_link = \"http://localhost:8889/notebooks/widgets/convert_power.ipynb\"\n",
    "\n",
    "## flex_show_source = True\n",
    "from ipywidgets import HBox, VBox, IntSlider, interactive_output\n",
    "from IPython.display import HTML, display\n",
    "from IPython.display import Javascript\n",
    "\n",
    "\n",
    "a = IntSlider()\n",
    "b = IntSlider()\n",
    "\n",
    "def f(a, b):\n",
    "    print(\"{} * {} = {}\".format(a, b, a * b))\n",
    "\n",
    "out1 = interactive_output(f, { \"a\": a, \"b\": b })\n",
    "\n",
    "display(HBox([VBox([a, b]), out1]))\n",
    "\n"
   ]
  },
  {
   "cell_type": "code",
   "execution_count": null,
   "id": "131ed358",
   "metadata": {},
   "outputs": [],
   "source": []
  },
  {
   "cell_type": "code",
   "execution_count": 3,
   "id": "a995de34",
   "metadata": {},
   "outputs": [],
   "source": [
    "import numpy as np\n",
    "import ipywidgets as widgets\n",
    "from   ipywidgets import HBox, VBox, IntSlider, interactive_output, jsdlink, Button\n",
    "\n",
    "from   IPython.display import clear_output, display\n",
    "\n",
    "import matplotlib.pyplot as plt\n",
    "from   IPython.display import set_matplotlib_formats\n",
    "\n",
    "%matplotlib inline\n",
    "import matplotlib_inline\n",
    "matplotlib_inline.backend_inline.set_matplotlib_formats('svg')\n",
    "\n",
    "import plotly.io as pio\n",
    "\n",
    "np.random.seed(42)"
   ]
  },
  {
   "cell_type": "code",
   "execution_count": null,
   "id": "f056f233",
   "metadata": {},
   "outputs": [],
   "source": []
  },
  {
   "cell_type": "code",
   "execution_count": 4,
   "id": "78ded894",
   "metadata": {},
   "outputs": [],
   "source": [
    "size=250\n",
    "## Section\n"
   ]
  },
  {
   "cell_type": "code",
   "execution_count": 5,
   "id": "dd4a2f88",
   "metadata": {},
   "outputs": [
    {
     "data": {
      "application/vnd.jupyter.widget-view+json": {
       "model_id": "df3469f01ac049d9b06d8ef4abe54e4f",
       "version_major": 2,
       "version_minor": 0
      },
      "text/plain": [
       "VBox(children=(Label(value='Mean:'), BoundedIntText(value=100, max=300, min=10), Label(value='Sigma:'), Bounde…"
      ]
     },
     "execution_count": 5,
     "metadata": {},
     "output_type": "execute_result"
    }
   ],
   "source": [
    "mu_label    = widgets.Label(value=\"Mean:\")\n",
    "mu_var      = widgets.BoundedIntText(value=100, min=10, max=300)\n",
    "sigma_label = widgets.Label(value=\"Sigma:\")\n",
    "sigma_var   = widgets.BoundedIntText(value=15, min=10, max=50)\n",
    "bins_label  = widgets.Label(value=\"Bins:\")\n",
    "bins_var    = widgets.IntSlider(value=50, min=1, max=100, step=1)\n",
    "\n",
    "## Crea la caja\n",
    "widgets.VBox([mu_label, mu_var, sigma_label, sigma_var, bins_label, bins_var])\n",
    "## display(mu_label, mu_var, sigma_label, sigma_var, bins_label, bins_var)"
   ]
  },
  {
   "cell_type": "code",
   "execution_count": 6,
   "id": "efe01b76",
   "metadata": {},
   "outputs": [],
   "source": [
    "size=500\n",
    "## Column"
   ]
  },
  {
   "cell_type": "code",
   "execution_count": 7,
   "id": "132d9bdb",
   "metadata": {},
   "outputs": [],
   "source": [
    "out = widgets.Output()"
   ]
  },
  {
   "cell_type": "code",
   "execution_count": 8,
   "id": "e0f0925a",
   "metadata": {},
   "outputs": [],
   "source": [
    "def on_value_change(change):\n",
    "    mu       = mu_var.value\n",
    "    sigma    = sigma_var.value\n",
    "    num_bins = bins_var.value\n",
    "\n",
    "    with out:\n",
    "        fig, ax = plt.subplots()\n",
    "\n",
    "        # the histogram of the data\n",
    "        x = mu + sigma * np.random.randn(437)\n",
    "        n, bins, patches = ax.hist(x, num_bins, density=1)\n",
    "\n",
    "        # add a 'best fit' line\n",
    "        y = ((1 / (np.sqrt(2 * np.pi) * sigma)) * np.exp(-0.5 * (1 / sigma * (bins - mu))**2))\n",
    "        ax.plot(bins, y, '--')\n",
    "        \n",
    "        ax.set_xlabel('X')\n",
    "        ax.set_ylabel('Probability density')\n",
    "        ax.set_title(f'Histogram with: mu={mu}, sigma={sigma}, bins={num_bins}')\n",
    "\n",
    "        clear_output(wait=True)\n",
    "        plt.show(fig)\n",
    "\n",
    "mu_var.observe(on_value_change, names=\"value\")\n",
    "sigma_var.observe(on_value_change, names=\"value\")\n",
    "bins_var.observe(on_value_change, names=\"value\")\n"
   ]
  },
  {
   "cell_type": "code",
   "execution_count": 9,
   "id": "1f6d85ff",
   "metadata": {
    "scrolled": true
   },
   "outputs": [
    {
     "data": {
      "application/vnd.jupyter.widget-view+json": {
       "model_id": "df869cdbfe724ee9b39779b5fc9a7bad",
       "version_major": 2,
       "version_minor": 0
      },
      "text/plain": [
       "Output()"
      ]
     },
     "execution_count": 9,
     "metadata": {},
     "output_type": "execute_result"
    }
   ],
   "source": [
    "on_value_change(None)\n",
    "out"
   ]
  },
  {
   "cell_type": "code",
   "execution_count": 10,
   "id": "2c38b1a9",
   "metadata": {},
   "outputs": [],
   "source": [
    "#pio.write_html(on_value_change(None), file='convert_power.html', auto_open=True)\n",
    "#from ipywidgets.embed import embed_minimal_html\n",
    "#embed_minimal_html('export.html', views=[on_value_change(None),out], title='Widgets export')\n",
    "#embed_minimal_html('export.html', views=[0,0], title='Widgets export')\n",
    "@out1.capture()\n",
    "@out.capture()\n",
    "def render():\n",
    "    display(IFrame(src='./test2.html',width=700, height=600))"
   ]
  },
  {
   "cell_type": "code",
   "execution_count": null,
   "id": "af231ac0",
   "metadata": {},
   "outputs": [],
   "source": []
  },
  {
   "cell_type": "code",
   "execution_count": null,
   "id": "748cd461",
   "metadata": {},
   "outputs": [],
   "source": []
  },
  {
   "cell_type": "code",
   "execution_count": null,
   "id": "6bd425bb",
   "metadata": {},
   "outputs": [],
   "source": []
  }
 ],
 "metadata": {
  "kernelspec": {
   "display_name": "Python 3 (ipykernel)",
   "language": "python",
   "name": "python3"
  },
  "language_info": {
   "codemirror_mode": {
    "name": "ipython",
    "version": 3
   },
   "file_extension": ".py",
   "mimetype": "text/x-python",
   "name": "python",
   "nbconvert_exporter": "python",
   "pygments_lexer": "ipython3",
   "version": "3.11.0"
  },
  "widgets": {
   "application/vnd.jupyter.widget-state+json": {
    "state": {
     "0220402981ee481fb0221a25174ef4d6": {
      "model_module": "@jupyter-widgets/controls",
      "model_module_version": "2.0.0",
      "model_name": "LabelStyleModel",
      "state": {
       "description_width": "",
       "font_family": null,
       "font_size": null,
       "font_style": null,
       "font_variant": null,
       "font_weight": null,
       "text_color": null,
       "text_decoration": null
      }
     },
     "04c911a7fbe44e9ca288cb67fb0ff51d": {
      "model_module": "@jupyter-widgets/output",
      "model_module_version": "1.0.0",
      "model_name": "OutputModel",
      "state": {
       "layout": "IPY_MODEL_b6bccc7dde784caf879790ee7a67ba34",
       "outputs": [
        {
         "name": "stdout",
         "output_type": "stream",
         "text": "0 * 0 = 0\n"
        }
       ]
      }
     },
     "052aafc149c9443393493429432b8fa3": {
      "model_module": "@jupyter-widgets/controls",
      "model_module_version": "2.0.0",
      "model_name": "LabelModel",
      "state": {
       "layout": "IPY_MODEL_4dfd7d8627db413795aadd37ded351d2",
       "style": "IPY_MODEL_0220402981ee481fb0221a25174ef4d6",
       "value": "Mean:"
      }
     },
     "0644fde69cf24b17807e90e816099fbe": {
      "model_module": "@jupyter-widgets/output",
      "model_module_version": "1.0.0",
      "model_name": "OutputModel",
      "state": {
       "layout": "IPY_MODEL_f24c9b97be4140ba8e7376c2741b8ecf",
       "outputs": [
        {
         "name": "stdout",
         "output_type": "stream",
         "text": "31 * 43 = 1333\n"
        }
       ]
      }
     },
     "0aa428c8a34445d29e2373507254d286": {
      "model_module": "@jupyter-widgets/base",
      "model_module_version": "2.0.0",
      "model_name": "LayoutModel",
      "state": {}
     },
     "0aa630e589124320bb431b78f9f468c2": {
      "model_module": "@jupyter-widgets/controls",
      "model_module_version": "2.0.0",
      "model_name": "IntSliderModel",
      "state": {
       "behavior": "drag-tap",
       "layout": "IPY_MODEL_43be9145ff964d08a95ff76e9b5636e5",
       "min": 1,
       "style": "IPY_MODEL_91a106f21cd7415f89de7cbe7ce5d64c",
       "value": 64
      }
     },
     "10a6f02e80994874a577050a195ee644": {
      "model_module": "@jupyter-widgets/base",
      "model_module_version": "2.0.0",
      "model_name": "LayoutModel",
      "state": {}
     },
     "13909243f311474d90e1b804d30a6421": {
      "model_module": "@jupyter-widgets/base",
      "model_module_version": "2.0.0",
      "model_name": "LayoutModel",
      "state": {}
     },
     "13df69b6b00643f8978725c87dc661f7": {
      "model_module": "@jupyter-widgets/output",
      "model_module_version": "1.0.0",
      "model_name": "OutputModel",
      "state": {
       "layout": "IPY_MODEL_e785813d5b434448ab1e4cb60a7f0766",
       "outputs": [
        {
         "data": {
          "image/svg+xml": "<?xml version=\"1.0\" encoding=\"utf-8\" standalone=\"no\"?>\n<!DOCTYPE svg PUBLIC \"-//W3C//DTD SVG 1.1//EN\"\n  \"http://www.w3.org/Graphics/SVG/1.1/DTD/svg11.dtd\">\n<svg xmlns:xlink=\"http://www.w3.org/1999/xlink\" width=\"420.82625pt\" height=\"325.986375pt\" viewBox=\"0 0 420.82625 325.986375\" xmlns=\"http://www.w3.org/2000/svg\" version=\"1.1\">\n <metadata>\n  <rdf:RDF xmlns:dc=\"http://purl.org/dc/elements/1.1/\" xmlns:cc=\"http://creativecommons.org/ns#\" xmlns:rdf=\"http://www.w3.org/1999/02/22-rdf-syntax-ns#\">\n   <cc:Work>\n    <dc:type rdf:resource=\"http://purl.org/dc/dcmitype/StillImage\"/>\n    <dc:date>2023-03-27T23:22:06.495692</dc:date>\n    <dc:format>image/svg+xml</dc:format>\n    <dc:creator>\n     <cc:Agent>\n      <dc:title>Matplotlib v3.7.1, https://matplotlib.org/</dc:title>\n     </cc:Agent>\n    </dc:creator>\n   </cc:Work>\n  </rdf:RDF>\n </metadata>\n <defs>\n  <style type=\"text/css\">*{stroke-linejoin: round; stroke-linecap: butt}</style>\n </defs>\n <g id=\"figure_1\">\n  <g id=\"patch_1\">\n   <path d=\"M 0 325.986375 \nL 420.82625 325.986375 \nL 420.82625 0 \nL 0 0 \nz\n\" style=\"fill: #ffffff\"/>\n  </g>\n  <g id=\"axes_1\">\n   <g id=\"patch_2\">\n    <path d=\"M 56.50625 288.430125 \nL 413.62625 288.430125 \nL 413.62625 22.318125 \nL 56.50625 22.318125 \nz\n\" style=\"fill: #ffffff\"/>\n   </g>\n   <g id=\"patch_3\">\n    <path d=\"M 72.738977 288.430125 \nL 77.811705 288.430125 \nL 77.811705 269.656792 \nL 72.738977 269.656792 \nz\n\" clip-path=\"url(#pb588122a3a)\" style=\"fill: #1f77b4\"/>\n   </g>\n   <g id=\"patch_4\">\n    <path d=\"M 77.811705 288.430125 \nL 82.884432 288.430125 \nL 82.884432 288.430125 \nL 77.811705 288.430125 \nz\n\" clip-path=\"url(#pb588122a3a)\" style=\"fill: #1f77b4\"/>\n   </g>\n   <g id=\"patch_5\">\n    <path d=\"M 82.884432 288.430125 \nL 87.957159 288.430125 \nL 87.957159 288.430125 \nL 82.884432 288.430125 \nz\n\" clip-path=\"url(#pb588122a3a)\" style=\"fill: #1f77b4\"/>\n   </g>\n   <g id=\"patch_6\">\n    <path d=\"M 87.957159 288.430125 \nL 93.029886 288.430125 \nL 93.029886 279.043458 \nL 87.957159 279.043458 \nz\n\" clip-path=\"url(#pb588122a3a)\" style=\"fill: #1f77b4\"/>\n   </g>\n   <g id=\"patch_7\">\n    <path d=\"M 93.029886 288.430125 \nL 98.102614 288.430125 \nL 98.102614 279.043458 \nL 93.029886 279.043458 \nz\n\" clip-path=\"url(#pb588122a3a)\" style=\"fill: #1f77b4\"/>\n   </g>\n   <g id=\"patch_8\">\n    <path d=\"M 98.102614 288.430125 \nL 103.175341 288.430125 \nL 103.175341 279.043458 \nL 98.102614 279.043458 \nz\n\" clip-path=\"url(#pb588122a3a)\" style=\"fill: #1f77b4\"/>\n   </g>\n   <g id=\"patch_9\">\n    <path d=\"M 103.175341 288.430125 \nL 108.248068 288.430125 \nL 108.248068 279.043458 \nL 103.175341 279.043458 \nz\n\" clip-path=\"url(#pb588122a3a)\" style=\"fill: #1f77b4\"/>\n   </g>\n   <g id=\"patch_10\">\n    <path d=\"M 108.248068 288.430125 \nL 113.320795 288.430125 \nL 113.320795 279.043458 \nL 108.248068 279.043458 \nz\n\" clip-path=\"url(#pb588122a3a)\" style=\"fill: #1f77b4\"/>\n   </g>\n   <g id=\"patch_11\">\n    <path d=\"M 113.320795 288.430125 \nL 118.393523 288.430125 \nL 118.393523 279.043458 \nL 113.320795 279.043458 \nz\n\" clip-path=\"url(#pb588122a3a)\" style=\"fill: #1f77b4\"/>\n   </g>\n   <g id=\"patch_12\">\n    <path d=\"M 118.393523 288.430125 \nL 123.46625 288.430125 \nL 123.46625 269.656792 \nL 118.393523 269.656792 \nz\n\" clip-path=\"url(#pb588122a3a)\" style=\"fill: #1f77b4\"/>\n   </g>\n   <g id=\"patch_13\">\n    <path d=\"M 123.46625 288.430125 \nL 128.538977 288.430125 \nL 128.538977 269.656792 \nL 123.46625 269.656792 \nz\n\" clip-path=\"url(#pb588122a3a)\" style=\"fill: #1f77b4\"/>\n   </g>\n   <g id=\"patch_14\">\n    <path d=\"M 128.538977 288.430125 \nL 133.611705 288.430125 \nL 133.611705 260.270125 \nL 128.538977 260.270125 \nz\n\" clip-path=\"url(#pb588122a3a)\" style=\"fill: #1f77b4\"/>\n   </g>\n   <g id=\"patch_15\">\n    <path d=\"M 133.611705 288.430125 \nL 138.684432 288.430125 \nL 138.684432 241.496792 \nL 133.611705 241.496792 \nz\n\" clip-path=\"url(#pb588122a3a)\" style=\"fill: #1f77b4\"/>\n   </g>\n   <g id=\"patch_16\">\n    <path d=\"M 138.684432 288.430125 \nL 143.757159 288.430125 \nL 143.757159 269.656792 \nL 138.684432 269.656792 \nz\n\" clip-path=\"url(#pb588122a3a)\" style=\"fill: #1f77b4\"/>\n   </g>\n   <g id=\"patch_17\">\n    <path d=\"M 143.757159 288.430125 \nL 148.829886 288.430125 \nL 148.829886 213.336792 \nL 143.757159 213.336792 \nz\n\" clip-path=\"url(#pb588122a3a)\" style=\"fill: #1f77b4\"/>\n   </g>\n   <g id=\"patch_18\">\n    <path d=\"M 148.829886 288.430125 \nL 153.902614 288.430125 \nL 153.902614 241.496792 \nL 148.829886 241.496792 \nz\n\" clip-path=\"url(#pb588122a3a)\" style=\"fill: #1f77b4\"/>\n   </g>\n   <g id=\"patch_19\">\n    <path d=\"M 153.902614 288.430125 \nL 158.975341 288.430125 \nL 158.975341 250.883458 \nL 153.902614 250.883458 \nz\n\" clip-path=\"url(#pb588122a3a)\" style=\"fill: #1f77b4\"/>\n   </g>\n   <g id=\"patch_20\">\n    <path d=\"M 158.975341 288.430125 \nL 164.048068 288.430125 \nL 164.048068 250.883458 \nL 158.975341 250.883458 \nz\n\" clip-path=\"url(#pb588122a3a)\" style=\"fill: #1f77b4\"/>\n   </g>\n   <g id=\"patch_21\">\n    <path d=\"M 164.048068 288.430125 \nL 169.120795 288.430125 \nL 169.120795 203.950125 \nL 164.048068 203.950125 \nz\n\" clip-path=\"url(#pb588122a3a)\" style=\"fill: #1f77b4\"/>\n   </g>\n   <g id=\"patch_22\">\n    <path d=\"M 169.120795 288.430125 \nL 174.193523 288.430125 \nL 174.193523 222.723458 \nL 169.120795 222.723458 \nz\n\" clip-path=\"url(#pb588122a3a)\" style=\"fill: #1f77b4\"/>\n   </g>\n   <g id=\"patch_23\">\n    <path d=\"M 174.193523 288.430125 \nL 179.26625 288.430125 \nL 179.26625 222.723458 \nL 174.193523 222.723458 \nz\n\" clip-path=\"url(#pb588122a3a)\" style=\"fill: #1f77b4\"/>\n   </g>\n   <g id=\"patch_24\">\n    <path d=\"M 179.26625 288.430125 \nL 184.338977 288.430125 \nL 184.338977 222.723458 \nL 179.26625 222.723458 \nz\n\" clip-path=\"url(#pb588122a3a)\" style=\"fill: #1f77b4\"/>\n   </g>\n   <g id=\"patch_25\">\n    <path d=\"M 184.338977 288.430125 \nL 189.411705 288.430125 \nL 189.411705 147.630125 \nL 184.338977 147.630125 \nz\n\" clip-path=\"url(#pb588122a3a)\" style=\"fill: #1f77b4\"/>\n   </g>\n   <g id=\"patch_26\">\n    <path d=\"M 189.411705 288.430125 \nL 194.484432 288.430125 \nL 194.484432 175.790125 \nL 189.411705 175.790125 \nz\n\" clip-path=\"url(#pb588122a3a)\" style=\"fill: #1f77b4\"/>\n   </g>\n   <g id=\"patch_27\">\n    <path d=\"M 194.484432 288.430125 \nL 199.557159 288.430125 \nL 199.557159 138.243458 \nL 194.484432 138.243458 \nz\n\" clip-path=\"url(#pb588122a3a)\" style=\"fill: #1f77b4\"/>\n   </g>\n   <g id=\"patch_28\">\n    <path d=\"M 199.557159 288.430125 \nL 204.629886 288.430125 \nL 204.629886 175.790125 \nL 199.557159 175.790125 \nz\n\" clip-path=\"url(#pb588122a3a)\" style=\"fill: #1f77b4\"/>\n   </g>\n   <g id=\"patch_29\">\n    <path d=\"M 204.629886 288.430125 \nL 209.702614 288.430125 \nL 209.702614 166.403458 \nL 204.629886 166.403458 \nz\n\" clip-path=\"url(#pb588122a3a)\" style=\"fill: #1f77b4\"/>\n   </g>\n   <g id=\"patch_30\">\n    <path d=\"M 209.702614 288.430125 \nL 214.775341 288.430125 \nL 214.775341 166.403458 \nL 209.702614 166.403458 \nz\n\" clip-path=\"url(#pb588122a3a)\" style=\"fill: #1f77b4\"/>\n   </g>\n   <g id=\"patch_31\">\n    <path d=\"M 214.775341 288.430125 \nL 219.848068 288.430125 \nL 219.848068 128.856792 \nL 214.775341 128.856792 \nz\n\" clip-path=\"url(#pb588122a3a)\" style=\"fill: #1f77b4\"/>\n   </g>\n   <g id=\"patch_32\">\n    <path d=\"M 219.848068 288.430125 \nL 224.920795 288.430125 \nL 224.920795 34.990125 \nL 219.848068 34.990125 \nz\n\" clip-path=\"url(#pb588122a3a)\" style=\"fill: #1f77b4\"/>\n   </g>\n   <g id=\"patch_33\">\n    <path d=\"M 224.920795 288.430125 \nL 229.993523 288.430125 \nL 229.993523 147.630125 \nL 224.920795 147.630125 \nz\n\" clip-path=\"url(#pb588122a3a)\" style=\"fill: #1f77b4\"/>\n   </g>\n   <g id=\"patch_34\">\n    <path d=\"M 229.993523 288.430125 \nL 235.06625 288.430125 \nL 235.06625 72.536792 \nL 229.993523 72.536792 \nz\n\" clip-path=\"url(#pb588122a3a)\" style=\"fill: #1f77b4\"/>\n   </g>\n   <g id=\"patch_35\">\n    <path d=\"M 235.06625 288.430125 \nL 240.138977 288.430125 \nL 240.138977 128.856792 \nL 235.06625 128.856792 \nz\n\" clip-path=\"url(#pb588122a3a)\" style=\"fill: #1f77b4\"/>\n   </g>\n   <g id=\"patch_36\">\n    <path d=\"M 240.138977 288.430125 \nL 245.211705 288.430125 \nL 245.211705 100.696792 \nL 240.138977 100.696792 \nz\n\" clip-path=\"url(#pb588122a3a)\" style=\"fill: #1f77b4\"/>\n   </g>\n   <g id=\"patch_37\">\n    <path d=\"M 245.211705 288.430125 \nL 250.284432 288.430125 \nL 250.284432 147.630125 \nL 245.211705 147.630125 \nz\n\" clip-path=\"url(#pb588122a3a)\" style=\"fill: #1f77b4\"/>\n   </g>\n   <g id=\"patch_38\">\n    <path d=\"M 250.284432 288.430125 \nL 255.357159 288.430125 \nL 255.357159 166.403458 \nL 250.284432 166.403458 \nz\n\" clip-path=\"url(#pb588122a3a)\" style=\"fill: #1f77b4\"/>\n   </g>\n   <g id=\"patch_39\">\n    <path d=\"M 255.357159 288.430125 \nL 260.429886 288.430125 \nL 260.429886 166.403458 \nL 255.357159 166.403458 \nz\n\" clip-path=\"url(#pb588122a3a)\" style=\"fill: #1f77b4\"/>\n   </g>\n   <g id=\"patch_40\">\n    <path d=\"M 260.429886 288.430125 \nL 265.502614 288.430125 \nL 265.502614 157.016792 \nL 260.429886 157.016792 \nz\n\" clip-path=\"url(#pb588122a3a)\" style=\"fill: #1f77b4\"/>\n   </g>\n   <g id=\"patch_41\">\n    <path d=\"M 265.502614 288.430125 \nL 270.575341 288.430125 \nL 270.575341 147.630125 \nL 265.502614 147.630125 \nz\n\" clip-path=\"url(#pb588122a3a)\" style=\"fill: #1f77b4\"/>\n   </g>\n   <g id=\"patch_42\">\n    <path d=\"M 270.575341 288.430125 \nL 275.648068 288.430125 \nL 275.648068 166.403458 \nL 270.575341 166.403458 \nz\n\" clip-path=\"url(#pb588122a3a)\" style=\"fill: #1f77b4\"/>\n   </g>\n   <g id=\"patch_43\">\n    <path d=\"M 275.648068 288.430125 \nL 280.720795 288.430125 \nL 280.720795 222.723458 \nL 275.648068 222.723458 \nz\n\" clip-path=\"url(#pb588122a3a)\" style=\"fill: #1f77b4\"/>\n   </g>\n   <g id=\"patch_44\">\n    <path d=\"M 280.720795 288.430125 \nL 285.793523 288.430125 \nL 285.793523 175.790125 \nL 280.720795 175.790125 \nz\n\" clip-path=\"url(#pb588122a3a)\" style=\"fill: #1f77b4\"/>\n   </g>\n   <g id=\"patch_45\">\n    <path d=\"M 285.793523 288.430125 \nL 290.86625 288.430125 \nL 290.86625 203.950125 \nL 285.793523 203.950125 \nz\n\" clip-path=\"url(#pb588122a3a)\" style=\"fill: #1f77b4\"/>\n   </g>\n   <g id=\"patch_46\">\n    <path d=\"M 290.86625 288.430125 \nL 295.938977 288.430125 \nL 295.938977 194.563458 \nL 290.86625 194.563458 \nz\n\" clip-path=\"url(#pb588122a3a)\" style=\"fill: #1f77b4\"/>\n   </g>\n   <g id=\"patch_47\">\n    <path d=\"M 295.938977 288.430125 \nL 301.011705 288.430125 \nL 301.011705 232.110125 \nL 295.938977 232.110125 \nz\n\" clip-path=\"url(#pb588122a3a)\" style=\"fill: #1f77b4\"/>\n   </g>\n   <g id=\"patch_48\">\n    <path d=\"M 301.011705 288.430125 \nL 306.084432 288.430125 \nL 306.084432 203.950125 \nL 301.011705 203.950125 \nz\n\" clip-path=\"url(#pb588122a3a)\" style=\"fill: #1f77b4\"/>\n   </g>\n   <g id=\"patch_49\">\n    <path d=\"M 306.084432 288.430125 \nL 311.157159 288.430125 \nL 311.157159 250.883458 \nL 306.084432 250.883458 \nz\n\" clip-path=\"url(#pb588122a3a)\" style=\"fill: #1f77b4\"/>\n   </g>\n   <g id=\"patch_50\">\n    <path d=\"M 311.157159 288.430125 \nL 316.229886 288.430125 \nL 316.229886 269.656792 \nL 311.157159 269.656792 \nz\n\" clip-path=\"url(#pb588122a3a)\" style=\"fill: #1f77b4\"/>\n   </g>\n   <g id=\"patch_51\">\n    <path d=\"M 316.229886 288.430125 \nL 321.302614 288.430125 \nL 321.302614 222.723458 \nL 316.229886 222.723458 \nz\n\" clip-path=\"url(#pb588122a3a)\" style=\"fill: #1f77b4\"/>\n   </g>\n   <g id=\"patch_52\">\n    <path d=\"M 321.302614 288.430125 \nL 326.375341 288.430125 \nL 326.375341 260.270125 \nL 321.302614 260.270125 \nz\n\" clip-path=\"url(#pb588122a3a)\" style=\"fill: #1f77b4\"/>\n   </g>\n   <g id=\"patch_53\">\n    <path d=\"M 326.375341 288.430125 \nL 331.448068 288.430125 \nL 331.448068 279.043458 \nL 326.375341 279.043458 \nz\n\" clip-path=\"url(#pb588122a3a)\" style=\"fill: #1f77b4\"/>\n   </g>\n   <g id=\"patch_54\">\n    <path d=\"M 331.448068 288.430125 \nL 336.520795 288.430125 \nL 336.520795 269.656792 \nL 331.448068 269.656792 \nz\n\" clip-path=\"url(#pb588122a3a)\" style=\"fill: #1f77b4\"/>\n   </g>\n   <g id=\"patch_55\">\n    <path d=\"M 336.520795 288.430125 \nL 341.593523 288.430125 \nL 341.593523 269.656792 \nL 336.520795 269.656792 \nz\n\" clip-path=\"url(#pb588122a3a)\" style=\"fill: #1f77b4\"/>\n   </g>\n   <g id=\"patch_56\">\n    <path d=\"M 341.593523 288.430125 \nL 346.66625 288.430125 \nL 346.66625 269.656792 \nL 341.593523 269.656792 \nz\n\" clip-path=\"url(#pb588122a3a)\" style=\"fill: #1f77b4\"/>\n   </g>\n   <g id=\"patch_57\">\n    <path d=\"M 346.66625 288.430125 \nL 351.738977 288.430125 \nL 351.738977 279.043458 \nL 346.66625 279.043458 \nz\n\" clip-path=\"url(#pb588122a3a)\" style=\"fill: #1f77b4\"/>\n   </g>\n   <g id=\"patch_58\">\n    <path d=\"M 351.738977 288.430125 \nL 356.811705 288.430125 \nL 356.811705 288.430125 \nL 351.738977 288.430125 \nz\n\" clip-path=\"url(#pb588122a3a)\" style=\"fill: #1f77b4\"/>\n   </g>\n   <g id=\"patch_59\">\n    <path d=\"M 356.811705 288.430125 \nL 361.884432 288.430125 \nL 361.884432 279.043458 \nL 356.811705 279.043458 \nz\n\" clip-path=\"url(#pb588122a3a)\" style=\"fill: #1f77b4\"/>\n   </g>\n   <g id=\"patch_60\">\n    <path d=\"M 361.884432 288.430125 \nL 366.957159 288.430125 \nL 366.957159 288.430125 \nL 361.884432 288.430125 \nz\n\" clip-path=\"url(#pb588122a3a)\" style=\"fill: #1f77b4\"/>\n   </g>\n   <g id=\"patch_61\">\n    <path d=\"M 366.957159 288.430125 \nL 372.029886 288.430125 \nL 372.029886 279.043458 \nL 366.957159 279.043458 \nz\n\" clip-path=\"url(#pb588122a3a)\" style=\"fill: #1f77b4\"/>\n   </g>\n   <g id=\"patch_62\">\n    <path d=\"M 372.029886 288.430125 \nL 377.102614 288.430125 \nL 377.102614 288.430125 \nL 372.029886 288.430125 \nz\n\" clip-path=\"url(#pb588122a3a)\" style=\"fill: #1f77b4\"/>\n   </g>\n   <g id=\"patch_63\">\n    <path d=\"M 377.102614 288.430125 \nL 382.175341 288.430125 \nL 382.175341 279.043458 \nL 377.102614 279.043458 \nz\n\" clip-path=\"url(#pb588122a3a)\" style=\"fill: #1f77b4\"/>\n   </g>\n   <g id=\"patch_64\">\n    <path d=\"M 382.175341 288.430125 \nL 387.248068 288.430125 \nL 387.248068 288.430125 \nL 382.175341 288.430125 \nz\n\" clip-path=\"url(#pb588122a3a)\" style=\"fill: #1f77b4\"/>\n   </g>\n   <g id=\"patch_65\">\n    <path d=\"M 387.248068 288.430125 \nL 392.320795 288.430125 \nL 392.320795 288.430125 \nL 387.248068 288.430125 \nz\n\" clip-path=\"url(#pb588122a3a)\" style=\"fill: #1f77b4\"/>\n   </g>\n   <g id=\"patch_66\">\n    <path d=\"M 392.320795 288.430125 \nL 397.393523 288.430125 \nL 397.393523 279.043458 \nL 392.320795 279.043458 \nz\n\" clip-path=\"url(#pb588122a3a)\" style=\"fill: #1f77b4\"/>\n   </g>\n   <g id=\"matplotlib.axis_1\">\n    <g id=\"xtick_1\">\n     <g id=\"line2d_1\">\n      <defs>\n       <path id=\"mabd1a66db1\" d=\"M 0 0 \nL 0 3.5 \n\" style=\"stroke: #000000; stroke-width: 0.8\"/>\n      </defs>\n      <g>\n       <use xlink:href=\"#mabd1a66db1\" x=\"91.343499\" y=\"288.430125\" style=\"stroke: #000000; stroke-width: 0.8\"/>\n      </g>\n     </g>\n     <g id=\"text_1\">\n      <!-- 60 -->\n      <g transform=\"translate(84.980999 303.028562) scale(0.1 -0.1)\">\n       <defs>\n        <path id=\"DejaVuSans-36\" d=\"M 2113 2584 \nQ 1688 2584 1439 2293 \nQ 1191 2003 1191 1497 \nQ 1191 994 1439 701 \nQ 1688 409 2113 409 \nQ 2538 409 2786 701 \nQ 3034 994 3034 1497 \nQ 3034 2003 2786 2293 \nQ 2538 2584 2113 2584 \nz\nM 3366 4563 \nL 3366 3988 \nQ 3128 4100 2886 4159 \nQ 2644 4219 2406 4219 \nQ 1781 4219 1451 3797 \nQ 1122 3375 1075 2522 \nQ 1259 2794 1537 2939 \nQ 1816 3084 2150 3084 \nQ 2853 3084 3261 2657 \nQ 3669 2231 3669 1497 \nQ 3669 778 3244 343 \nQ 2819 -91 2113 -91 \nQ 1303 -91 875 529 \nQ 447 1150 447 2328 \nQ 447 3434 972 4092 \nQ 1497 4750 2381 4750 \nQ 2619 4750 2861 4703 \nQ 3103 4656 3366 4563 \nz\n\" transform=\"scale(0.015625)\"/>\n        <path id=\"DejaVuSans-30\" d=\"M 2034 4250 \nQ 1547 4250 1301 3770 \nQ 1056 3291 1056 2328 \nQ 1056 1369 1301 889 \nQ 1547 409 2034 409 \nQ 2525 409 2770 889 \nQ 3016 1369 3016 2328 \nQ 3016 3291 2770 3770 \nQ 2525 4250 2034 4250 \nz\nM 2034 4750 \nQ 2819 4750 3233 4129 \nQ 3647 3509 3647 2328 \nQ 3647 1150 3233 529 \nQ 2819 -91 2034 -91 \nQ 1250 -91 836 529 \nQ 422 1150 422 2328 \nQ 422 3509 836 4129 \nQ 1250 4750 2034 4750 \nz\n\" transform=\"scale(0.015625)\"/>\n       </defs>\n       <use xlink:href=\"#DejaVuSans-36\"/>\n       <use xlink:href=\"#DejaVuSans-30\" x=\"63.623047\"/>\n      </g>\n     </g>\n    </g>\n    <g id=\"xtick_2\">\n     <g id=\"line2d_2\">\n      <g>\n       <use xlink:href=\"#mabd1a66db1\" x=\"161.646309\" y=\"288.430125\" style=\"stroke: #000000; stroke-width: 0.8\"/>\n      </g>\n     </g>\n     <g id=\"text_2\">\n      <!-- 80 -->\n      <g transform=\"translate(155.283809 303.028562) scale(0.1 -0.1)\">\n       <defs>\n        <path id=\"DejaVuSans-38\" d=\"M 2034 2216 \nQ 1584 2216 1326 1975 \nQ 1069 1734 1069 1313 \nQ 1069 891 1326 650 \nQ 1584 409 2034 409 \nQ 2484 409 2743 651 \nQ 3003 894 3003 1313 \nQ 3003 1734 2745 1975 \nQ 2488 2216 2034 2216 \nz\nM 1403 2484 \nQ 997 2584 770 2862 \nQ 544 3141 544 3541 \nQ 544 4100 942 4425 \nQ 1341 4750 2034 4750 \nQ 2731 4750 3128 4425 \nQ 3525 4100 3525 3541 \nQ 3525 3141 3298 2862 \nQ 3072 2584 2669 2484 \nQ 3125 2378 3379 2068 \nQ 3634 1759 3634 1313 \nQ 3634 634 3220 271 \nQ 2806 -91 2034 -91 \nQ 1263 -91 848 271 \nQ 434 634 434 1313 \nQ 434 1759 690 2068 \nQ 947 2378 1403 2484 \nz\nM 1172 3481 \nQ 1172 3119 1398 2916 \nQ 1625 2713 2034 2713 \nQ 2441 2713 2670 2916 \nQ 2900 3119 2900 3481 \nQ 2900 3844 2670 4047 \nQ 2441 4250 2034 4250 \nQ 1625 4250 1398 4047 \nQ 1172 3844 1172 3481 \nz\n\" transform=\"scale(0.015625)\"/>\n       </defs>\n       <use xlink:href=\"#DejaVuSans-38\"/>\n       <use xlink:href=\"#DejaVuSans-30\" x=\"63.623047\"/>\n      </g>\n     </g>\n    </g>\n    <g id=\"xtick_3\">\n     <g id=\"line2d_3\">\n      <g>\n       <use xlink:href=\"#mabd1a66db1\" x=\"231.949119\" y=\"288.430125\" style=\"stroke: #000000; stroke-width: 0.8\"/>\n      </g>\n     </g>\n     <g id=\"text_3\">\n      <!-- 100 -->\n      <g transform=\"translate(222.405369 303.028562) scale(0.1 -0.1)\">\n       <defs>\n        <path id=\"DejaVuSans-31\" d=\"M 794 531 \nL 1825 531 \nL 1825 4091 \nL 703 3866 \nL 703 4441 \nL 1819 4666 \nL 2450 4666 \nL 2450 531 \nL 3481 531 \nL 3481 0 \nL 794 0 \nL 794 531 \nz\n\" transform=\"scale(0.015625)\"/>\n       </defs>\n       <use xlink:href=\"#DejaVuSans-31\"/>\n       <use xlink:href=\"#DejaVuSans-30\" x=\"63.623047\"/>\n       <use xlink:href=\"#DejaVuSans-30\" x=\"127.246094\"/>\n      </g>\n     </g>\n    </g>\n    <g id=\"xtick_4\">\n     <g id=\"line2d_4\">\n      <g>\n       <use xlink:href=\"#mabd1a66db1\" x=\"302.251929\" y=\"288.430125\" style=\"stroke: #000000; stroke-width: 0.8\"/>\n      </g>\n     </g>\n     <g id=\"text_4\">\n      <!-- 120 -->\n      <g transform=\"translate(292.708179 303.028562) scale(0.1 -0.1)\">\n       <defs>\n        <path id=\"DejaVuSans-32\" d=\"M 1228 531 \nL 3431 531 \nL 3431 0 \nL 469 0 \nL 469 531 \nQ 828 903 1448 1529 \nQ 2069 2156 2228 2338 \nQ 2531 2678 2651 2914 \nQ 2772 3150 2772 3378 \nQ 2772 3750 2511 3984 \nQ 2250 4219 1831 4219 \nQ 1534 4219 1204 4116 \nQ 875 4013 500 3803 \nL 500 4441 \nQ 881 4594 1212 4672 \nQ 1544 4750 1819 4750 \nQ 2544 4750 2975 4387 \nQ 3406 4025 3406 3419 \nQ 3406 3131 3298 2873 \nQ 3191 2616 2906 2266 \nQ 2828 2175 2409 1742 \nQ 1991 1309 1228 531 \nz\n\" transform=\"scale(0.015625)\"/>\n       </defs>\n       <use xlink:href=\"#DejaVuSans-31\"/>\n       <use xlink:href=\"#DejaVuSans-32\" x=\"63.623047\"/>\n       <use xlink:href=\"#DejaVuSans-30\" x=\"127.246094\"/>\n      </g>\n     </g>\n    </g>\n    <g id=\"xtick_5\">\n     <g id=\"line2d_5\">\n      <g>\n       <use xlink:href=\"#mabd1a66db1\" x=\"372.554739\" y=\"288.430125\" style=\"stroke: #000000; stroke-width: 0.8\"/>\n      </g>\n     </g>\n     <g id=\"text_5\">\n      <!-- 140 -->\n      <g transform=\"translate(363.010989 303.028562) scale(0.1 -0.1)\">\n       <defs>\n        <path id=\"DejaVuSans-34\" d=\"M 2419 4116 \nL 825 1625 \nL 2419 1625 \nL 2419 4116 \nz\nM 2253 4666 \nL 3047 4666 \nL 3047 1625 \nL 3713 1625 \nL 3713 1100 \nL 3047 1100 \nL 3047 0 \nL 2419 0 \nL 2419 1100 \nL 313 1100 \nL 313 1709 \nL 2253 4666 \nz\n\" transform=\"scale(0.015625)\"/>\n       </defs>\n       <use xlink:href=\"#DejaVuSans-31\"/>\n       <use xlink:href=\"#DejaVuSans-34\" x=\"63.623047\"/>\n       <use xlink:href=\"#DejaVuSans-30\" x=\"127.246094\"/>\n      </g>\n     </g>\n    </g>\n    <g id=\"text_6\">\n     <!-- X -->\n     <g transform=\"translate(231.64125 316.706687) scale(0.1 -0.1)\">\n      <defs>\n       <path id=\"DejaVuSans-58\" d=\"M 403 4666 \nL 1081 4666 \nL 2241 2931 \nL 3406 4666 \nL 4084 4666 \nL 2584 2425 \nL 4184 0 \nL 3506 0 \nL 2194 1984 \nL 872 0 \nL 191 0 \nL 1856 2491 \nL 403 4666 \nz\n\" transform=\"scale(0.015625)\"/>\n      </defs>\n      <use xlink:href=\"#DejaVuSans-58\"/>\n     </g>\n    </g>\n   </g>\n   <g id=\"matplotlib.axis_2\">\n    <g id=\"ytick_1\">\n     <g id=\"line2d_6\">\n      <defs>\n       <path id=\"m03b72b0102\" d=\"M 0 0 \nL -3.5 0 \n\" style=\"stroke: #000000; stroke-width: 0.8\"/>\n      </defs>\n      <g>\n       <use xlink:href=\"#m03b72b0102\" x=\"56.50625\" y=\"288.430125\" style=\"stroke: #000000; stroke-width: 0.8\"/>\n      </g>\n     </g>\n     <g id=\"text_7\">\n      <!-- 0.000 -->\n      <g transform=\"translate(20.878125 292.229344) scale(0.1 -0.1)\">\n       <defs>\n        <path id=\"DejaVuSans-2e\" d=\"M 684 794 \nL 1344 794 \nL 1344 0 \nL 684 0 \nL 684 794 \nz\n\" transform=\"scale(0.015625)\"/>\n       </defs>\n       <use xlink:href=\"#DejaVuSans-30\"/>\n       <use xlink:href=\"#DejaVuSans-2e\" x=\"63.623047\"/>\n       <use xlink:href=\"#DejaVuSans-30\" x=\"95.410156\"/>\n       <use xlink:href=\"#DejaVuSans-30\" x=\"159.033203\"/>\n       <use xlink:href=\"#DejaVuSans-30\" x=\"222.65625\"/>\n      </g>\n     </g>\n    </g>\n    <g id=\"ytick_2\">\n     <g id=\"line2d_7\">\n      <g>\n       <use xlink:href=\"#m03b72b0102\" x=\"56.50625\" y=\"258.832173\" style=\"stroke: #000000; stroke-width: 0.8\"/>\n      </g>\n     </g>\n     <g id=\"text_8\">\n      <!-- 0.005 -->\n      <g transform=\"translate(20.878125 262.631392) scale(0.1 -0.1)\">\n       <defs>\n        <path id=\"DejaVuSans-35\" d=\"M 691 4666 \nL 3169 4666 \nL 3169 4134 \nL 1269 4134 \nL 1269 2991 \nQ 1406 3038 1543 3061 \nQ 1681 3084 1819 3084 \nQ 2600 3084 3056 2656 \nQ 3513 2228 3513 1497 \nQ 3513 744 3044 326 \nQ 2575 -91 1722 -91 \nQ 1428 -91 1123 -41 \nQ 819 9 494 109 \nL 494 744 \nQ 775 591 1075 516 \nQ 1375 441 1709 441 \nQ 2250 441 2565 725 \nQ 2881 1009 2881 1497 \nQ 2881 1984 2565 2268 \nQ 2250 2553 1709 2553 \nQ 1456 2553 1204 2497 \nQ 953 2441 691 2322 \nL 691 4666 \nz\n\" transform=\"scale(0.015625)\"/>\n       </defs>\n       <use xlink:href=\"#DejaVuSans-30\"/>\n       <use xlink:href=\"#DejaVuSans-2e\" x=\"63.623047\"/>\n       <use xlink:href=\"#DejaVuSans-30\" x=\"95.410156\"/>\n       <use xlink:href=\"#DejaVuSans-30\" x=\"159.033203\"/>\n       <use xlink:href=\"#DejaVuSans-35\" x=\"222.65625\"/>\n      </g>\n     </g>\n    </g>\n    <g id=\"ytick_3\">\n     <g id=\"line2d_8\">\n      <g>\n       <use xlink:href=\"#m03b72b0102\" x=\"56.50625\" y=\"229.234221\" style=\"stroke: #000000; stroke-width: 0.8\"/>\n      </g>\n     </g>\n     <g id=\"text_9\">\n      <!-- 0.010 -->\n      <g transform=\"translate(20.878125 233.033439) scale(0.1 -0.1)\">\n       <use xlink:href=\"#DejaVuSans-30\"/>\n       <use xlink:href=\"#DejaVuSans-2e\" x=\"63.623047\"/>\n       <use xlink:href=\"#DejaVuSans-30\" x=\"95.410156\"/>\n       <use xlink:href=\"#DejaVuSans-31\" x=\"159.033203\"/>\n       <use xlink:href=\"#DejaVuSans-30\" x=\"222.65625\"/>\n      </g>\n     </g>\n    </g>\n    <g id=\"ytick_4\">\n     <g id=\"line2d_9\">\n      <g>\n       <use xlink:href=\"#m03b72b0102\" x=\"56.50625\" y=\"199.636269\" style=\"stroke: #000000; stroke-width: 0.8\"/>\n      </g>\n     </g>\n     <g id=\"text_10\">\n      <!-- 0.015 -->\n      <g transform=\"translate(20.878125 203.435487) scale(0.1 -0.1)\">\n       <use xlink:href=\"#DejaVuSans-30\"/>\n       <use xlink:href=\"#DejaVuSans-2e\" x=\"63.623047\"/>\n       <use xlink:href=\"#DejaVuSans-30\" x=\"95.410156\"/>\n       <use xlink:href=\"#DejaVuSans-31\" x=\"159.033203\"/>\n       <use xlink:href=\"#DejaVuSans-35\" x=\"222.65625\"/>\n      </g>\n     </g>\n    </g>\n    <g id=\"ytick_5\">\n     <g id=\"line2d_10\">\n      <g>\n       <use xlink:href=\"#m03b72b0102\" x=\"56.50625\" y=\"170.038316\" style=\"stroke: #000000; stroke-width: 0.8\"/>\n      </g>\n     </g>\n     <g id=\"text_11\">\n      <!-- 0.020 -->\n      <g transform=\"translate(20.878125 173.837535) scale(0.1 -0.1)\">\n       <use xlink:href=\"#DejaVuSans-30\"/>\n       <use xlink:href=\"#DejaVuSans-2e\" x=\"63.623047\"/>\n       <use xlink:href=\"#DejaVuSans-30\" x=\"95.410156\"/>\n       <use xlink:href=\"#DejaVuSans-32\" x=\"159.033203\"/>\n       <use xlink:href=\"#DejaVuSans-30\" x=\"222.65625\"/>\n      </g>\n     </g>\n    </g>\n    <g id=\"ytick_6\">\n     <g id=\"line2d_11\">\n      <g>\n       <use xlink:href=\"#m03b72b0102\" x=\"56.50625\" y=\"140.440364\" style=\"stroke: #000000; stroke-width: 0.8\"/>\n      </g>\n     </g>\n     <g id=\"text_12\">\n      <!-- 0.025 -->\n      <g transform=\"translate(20.878125 144.239583) scale(0.1 -0.1)\">\n       <use xlink:href=\"#DejaVuSans-30\"/>\n       <use xlink:href=\"#DejaVuSans-2e\" x=\"63.623047\"/>\n       <use xlink:href=\"#DejaVuSans-30\" x=\"95.410156\"/>\n       <use xlink:href=\"#DejaVuSans-32\" x=\"159.033203\"/>\n       <use xlink:href=\"#DejaVuSans-35\" x=\"222.65625\"/>\n      </g>\n     </g>\n    </g>\n    <g id=\"ytick_7\">\n     <g id=\"line2d_12\">\n      <g>\n       <use xlink:href=\"#m03b72b0102\" x=\"56.50625\" y=\"110.842412\" style=\"stroke: #000000; stroke-width: 0.8\"/>\n      </g>\n     </g>\n     <g id=\"text_13\">\n      <!-- 0.030 -->\n      <g transform=\"translate(20.878125 114.641631) scale(0.1 -0.1)\">\n       <defs>\n        <path id=\"DejaVuSans-33\" d=\"M 2597 2516 \nQ 3050 2419 3304 2112 \nQ 3559 1806 3559 1356 \nQ 3559 666 3084 287 \nQ 2609 -91 1734 -91 \nQ 1441 -91 1130 -33 \nQ 819 25 488 141 \nL 488 750 \nQ 750 597 1062 519 \nQ 1375 441 1716 441 \nQ 2309 441 2620 675 \nQ 2931 909 2931 1356 \nQ 2931 1769 2642 2001 \nQ 2353 2234 1838 2234 \nL 1294 2234 \nL 1294 2753 \nL 1863 2753 \nQ 2328 2753 2575 2939 \nQ 2822 3125 2822 3475 \nQ 2822 3834 2567 4026 \nQ 2313 4219 1838 4219 \nQ 1578 4219 1281 4162 \nQ 984 4106 628 3988 \nL 628 4550 \nQ 988 4650 1302 4700 \nQ 1616 4750 1894 4750 \nQ 2613 4750 3031 4423 \nQ 3450 4097 3450 3541 \nQ 3450 3153 3228 2886 \nQ 3006 2619 2597 2516 \nz\n\" transform=\"scale(0.015625)\"/>\n       </defs>\n       <use xlink:href=\"#DejaVuSans-30\"/>\n       <use xlink:href=\"#DejaVuSans-2e\" x=\"63.623047\"/>\n       <use xlink:href=\"#DejaVuSans-30\" x=\"95.410156\"/>\n       <use xlink:href=\"#DejaVuSans-33\" x=\"159.033203\"/>\n       <use xlink:href=\"#DejaVuSans-30\" x=\"222.65625\"/>\n      </g>\n     </g>\n    </g>\n    <g id=\"ytick_8\">\n     <g id=\"line2d_13\">\n      <g>\n       <use xlink:href=\"#m03b72b0102\" x=\"56.50625\" y=\"81.24446\" style=\"stroke: #000000; stroke-width: 0.8\"/>\n      </g>\n     </g>\n     <g id=\"text_14\">\n      <!-- 0.035 -->\n      <g transform=\"translate(20.878125 85.043679) scale(0.1 -0.1)\">\n       <use xlink:href=\"#DejaVuSans-30\"/>\n       <use xlink:href=\"#DejaVuSans-2e\" x=\"63.623047\"/>\n       <use xlink:href=\"#DejaVuSans-30\" x=\"95.410156\"/>\n       <use xlink:href=\"#DejaVuSans-33\" x=\"159.033203\"/>\n       <use xlink:href=\"#DejaVuSans-35\" x=\"222.65625\"/>\n      </g>\n     </g>\n    </g>\n    <g id=\"ytick_9\">\n     <g id=\"line2d_14\">\n      <g>\n       <use xlink:href=\"#m03b72b0102\" x=\"56.50625\" y=\"51.646508\" style=\"stroke: #000000; stroke-width: 0.8\"/>\n      </g>\n     </g>\n     <g id=\"text_15\">\n      <!-- 0.040 -->\n      <g transform=\"translate(20.878125 55.445727) scale(0.1 -0.1)\">\n       <use xlink:href=\"#DejaVuSans-30\"/>\n       <use xlink:href=\"#DejaVuSans-2e\" x=\"63.623047\"/>\n       <use xlink:href=\"#DejaVuSans-30\" x=\"95.410156\"/>\n       <use xlink:href=\"#DejaVuSans-34\" x=\"159.033203\"/>\n       <use xlink:href=\"#DejaVuSans-30\" x=\"222.65625\"/>\n      </g>\n     </g>\n    </g>\n    <g id=\"text_16\">\n     <!-- Probability density -->\n     <g transform=\"translate(14.798438 201.724906) rotate(-90) scale(0.1 -0.1)\">\n      <defs>\n       <path id=\"DejaVuSans-50\" d=\"M 1259 4147 \nL 1259 2394 \nL 2053 2394 \nQ 2494 2394 2734 2622 \nQ 2975 2850 2975 3272 \nQ 2975 3691 2734 3919 \nQ 2494 4147 2053 4147 \nL 1259 4147 \nz\nM 628 4666 \nL 2053 4666 \nQ 2838 4666 3239 4311 \nQ 3641 3956 3641 3272 \nQ 3641 2581 3239 2228 \nQ 2838 1875 2053 1875 \nL 1259 1875 \nL 1259 0 \nL 628 0 \nL 628 4666 \nz\n\" transform=\"scale(0.015625)\"/>\n       <path id=\"DejaVuSans-72\" d=\"M 2631 2963 \nQ 2534 3019 2420 3045 \nQ 2306 3072 2169 3072 \nQ 1681 3072 1420 2755 \nQ 1159 2438 1159 1844 \nL 1159 0 \nL 581 0 \nL 581 3500 \nL 1159 3500 \nL 1159 2956 \nQ 1341 3275 1631 3429 \nQ 1922 3584 2338 3584 \nQ 2397 3584 2469 3576 \nQ 2541 3569 2628 3553 \nL 2631 2963 \nz\n\" transform=\"scale(0.015625)\"/>\n       <path id=\"DejaVuSans-6f\" d=\"M 1959 3097 \nQ 1497 3097 1228 2736 \nQ 959 2375 959 1747 \nQ 959 1119 1226 758 \nQ 1494 397 1959 397 \nQ 2419 397 2687 759 \nQ 2956 1122 2956 1747 \nQ 2956 2369 2687 2733 \nQ 2419 3097 1959 3097 \nz\nM 1959 3584 \nQ 2709 3584 3137 3096 \nQ 3566 2609 3566 1747 \nQ 3566 888 3137 398 \nQ 2709 -91 1959 -91 \nQ 1206 -91 779 398 \nQ 353 888 353 1747 \nQ 353 2609 779 3096 \nQ 1206 3584 1959 3584 \nz\n\" transform=\"scale(0.015625)\"/>\n       <path id=\"DejaVuSans-62\" d=\"M 3116 1747 \nQ 3116 2381 2855 2742 \nQ 2594 3103 2138 3103 \nQ 1681 3103 1420 2742 \nQ 1159 2381 1159 1747 \nQ 1159 1113 1420 752 \nQ 1681 391 2138 391 \nQ 2594 391 2855 752 \nQ 3116 1113 3116 1747 \nz\nM 1159 2969 \nQ 1341 3281 1617 3432 \nQ 1894 3584 2278 3584 \nQ 2916 3584 3314 3078 \nQ 3713 2572 3713 1747 \nQ 3713 922 3314 415 \nQ 2916 -91 2278 -91 \nQ 1894 -91 1617 61 \nQ 1341 213 1159 525 \nL 1159 0 \nL 581 0 \nL 581 4863 \nL 1159 4863 \nL 1159 2969 \nz\n\" transform=\"scale(0.015625)\"/>\n       <path id=\"DejaVuSans-61\" d=\"M 2194 1759 \nQ 1497 1759 1228 1600 \nQ 959 1441 959 1056 \nQ 959 750 1161 570 \nQ 1363 391 1709 391 \nQ 2188 391 2477 730 \nQ 2766 1069 2766 1631 \nL 2766 1759 \nL 2194 1759 \nz\nM 3341 1997 \nL 3341 0 \nL 2766 0 \nL 2766 531 \nQ 2569 213 2275 61 \nQ 1981 -91 1556 -91 \nQ 1019 -91 701 211 \nQ 384 513 384 1019 \nQ 384 1609 779 1909 \nQ 1175 2209 1959 2209 \nL 2766 2209 \nL 2766 2266 \nQ 2766 2663 2505 2880 \nQ 2244 3097 1772 3097 \nQ 1472 3097 1187 3025 \nQ 903 2953 641 2809 \nL 641 3341 \nQ 956 3463 1253 3523 \nQ 1550 3584 1831 3584 \nQ 2591 3584 2966 3190 \nQ 3341 2797 3341 1997 \nz\n\" transform=\"scale(0.015625)\"/>\n       <path id=\"DejaVuSans-69\" d=\"M 603 3500 \nL 1178 3500 \nL 1178 0 \nL 603 0 \nL 603 3500 \nz\nM 603 4863 \nL 1178 4863 \nL 1178 4134 \nL 603 4134 \nL 603 4863 \nz\n\" transform=\"scale(0.015625)\"/>\n       <path id=\"DejaVuSans-6c\" d=\"M 603 4863 \nL 1178 4863 \nL 1178 0 \nL 603 0 \nL 603 4863 \nz\n\" transform=\"scale(0.015625)\"/>\n       <path id=\"DejaVuSans-74\" d=\"M 1172 4494 \nL 1172 3500 \nL 2356 3500 \nL 2356 3053 \nL 1172 3053 \nL 1172 1153 \nQ 1172 725 1289 603 \nQ 1406 481 1766 481 \nL 2356 481 \nL 2356 0 \nL 1766 0 \nQ 1100 0 847 248 \nQ 594 497 594 1153 \nL 594 3053 \nL 172 3053 \nL 172 3500 \nL 594 3500 \nL 594 4494 \nL 1172 4494 \nz\n\" transform=\"scale(0.015625)\"/>\n       <path id=\"DejaVuSans-79\" d=\"M 2059 -325 \nQ 1816 -950 1584 -1140 \nQ 1353 -1331 966 -1331 \nL 506 -1331 \nL 506 -850 \nL 844 -850 \nQ 1081 -850 1212 -737 \nQ 1344 -625 1503 -206 \nL 1606 56 \nL 191 3500 \nL 800 3500 \nL 1894 763 \nL 2988 3500 \nL 3597 3500 \nL 2059 -325 \nz\n\" transform=\"scale(0.015625)\"/>\n       <path id=\"DejaVuSans-20\" transform=\"scale(0.015625)\"/>\n       <path id=\"DejaVuSans-64\" d=\"M 2906 2969 \nL 2906 4863 \nL 3481 4863 \nL 3481 0 \nL 2906 0 \nL 2906 525 \nQ 2725 213 2448 61 \nQ 2172 -91 1784 -91 \nQ 1150 -91 751 415 \nQ 353 922 353 1747 \nQ 353 2572 751 3078 \nQ 1150 3584 1784 3584 \nQ 2172 3584 2448 3432 \nQ 2725 3281 2906 2969 \nz\nM 947 1747 \nQ 947 1113 1208 752 \nQ 1469 391 1925 391 \nQ 2381 391 2643 752 \nQ 2906 1113 2906 1747 \nQ 2906 2381 2643 2742 \nQ 2381 3103 1925 3103 \nQ 1469 3103 1208 2742 \nQ 947 2381 947 1747 \nz\n\" transform=\"scale(0.015625)\"/>\n       <path id=\"DejaVuSans-65\" d=\"M 3597 1894 \nL 3597 1613 \nL 953 1613 \nQ 991 1019 1311 708 \nQ 1631 397 2203 397 \nQ 2534 397 2845 478 \nQ 3156 559 3463 722 \nL 3463 178 \nQ 3153 47 2828 -22 \nQ 2503 -91 2169 -91 \nQ 1331 -91 842 396 \nQ 353 884 353 1716 \nQ 353 2575 817 3079 \nQ 1281 3584 2069 3584 \nQ 2775 3584 3186 3129 \nQ 3597 2675 3597 1894 \nz\nM 3022 2063 \nQ 3016 2534 2758 2815 \nQ 2500 3097 2075 3097 \nQ 1594 3097 1305 2825 \nQ 1016 2553 972 2059 \nL 3022 2063 \nz\n\" transform=\"scale(0.015625)\"/>\n       <path id=\"DejaVuSans-6e\" d=\"M 3513 2113 \nL 3513 0 \nL 2938 0 \nL 2938 2094 \nQ 2938 2591 2744 2837 \nQ 2550 3084 2163 3084 \nQ 1697 3084 1428 2787 \nQ 1159 2491 1159 1978 \nL 1159 0 \nL 581 0 \nL 581 3500 \nL 1159 3500 \nL 1159 2956 \nQ 1366 3272 1645 3428 \nQ 1925 3584 2291 3584 \nQ 2894 3584 3203 3211 \nQ 3513 2838 3513 2113 \nz\n\" transform=\"scale(0.015625)\"/>\n       <path id=\"DejaVuSans-73\" d=\"M 2834 3397 \nL 2834 2853 \nQ 2591 2978 2328 3040 \nQ 2066 3103 1784 3103 \nQ 1356 3103 1142 2972 \nQ 928 2841 928 2578 \nQ 928 2378 1081 2264 \nQ 1234 2150 1697 2047 \nL 1894 2003 \nQ 2506 1872 2764 1633 \nQ 3022 1394 3022 966 \nQ 3022 478 2636 193 \nQ 2250 -91 1575 -91 \nQ 1294 -91 989 -36 \nQ 684 19 347 128 \nL 347 722 \nQ 666 556 975 473 \nQ 1284 391 1588 391 \nQ 1994 391 2212 530 \nQ 2431 669 2431 922 \nQ 2431 1156 2273 1281 \nQ 2116 1406 1581 1522 \nL 1381 1569 \nQ 847 1681 609 1914 \nQ 372 2147 372 2553 \nQ 372 3047 722 3315 \nQ 1072 3584 1716 3584 \nQ 2034 3584 2315 3537 \nQ 2597 3491 2834 3397 \nz\n\" transform=\"scale(0.015625)\"/>\n      </defs>\n      <use xlink:href=\"#DejaVuSans-50\"/>\n      <use xlink:href=\"#DejaVuSans-72\" x=\"58.552734\"/>\n      <use xlink:href=\"#DejaVuSans-6f\" x=\"97.416016\"/>\n      <use xlink:href=\"#DejaVuSans-62\" x=\"158.597656\"/>\n      <use xlink:href=\"#DejaVuSans-61\" x=\"222.074219\"/>\n      <use xlink:href=\"#DejaVuSans-62\" x=\"283.353516\"/>\n      <use xlink:href=\"#DejaVuSans-69\" x=\"346.830078\"/>\n      <use xlink:href=\"#DejaVuSans-6c\" x=\"374.613281\"/>\n      <use xlink:href=\"#DejaVuSans-69\" x=\"402.396484\"/>\n      <use xlink:href=\"#DejaVuSans-74\" x=\"430.179688\"/>\n      <use xlink:href=\"#DejaVuSans-79\" x=\"469.388672\"/>\n      <use xlink:href=\"#DejaVuSans-20\" x=\"528.568359\"/>\n      <use xlink:href=\"#DejaVuSans-64\" x=\"560.355469\"/>\n      <use xlink:href=\"#DejaVuSans-65\" x=\"623.832031\"/>\n      <use xlink:href=\"#DejaVuSans-6e\" x=\"685.355469\"/>\n      <use xlink:href=\"#DejaVuSans-73\" x=\"748.734375\"/>\n      <use xlink:href=\"#DejaVuSans-69\" x=\"800.833984\"/>\n      <use xlink:href=\"#DejaVuSans-74\" x=\"828.617188\"/>\n      <use xlink:href=\"#DejaVuSans-79\" x=\"867.826172\"/>\n     </g>\n    </g>\n   </g>\n   <g id=\"line2d_15\">\n    <path d=\"M 72.738977 286.780898 \nL 77.811705 286.235134 \nL 82.884432 285.535681 \nL 87.957159 284.648506 \nL 93.029886 283.534923 \nL 98.102614 282.1518 \nL 103.175341 280.452068 \nL 108.248068 278.385568 \nL 113.320795 275.90031 \nL 118.393523 272.944142 \nL 123.46625 269.466858 \nL 128.538977 265.422713 \nL 133.611705 260.773281 \nL 138.684432 255.49057 \nL 143.757159 249.560255 \nL 148.829886 242.984855 \nL 153.902614 235.786653 \nL 158.975341 228.010139 \nL 164.048068 219.723762 \nL 169.120795 211.020753 \nL 174.193523 202.018858 \nL 179.26625 192.858835 \nL 184.338977 183.701652 \nL 189.411705 174.724398 \nL 194.484432 166.115002 \nL 199.557159 158.065963 \nL 204.629886 150.767348 \nL 209.702614 144.399422 \nL 214.775341 139.125287 \nL 219.848068 135.083957 \nL 224.920795 132.384276 \nL 229.993523 131.100046 \nL 235.06625 131.266678 \nL 240.138977 132.879566 \nL 245.211705 135.8943 \nL 250.284432 140.2287 \nL 255.357159 145.766534 \nL 260.429886 152.3627 \nL 265.502614 159.84953 \nL 270.575341 168.04386 \nL 275.648068 176.754422 \nL 280.720795 185.789167 \nL 285.793523 194.962126 \nL 290.86625 204.099476 \nL 295.938977 213.044562 \nL 301.011705 221.661694 \nL 306.084432 229.838654 \nL 311.157159 237.487903 \nL 316.229886 244.54659 \nL 321.302614 250.975489 \nL 326.375341 256.757081 \nL 331.448068 261.892976 \nL 336.520795 266.400912 \nL 341.593523 270.311554 \nL 346.66625 273.665272 \nL 351.738977 276.509073 \nL 356.811705 278.893817 \nL 361.884432 280.871788 \nL 366.957159 282.494692 \nL 372.029886 283.812073 \nL 377.102614 284.870162 \nL 382.175341 285.711105 \nL 387.248068 286.372531 \nL 392.320795 286.887405 \nL 397.393523 287.284098 \n\" clip-path=\"url(#pb588122a3a)\" style=\"fill: none; stroke-dasharray: 5.55,2.4; stroke-dashoffset: 0; stroke: #ff7f0e; stroke-width: 1.5\"/>\n   </g>\n   <g id=\"patch_67\">\n    <path d=\"M 56.50625 288.430125 \nL 56.50625 22.318125 \n\" style=\"fill: none; stroke: #000000; stroke-width: 0.8; stroke-linejoin: miter; stroke-linecap: square\"/>\n   </g>\n   <g id=\"patch_68\">\n    <path d=\"M 413.62625 288.430125 \nL 413.62625 22.318125 \n\" style=\"fill: none; stroke: #000000; stroke-width: 0.8; stroke-linejoin: miter; stroke-linecap: square\"/>\n   </g>\n   <g id=\"patch_69\">\n    <path d=\"M 56.50625 288.430125 \nL 413.62625 288.430125 \n\" style=\"fill: none; stroke: #000000; stroke-width: 0.8; stroke-linejoin: miter; stroke-linecap: square\"/>\n   </g>\n   <g id=\"patch_70\">\n    <path d=\"M 56.50625 22.318125 \nL 413.62625 22.318125 \n\" style=\"fill: none; stroke: #000000; stroke-width: 0.8; stroke-linejoin: miter; stroke-linecap: square\"/>\n   </g>\n   <g id=\"text_17\">\n    <!-- Histogram with: mu=100, sigma=15, bins=64 -->\n    <g transform=\"translate(95.770625 16.318125) scale(0.12 -0.12)\">\n     <defs>\n      <path id=\"DejaVuSans-48\" d=\"M 628 4666 \nL 1259 4666 \nL 1259 2753 \nL 3553 2753 \nL 3553 4666 \nL 4184 4666 \nL 4184 0 \nL 3553 0 \nL 3553 2222 \nL 1259 2222 \nL 1259 0 \nL 628 0 \nL 628 4666 \nz\n\" transform=\"scale(0.015625)\"/>\n      <path id=\"DejaVuSans-67\" d=\"M 2906 1791 \nQ 2906 2416 2648 2759 \nQ 2391 3103 1925 3103 \nQ 1463 3103 1205 2759 \nQ 947 2416 947 1791 \nQ 947 1169 1205 825 \nQ 1463 481 1925 481 \nQ 2391 481 2648 825 \nQ 2906 1169 2906 1791 \nz\nM 3481 434 \nQ 3481 -459 3084 -895 \nQ 2688 -1331 1869 -1331 \nQ 1566 -1331 1297 -1286 \nQ 1028 -1241 775 -1147 \nL 775 -588 \nQ 1028 -725 1275 -790 \nQ 1522 -856 1778 -856 \nQ 2344 -856 2625 -561 \nQ 2906 -266 2906 331 \nL 2906 616 \nQ 2728 306 2450 153 \nQ 2172 0 1784 0 \nQ 1141 0 747 490 \nQ 353 981 353 1791 \nQ 353 2603 747 3093 \nQ 1141 3584 1784 3584 \nQ 2172 3584 2450 3431 \nQ 2728 3278 2906 2969 \nL 2906 3500 \nL 3481 3500 \nL 3481 434 \nz\n\" transform=\"scale(0.015625)\"/>\n      <path id=\"DejaVuSans-6d\" d=\"M 3328 2828 \nQ 3544 3216 3844 3400 \nQ 4144 3584 4550 3584 \nQ 5097 3584 5394 3201 \nQ 5691 2819 5691 2113 \nL 5691 0 \nL 5113 0 \nL 5113 2094 \nQ 5113 2597 4934 2840 \nQ 4756 3084 4391 3084 \nQ 3944 3084 3684 2787 \nQ 3425 2491 3425 1978 \nL 3425 0 \nL 2847 0 \nL 2847 2094 \nQ 2847 2600 2669 2842 \nQ 2491 3084 2119 3084 \nQ 1678 3084 1418 2786 \nQ 1159 2488 1159 1978 \nL 1159 0 \nL 581 0 \nL 581 3500 \nL 1159 3500 \nL 1159 2956 \nQ 1356 3278 1631 3431 \nQ 1906 3584 2284 3584 \nQ 2666 3584 2933 3390 \nQ 3200 3197 3328 2828 \nz\n\" transform=\"scale(0.015625)\"/>\n      <path id=\"DejaVuSans-77\" d=\"M 269 3500 \nL 844 3500 \nL 1563 769 \nL 2278 3500 \nL 2956 3500 \nL 3675 769 \nL 4391 3500 \nL 4966 3500 \nL 4050 0 \nL 3372 0 \nL 2619 2869 \nL 1863 0 \nL 1184 0 \nL 269 3500 \nz\n\" transform=\"scale(0.015625)\"/>\n      <path id=\"DejaVuSans-68\" d=\"M 3513 2113 \nL 3513 0 \nL 2938 0 \nL 2938 2094 \nQ 2938 2591 2744 2837 \nQ 2550 3084 2163 3084 \nQ 1697 3084 1428 2787 \nQ 1159 2491 1159 1978 \nL 1159 0 \nL 581 0 \nL 581 4863 \nL 1159 4863 \nL 1159 2956 \nQ 1366 3272 1645 3428 \nQ 1925 3584 2291 3584 \nQ 2894 3584 3203 3211 \nQ 3513 2838 3513 2113 \nz\n\" transform=\"scale(0.015625)\"/>\n      <path id=\"DejaVuSans-3a\" d=\"M 750 794 \nL 1409 794 \nL 1409 0 \nL 750 0 \nL 750 794 \nz\nM 750 3309 \nL 1409 3309 \nL 1409 2516 \nL 750 2516 \nL 750 3309 \nz\n\" transform=\"scale(0.015625)\"/>\n      <path id=\"DejaVuSans-75\" d=\"M 544 1381 \nL 544 3500 \nL 1119 3500 \nL 1119 1403 \nQ 1119 906 1312 657 \nQ 1506 409 1894 409 \nQ 2359 409 2629 706 \nQ 2900 1003 2900 1516 \nL 2900 3500 \nL 3475 3500 \nL 3475 0 \nL 2900 0 \nL 2900 538 \nQ 2691 219 2414 64 \nQ 2138 -91 1772 -91 \nQ 1169 -91 856 284 \nQ 544 659 544 1381 \nz\nM 1991 3584 \nL 1991 3584 \nz\n\" transform=\"scale(0.015625)\"/>\n      <path id=\"DejaVuSans-3d\" d=\"M 678 2906 \nL 4684 2906 \nL 4684 2381 \nL 678 2381 \nL 678 2906 \nz\nM 678 1631 \nL 4684 1631 \nL 4684 1100 \nL 678 1100 \nL 678 1631 \nz\n\" transform=\"scale(0.015625)\"/>\n      <path id=\"DejaVuSans-2c\" d=\"M 750 794 \nL 1409 794 \nL 1409 256 \nL 897 -744 \nL 494 -744 \nL 750 256 \nL 750 794 \nz\n\" transform=\"scale(0.015625)\"/>\n     </defs>\n     <use xlink:href=\"#DejaVuSans-48\"/>\n     <use xlink:href=\"#DejaVuSans-69\" x=\"75.195312\"/>\n     <use xlink:href=\"#DejaVuSans-73\" x=\"102.978516\"/>\n     <use xlink:href=\"#DejaVuSans-74\" x=\"155.078125\"/>\n     <use xlink:href=\"#DejaVuSans-6f\" x=\"194.287109\"/>\n     <use xlink:href=\"#DejaVuSans-67\" x=\"255.46875\"/>\n     <use xlink:href=\"#DejaVuSans-72\" x=\"318.945312\"/>\n     <use xlink:href=\"#DejaVuSans-61\" x=\"360.058594\"/>\n     <use xlink:href=\"#DejaVuSans-6d\" x=\"421.337891\"/>\n     <use xlink:href=\"#DejaVuSans-20\" x=\"518.75\"/>\n     <use xlink:href=\"#DejaVuSans-77\" x=\"550.537109\"/>\n     <use xlink:href=\"#DejaVuSans-69\" x=\"632.324219\"/>\n     <use xlink:href=\"#DejaVuSans-74\" x=\"660.107422\"/>\n     <use xlink:href=\"#DejaVuSans-68\" x=\"699.316406\"/>\n     <use xlink:href=\"#DejaVuSans-3a\" x=\"762.695312\"/>\n     <use xlink:href=\"#DejaVuSans-20\" x=\"796.386719\"/>\n     <use xlink:href=\"#DejaVuSans-6d\" x=\"828.173828\"/>\n     <use xlink:href=\"#DejaVuSans-75\" x=\"925.585938\"/>\n     <use xlink:href=\"#DejaVuSans-3d\" x=\"988.964844\"/>\n     <use xlink:href=\"#DejaVuSans-31\" x=\"1072.753906\"/>\n     <use xlink:href=\"#DejaVuSans-30\" x=\"1136.376953\"/>\n     <use xlink:href=\"#DejaVuSans-30\" x=\"1200\"/>\n     <use xlink:href=\"#DejaVuSans-2c\" x=\"1263.623047\"/>\n     <use xlink:href=\"#DejaVuSans-20\" x=\"1295.410156\"/>\n     <use xlink:href=\"#DejaVuSans-73\" x=\"1327.197266\"/>\n     <use xlink:href=\"#DejaVuSans-69\" x=\"1379.296875\"/>\n     <use xlink:href=\"#DejaVuSans-67\" x=\"1407.080078\"/>\n     <use xlink:href=\"#DejaVuSans-6d\" x=\"1470.556641\"/>\n     <use xlink:href=\"#DejaVuSans-61\" x=\"1567.96875\"/>\n     <use xlink:href=\"#DejaVuSans-3d\" x=\"1629.248047\"/>\n     <use xlink:href=\"#DejaVuSans-31\" x=\"1713.037109\"/>\n     <use xlink:href=\"#DejaVuSans-35\" x=\"1776.660156\"/>\n     <use xlink:href=\"#DejaVuSans-2c\" x=\"1840.283203\"/>\n     <use xlink:href=\"#DejaVuSans-20\" x=\"1872.070312\"/>\n     <use xlink:href=\"#DejaVuSans-62\" x=\"1903.857422\"/>\n     <use xlink:href=\"#DejaVuSans-69\" x=\"1967.333984\"/>\n     <use xlink:href=\"#DejaVuSans-6e\" x=\"1995.117188\"/>\n     <use xlink:href=\"#DejaVuSans-73\" x=\"2058.496094\"/>\n     <use xlink:href=\"#DejaVuSans-3d\" x=\"2110.595703\"/>\n     <use xlink:href=\"#DejaVuSans-36\" x=\"2194.384766\"/>\n     <use xlink:href=\"#DejaVuSans-34\" x=\"2258.007812\"/>\n    </g>\n   </g>\n  </g>\n </g>\n <defs>\n  <clipPath id=\"pb588122a3a\">\n   <rect x=\"56.50625\" y=\"22.318125\" width=\"357.12\" height=\"266.112\"/>\n  </clipPath>\n </defs>\n</svg>\n",
          "text/plain": "<Figure size 640x480 with 1 Axes>"
         },
         "metadata": {},
         "output_type": "display_data"
        }
       ]
      }
     },
     "158040a20d8e455baa90e96fd222c207": {
      "model_module": "@jupyter-widgets/controls",
      "model_module_version": "2.0.0",
      "model_name": "SliderStyleModel",
      "state": {
       "description_width": ""
      }
     },
     "16a47aac89ba46d8ad8f604dd48df90f": {
      "model_module": "@jupyter-widgets/controls",
      "model_module_version": "2.0.0",
      "model_name": "HBoxModel",
      "state": {
       "children": [
        "IPY_MODEL_edcdc9cec4014e93a137d0956a76b689",
        "IPY_MODEL_0644fde69cf24b17807e90e816099fbe"
       ],
       "layout": "IPY_MODEL_13909243f311474d90e1b804d30a6421"
      }
     },
     "188cae1178f343a3924eb2c2a88302f7": {
      "model_module": "@jupyter-widgets/controls",
      "model_module_version": "2.0.0",
      "model_name": "SliderStyleModel",
      "state": {
       "description_width": ""
      }
     },
     "19777c6c74124ea89dcdd7e94fe51c63": {
      "model_module": "@jupyter-widgets/controls",
      "model_module_version": "2.0.0",
      "model_name": "LabelStyleModel",
      "state": {
       "description_width": "",
       "font_family": null,
       "font_size": null,
       "font_style": null,
       "font_variant": null,
       "font_weight": null,
       "text_color": null,
       "text_decoration": null
      }
     },
     "1b6f1cf23e1140968e828324a991ca22": {
      "model_module": "@jupyter-widgets/controls",
      "model_module_version": "2.0.0",
      "model_name": "SliderStyleModel",
      "state": {
       "description_width": ""
      }
     },
     "1bcf395897ad4e1fb29b4e77ca15c034": {
      "model_module": "@jupyter-widgets/controls",
      "model_module_version": "2.0.0",
      "model_name": "DirectionalLinkModel",
      "state": {
       "source": [
        "IPY_MODEL_9c9fbeb71712461580803f2a8ce902c1",
        "value"
       ],
       "target": [
        "IPY_MODEL_90ae2973edd345a9acb7df8585467d7b",
        "max"
       ]
      }
     },
     "1d643115e0604e56b3178bef3690e96a": {
      "model_module": "@jupyter-widgets/controls",
      "model_module_version": "2.0.0",
      "model_name": "SliderStyleModel",
      "state": {
       "description_width": ""
      }
     },
     "1dbcfb1dbd644a7688cd5a7b39efc3ef": {
      "model_module": "@jupyter-widgets/controls",
      "model_module_version": "2.0.0",
      "model_name": "IntSliderModel",
      "state": {
       "behavior": "drag-tap",
       "layout": "IPY_MODEL_5279354223ac4e73a87ecd9fc0da73d2",
       "min": 1,
       "style": "IPY_MODEL_188cae1178f343a3924eb2c2a88302f7",
       "value": 50
      }
     },
     "22055a30b21e40b5b51060803ecae1d0": {
      "model_module": "@jupyter-widgets/controls",
      "model_module_version": "2.0.0",
      "model_name": "VBoxModel",
      "state": {
       "children": [
        "IPY_MODEL_9c9fbeb71712461580803f2a8ce902c1",
        "IPY_MODEL_90ae2973edd345a9acb7df8585467d7b",
        "IPY_MODEL_e89d0838326f4cca89a768785ad71969"
       ],
       "layout": "IPY_MODEL_fc72987d5f634b4bae9c8e42321421ed"
      }
     },
     "231b351b64e347a98088fd43219415c0": {
      "model_module": "@jupyter-widgets/controls",
      "model_module_version": "2.0.0",
      "model_name": "SliderStyleModel",
      "state": {
       "description_width": ""
      }
     },
     "23a980edb15741bbb20afad020d079bf": {
      "model_module": "@jupyter-widgets/controls",
      "model_module_version": "2.0.0",
      "model_name": "IntSliderModel",
      "state": {
       "behavior": "drag-tap",
       "layout": "IPY_MODEL_e58ddedb04b74c899012103894081a5d",
       "style": "IPY_MODEL_fd29e273bbc04733895781c6d23d15fa"
      }
     },
     "23d368f74d23471ebca7995f92c85633": {
      "model_module": "@jupyter-widgets/controls",
      "model_module_version": "2.0.0",
      "model_name": "IntSliderModel",
      "state": {
       "behavior": "drag-tap",
       "layout": "IPY_MODEL_33e297ed37a54c3d8efc760475da93ac",
       "min": 1,
       "style": "IPY_MODEL_231b351b64e347a98088fd43219415c0",
       "value": 50
      }
     },
     "250c662fb34b46a0a7ca6a64444dab3c": {
      "model_module": "@jupyter-widgets/base",
      "model_module_version": "2.0.0",
      "model_name": "LayoutModel",
      "state": {}
     },
     "272ed322b13644ed9d02a999a037ebe0": {
      "model_module": "@jupyter-widgets/controls",
      "model_module_version": "2.0.0",
      "model_name": "VBoxModel",
      "state": {
       "children": [
        "IPY_MODEL_53aacd1fea45471989ece90975a3d65f",
        "IPY_MODEL_e501fabfe4464c7abb11de28cd68686c",
        "IPY_MODEL_80194bf766284341810f0ef4a8ee64d1",
        "IPY_MODEL_f1ee8825e9b04c6fa7684375d3aba405",
        "IPY_MODEL_934c149472994091b4a1d379ae8d64bb",
        "IPY_MODEL_23d368f74d23471ebca7995f92c85633"
       ],
       "layout": "IPY_MODEL_525c9ae1364c4fb6a9a8346e49d5ddb4"
      }
     },
     "2b1319a44eaa4f2194fea73792b4bb00": {
      "model_module": "@jupyter-widgets/base",
      "model_module_version": "2.0.0",
      "model_name": "LayoutModel",
      "state": {}
     },
     "2b993709d1c348239e8690812d0cc4a2": {
      "model_module": "@jupyter-widgets/base",
      "model_module_version": "2.0.0",
      "model_name": "LayoutModel",
      "state": {}
     },
     "2cc09171d5a34da38da0056389dbf8a7": {
      "model_module": "@jupyter-widgets/controls",
      "model_module_version": "2.0.0",
      "model_name": "LabelStyleModel",
      "state": {
       "description_width": "",
       "font_family": null,
       "font_size": null,
       "font_style": null,
       "font_variant": null,
       "font_weight": null,
       "text_color": null,
       "text_decoration": null
      }
     },
     "2d512070d1b24e85b608cc315b9b06e5": {
      "model_module": "@jupyter-widgets/base",
      "model_module_version": "2.0.0",
      "model_name": "LayoutModel",
      "state": {}
     },
     "2ecdc6b35ce64f63b3db37ec5cd62c2e": {
      "model_module": "@jupyter-widgets/controls",
      "model_module_version": "2.0.0",
      "model_name": "IntSliderModel",
      "state": {
       "behavior": "drag-tap",
       "layout": "IPY_MODEL_0aa428c8a34445d29e2373507254d286",
       "style": "IPY_MODEL_1b6f1cf23e1140968e828324a991ca22"
      }
     },
     "2f32098334cf4e6f86e37255c1187862": {
      "model_module": "@jupyter-widgets/controls",
      "model_module_version": "2.0.0",
      "model_name": "IntSliderModel",
      "state": {
       "behavior": "drag-tap",
       "layout": "IPY_MODEL_10a6f02e80994874a577050a195ee644",
       "style": "IPY_MODEL_810add7fae4247f8b9d8d5dc5e5f5305",
       "value": 31
      }
     },
     "30f8b0994aa24e05b213b6bb528e50d7": {
      "model_module": "@jupyter-widgets/controls",
      "model_module_version": "2.0.0",
      "model_name": "VBoxModel",
      "state": {
       "children": [
        "IPY_MODEL_052aafc149c9443393493429432b8fa3",
        "IPY_MODEL_ac2a035937a440d98d28ebd5e60c97cb",
        "IPY_MODEL_a3fe15b38218423e8925de3f10b837fa",
        "IPY_MODEL_3f371b486bfb47079c32ad9895b600d0",
        "IPY_MODEL_f1aded904acc49a0b2f21e82c4a24ee3",
        "IPY_MODEL_1dbcfb1dbd644a7688cd5a7b39efc3ef"
       ],
       "layout": "IPY_MODEL_a2f8aff90f0546aa9e86560db1d76793"
      }
     },
     "33e297ed37a54c3d8efc760475da93ac": {
      "model_module": "@jupyter-widgets/base",
      "model_module_version": "2.0.0",
      "model_name": "LayoutModel",
      "state": {}
     },
     "37b78040b36148b1ae29c79577d36990": {
      "model_module": "@jupyter-widgets/controls",
      "model_module_version": "2.0.0",
      "model_name": "SliderStyleModel",
      "state": {
       "description_width": ""
      }
     },
     "3887752ecd0f4c25a1ce63661fd1727f": {
      "model_module": "@jupyter-widgets/base",
      "model_module_version": "2.0.0",
      "model_name": "LayoutModel",
      "state": {}
     },
     "38bd74bc77f44f0eba1f2bc98c0b7626": {
      "model_module": "@jupyter-widgets/controls",
      "model_module_version": "2.0.0",
      "model_name": "IntSliderModel",
      "state": {
       "behavior": "drag-tap",
       "layout": "IPY_MODEL_ce49df1663e3409e90b074a9d9e94655",
       "style": "IPY_MODEL_1d643115e0604e56b3178bef3690e96a"
      }
     },
     "3c6d9602e97140399cab43de6434119b": {
      "model_module": "@jupyter-widgets/controls",
      "model_module_version": "2.0.0",
      "model_name": "DescriptionStyleModel",
      "state": {
       "description_width": ""
      }
     },
     "3c7e42f6cead4eb98b3b268837a8b341": {
      "model_module": "@jupyter-widgets/controls",
      "model_module_version": "2.0.0",
      "model_name": "ButtonStyleModel",
      "state": {
       "font_family": null,
       "font_size": null,
       "font_style": null,
       "font_variant": null,
       "font_weight": null,
       "text_color": null,
       "text_decoration": null
      }
     },
     "3ce67b28b4a84664856f09e88d9beacc": {
      "model_module": "@jupyter-widgets/controls",
      "model_module_version": "2.0.0",
      "model_name": "VBoxModel",
      "state": {
       "children": [
        "IPY_MODEL_a10981d9eec94513a220931acc1f3595",
        "IPY_MODEL_2ecdc6b35ce64f63b3db37ec5cd62c2e"
       ],
       "layout": "IPY_MODEL_76ef3e66a26d45df9898d279007acb44"
      }
     },
     "3f371b486bfb47079c32ad9895b600d0": {
      "model_module": "@jupyter-widgets/controls",
      "model_module_version": "2.0.0",
      "model_name": "BoundedIntTextModel",
      "state": {
       "layout": "IPY_MODEL_3f842fa43a93457db7a1b6fc1333d93b",
       "max": 50,
       "min": 10,
       "style": "IPY_MODEL_3c6d9602e97140399cab43de6434119b",
       "value": 15
      }
     },
     "3f842fa43a93457db7a1b6fc1333d93b": {
      "model_module": "@jupyter-widgets/base",
      "model_module_version": "2.0.0",
      "model_name": "LayoutModel",
      "state": {}
     },
     "409c05a57ffd43f7bae4a856f00c5928": {
      "model_module": "@jupyter-widgets/base",
      "model_module_version": "2.0.0",
      "model_name": "LayoutModel",
      "state": {}
     },
     "418f4e4aa9624c22a9ddf071bac63e59": {
      "model_module": "@jupyter-widgets/base",
      "model_module_version": "2.0.0",
      "model_name": "LayoutModel",
      "state": {}
     },
     "4200b924fb49423aa18d627c893c67c2": {
      "model_module": "@jupyter-widgets/controls",
      "model_module_version": "2.0.0",
      "model_name": "SliderStyleModel",
      "state": {
       "description_width": ""
      }
     },
     "43be9145ff964d08a95ff76e9b5636e5": {
      "model_module": "@jupyter-widgets/base",
      "model_module_version": "2.0.0",
      "model_name": "LayoutModel",
      "state": {}
     },
     "4824f0bebbb14bfab3f9af1100881c0c": {
      "model_module": "@jupyter-widgets/base",
      "model_module_version": "2.0.0",
      "model_name": "LayoutModel",
      "state": {}
     },
     "4c5c2eb496624572bc3c834aa36d99fb": {
      "model_module": "@jupyter-widgets/controls",
      "model_module_version": "2.0.0",
      "model_name": "LabelStyleModel",
      "state": {
       "description_width": "",
       "font_family": null,
       "font_size": null,
       "font_style": null,
       "font_variant": null,
       "font_weight": null,
       "text_color": null,
       "text_decoration": null
      }
     },
     "4cbac8348fa7419eba7d336f1374bcf7": {
      "model_module": "@jupyter-widgets/output",
      "model_module_version": "1.0.0",
      "model_name": "OutputModel",
      "state": {
       "layout": "IPY_MODEL_a0be8bc4c67d4677a6ac174c74453973",
       "outputs": [
        {
         "name": "stdout",
         "output_type": "stream",
         "text": "0 * 0 = 0\n"
        }
       ]
      }
     },
     "4d0c0b58fd0c4984bb537bafdb03af16": {
      "model_module": "@jupyter-widgets/base",
      "model_module_version": "2.0.0",
      "model_name": "LayoutModel",
      "state": {}
     },
     "4dfd7d8627db413795aadd37ded351d2": {
      "model_module": "@jupyter-widgets/base",
      "model_module_version": "2.0.0",
      "model_name": "LayoutModel",
      "state": {}
     },
     "50f425ef28bc4278b4d11d61b20dd33d": {
      "model_module": "@jupyter-widgets/base",
      "model_module_version": "2.0.0",
      "model_name": "LayoutModel",
      "state": {}
     },
     "517b07ea190c423cb9573cc8df9f52f1": {
      "model_module": "@jupyter-widgets/controls",
      "model_module_version": "2.0.0",
      "model_name": "IntSliderModel",
      "state": {
       "behavior": "drag-tap",
       "layout": "IPY_MODEL_4824f0bebbb14bfab3f9af1100881c0c",
       "style": "IPY_MODEL_37b78040b36148b1ae29c79577d36990"
      }
     },
     "525c9ae1364c4fb6a9a8346e49d5ddb4": {
      "model_module": "@jupyter-widgets/base",
      "model_module_version": "2.0.0",
      "model_name": "LayoutModel",
      "state": {}
     },
     "5279354223ac4e73a87ecd9fc0da73d2": {
      "model_module": "@jupyter-widgets/base",
      "model_module_version": "2.0.0",
      "model_name": "LayoutModel",
      "state": {}
     },
     "53aacd1fea45471989ece90975a3d65f": {
      "model_module": "@jupyter-widgets/controls",
      "model_module_version": "2.0.0",
      "model_name": "LabelModel",
      "state": {
       "layout": "IPY_MODEL_ca313a99f17b4da78ca224d86e85aa72",
       "style": "IPY_MODEL_4c5c2eb496624572bc3c834aa36d99fb",
       "value": "Mean:"
      }
     },
     "54807f78810346e0935a7f342a278909": {
      "model_module": "@jupyter-widgets/controls",
      "model_module_version": "2.0.0",
      "model_name": "LabelStyleModel",
      "state": {
       "description_width": "",
       "font_family": null,
       "font_size": null,
       "font_style": null,
       "font_variant": null,
       "font_weight": null,
       "text_color": null,
       "text_decoration": null
      }
     },
     "5506432a78d8497f88efabe47be5b55d": {
      "model_module": "@jupyter-widgets/controls",
      "model_module_version": "2.0.0",
      "model_name": "IntSliderModel",
      "state": {
       "behavior": "drag-tap",
       "layout": "IPY_MODEL_81c253e17e2d40d583224e149866e341",
       "style": "IPY_MODEL_6ccf1078381e4767ab327523a6219001",
       "value": 43
      }
     },
     "55e9df0b330e40d6878caceda84c1011": {
      "model_module": "@jupyter-widgets/controls",
      "model_module_version": "2.0.0",
      "model_name": "VBoxModel",
      "state": {
       "children": [
        "IPY_MODEL_576807e8d4114b698f65200a0bdd4938",
        "IPY_MODEL_810c40e03c8f4a3bbb089c2ab924856b",
        "IPY_MODEL_e2c7f8158fde42ffb2d4cc414b9fd50d",
        "IPY_MODEL_d2fee471ff244fa284dd2b01263a7768",
        "IPY_MODEL_fba8c1fb6a214827888d7516baf01c5b",
        "IPY_MODEL_0aa630e589124320bb431b78f9f468c2"
       ],
       "layout": "IPY_MODEL_fe52d2bd158c42998f8e5a3f48150a5e"
      }
     },
     "576807e8d4114b698f65200a0bdd4938": {
      "model_module": "@jupyter-widgets/controls",
      "model_module_version": "2.0.0",
      "model_name": "LabelModel",
      "state": {
       "layout": "IPY_MODEL_d397bd082b9e49d0b78067b0a42f8b0d",
       "style": "IPY_MODEL_7ee0f06b0b4d448493668669a990e1e3",
       "value": "Mean:"
      }
     },
     "57abc7afe6d547b78ae45c8aa92879e9": {
      "model_module": "@jupyter-widgets/controls",
      "model_module_version": "2.0.0",
      "model_name": "SliderStyleModel",
      "state": {
       "description_width": ""
      }
     },
     "59024a4b36c547d2acab9e635401ebaf": {
      "model_module": "@jupyter-widgets/controls",
      "model_module_version": "2.0.0",
      "model_name": "VBoxModel",
      "state": {
       "children": [
        "IPY_MODEL_622273d939bb4756bd1f840489ae686c",
        "IPY_MODEL_a335d0a5ebb54e9ca0d0b888417efebe"
       ],
       "layout": "IPY_MODEL_87b0a987fec44b38a6e804467b753af8"
      }
     },
     "5e183486740346d68db3e295fea2e80c": {
      "model_module": "@jupyter-widgets/controls",
      "model_module_version": "2.0.0",
      "model_name": "DescriptionStyleModel",
      "state": {
       "description_width": ""
      }
     },
     "5ebadf6e66304096bbaf50f610d3a9b2": {
      "model_module": "@jupyter-widgets/base",
      "model_module_version": "2.0.0",
      "model_name": "LayoutModel",
      "state": {}
     },
     "61c4d01df6b74bfa907add12020722f5": {
      "model_module": "@jupyter-widgets/controls",
      "model_module_version": "2.0.0",
      "model_name": "IntSliderModel",
      "state": {
       "behavior": "drag-tap",
       "layout": "IPY_MODEL_9f13d02bf53e4d4fb073bc21762d18f1",
       "max": 200,
       "style": "IPY_MODEL_e7d0182156a342ef8e8b42ba29a5c9c9",
       "value": 100
      }
     },
     "622273d939bb4756bd1f840489ae686c": {
      "model_module": "@jupyter-widgets/controls",
      "model_module_version": "2.0.0",
      "model_name": "IntSliderModel",
      "state": {
       "behavior": "drag-tap",
       "layout": "IPY_MODEL_e44806103bb64f3187de1a62e663c139",
       "style": "IPY_MODEL_ce16642c3f144e3bafb45549d5060434"
      }
     },
     "6299c257462040919b6ca304581227b9": {
      "model_module": "@jupyter-widgets/controls",
      "model_module_version": "2.0.0",
      "model_name": "SliderStyleModel",
      "state": {
       "description_width": ""
      }
     },
     "6afdc2f13c8a4b24a72842e22d0a6794": {
      "model_module": "@jupyter-widgets/base",
      "model_module_version": "2.0.0",
      "model_name": "LayoutModel",
      "state": {}
     },
     "6b24c3fb10fd474e944ce58d94ca4439": {
      "model_module": "@jupyter-widgets/controls",
      "model_module_version": "2.0.0",
      "model_name": "LabelStyleModel",
      "state": {
       "description_width": "",
       "font_family": null,
       "font_size": null,
       "font_style": null,
       "font_variant": null,
       "font_weight": null,
       "text_color": null,
       "text_decoration": null
      }
     },
     "6b4ce454804d480d902db8187ab703c1": {
      "model_module": "@jupyter-widgets/controls",
      "model_module_version": "2.0.0",
      "model_name": "VBoxModel",
      "state": {
       "children": [
        "IPY_MODEL_38bd74bc77f44f0eba1f2bc98c0b7626",
        "IPY_MODEL_23a980edb15741bbb20afad020d079bf"
       ],
       "layout": "IPY_MODEL_b4c1c32d22ba4136bf39e0c2b0458e72"
      }
     },
     "6ccf1078381e4767ab327523a6219001": {
      "model_module": "@jupyter-widgets/controls",
      "model_module_version": "2.0.0",
      "model_name": "SliderStyleModel",
      "state": {
       "description_width": ""
      }
     },
     "72c6a5a5baca40d086edbaa2fbf74782": {
      "model_module": "@jupyter-widgets/base",
      "model_module_version": "2.0.0",
      "model_name": "LayoutModel",
      "state": {}
     },
     "7428d16aaa45428ab83f17ebea20d5b9": {
      "model_module": "@jupyter-widgets/controls",
      "model_module_version": "2.0.0",
      "model_name": "VBoxModel",
      "state": {
       "children": [
        "IPY_MODEL_abd951fe4faa4298a4dc4696efaf136e",
        "IPY_MODEL_830cedca750e4d96a3a12a82dc291c5f"
       ],
       "layout": "IPY_MODEL_72c6a5a5baca40d086edbaa2fbf74782"
      }
     },
     "762fa7d1170d4abdb440de99b39ffb21": {
      "model_module": "@jupyter-widgets/base",
      "model_module_version": "2.0.0",
      "model_name": "LayoutModel",
      "state": {}
     },
     "76ef3e66a26d45df9898d279007acb44": {
      "model_module": "@jupyter-widgets/base",
      "model_module_version": "2.0.0",
      "model_name": "LayoutModel",
      "state": {}
     },
     "7798bcbbff744757825c311f8dbfe073": {
      "model_module": "@jupyter-widgets/base",
      "model_module_version": "2.0.0",
      "model_name": "LayoutModel",
      "state": {}
     },
     "7e8e1b91d5dd41d2b59a2321c2b0ee0a": {
      "model_module": "@jupyter-widgets/output",
      "model_module_version": "1.0.0",
      "model_name": "OutputModel",
      "state": {
       "layout": "IPY_MODEL_8b00bef7b00747929818659adde4ccf2",
       "outputs": [
        {
         "data": {
          "image/svg+xml": "<?xml version=\"1.0\" encoding=\"utf-8\" standalone=\"no\"?>\n<!DOCTYPE svg PUBLIC \"-//W3C//DTD SVG 1.1//EN\"\n  \"http://www.w3.org/Graphics/SVG/1.1/DTD/svg11.dtd\">\n<svg xmlns:xlink=\"http://www.w3.org/1999/xlink\" width=\"420.876968pt\" height=\"325.986375pt\" viewBox=\"0 0 420.876968 325.986375\" xmlns=\"http://www.w3.org/2000/svg\" version=\"1.1\">\n <metadata>\n  <rdf:RDF xmlns:dc=\"http://purl.org/dc/elements/1.1/\" xmlns:cc=\"http://creativecommons.org/ns#\" xmlns:rdf=\"http://www.w3.org/1999/02/22-rdf-syntax-ns#\">\n   <cc:Work>\n    <dc:type rdf:resource=\"http://purl.org/dc/dcmitype/StillImage\"/>\n    <dc:date>2023-03-28T00:30:31.061023</dc:date>\n    <dc:format>image/svg+xml</dc:format>\n    <dc:creator>\n     <cc:Agent>\n      <dc:title>Matplotlib v3.7.1, https://matplotlib.org/</dc:title>\n     </cc:Agent>\n    </dc:creator>\n   </cc:Work>\n  </rdf:RDF>\n </metadata>\n <defs>\n  <style type=\"text/css\">*{stroke-linejoin: round; stroke-linecap: butt}</style>\n </defs>\n <g id=\"figure_1\">\n  <g id=\"patch_1\">\n   <path d=\"M 0 325.986375 \nL 420.876968 325.986375 \nL 420.876968 0 \nL 0 0 \nz\n\" style=\"fill: #ffffff\"/>\n  </g>\n  <g id=\"axes_1\">\n   <g id=\"patch_2\">\n    <path d=\"M 56.50625 288.430125 \nL 413.62625 288.430125 \nL 413.62625 22.318125 \nL 56.50625 22.318125 \nz\n\" style=\"fill: #ffffff\"/>\n   </g>\n   <g id=\"patch_3\">\n    <path d=\"M 72.738977 288.430125 \nL 79.232068 288.430125 \nL 79.232068 279.378696 \nL 72.738977 279.378696 \nz\n\" clip-path=\"url(#pbfa3323417)\" style=\"fill: #1f77b4\"/>\n   </g>\n   <g id=\"patch_4\">\n    <path d=\"M 79.232068 288.430125 \nL 85.725159 288.430125 \nL 85.725159 288.430125 \nL 79.232068 288.430125 \nz\n\" clip-path=\"url(#pbfa3323417)\" style=\"fill: #1f77b4\"/>\n   </g>\n   <g id=\"patch_5\">\n    <path d=\"M 85.725159 288.430125 \nL 92.21825 288.430125 \nL 92.21825 288.430125 \nL 85.725159 288.430125 \nz\n\" clip-path=\"url(#pbfa3323417)\" style=\"fill: #1f77b4\"/>\n   </g>\n   <g id=\"patch_6\">\n    <path d=\"M 92.21825 288.430125 \nL 98.711341 288.430125 \nL 98.711341 288.430125 \nL 92.21825 288.430125 \nz\n\" clip-path=\"url(#pbfa3323417)\" style=\"fill: #1f77b4\"/>\n   </g>\n   <g id=\"patch_7\">\n    <path d=\"M 98.711341 288.430125 \nL 105.204432 288.430125 \nL 105.204432 279.378696 \nL 98.711341 279.378696 \nz\n\" clip-path=\"url(#pbfa3323417)\" style=\"fill: #1f77b4\"/>\n   </g>\n   <g id=\"patch_8\">\n    <path d=\"M 105.204432 288.430125 \nL 111.697523 288.430125 \nL 111.697523 288.430125 \nL 105.204432 288.430125 \nz\n\" clip-path=\"url(#pbfa3323417)\" style=\"fill: #1f77b4\"/>\n   </g>\n   <g id=\"patch_9\">\n    <path d=\"M 111.697523 288.430125 \nL 118.190614 288.430125 \nL 118.190614 288.430125 \nL 111.697523 288.430125 \nz\n\" clip-path=\"url(#pbfa3323417)\" style=\"fill: #1f77b4\"/>\n   </g>\n   <g id=\"patch_10\">\n    <path d=\"M 118.190614 288.430125 \nL 124.683705 288.430125 \nL 124.683705 279.378696 \nL 118.190614 279.378696 \nz\n\" clip-path=\"url(#pbfa3323417)\" style=\"fill: #1f77b4\"/>\n   </g>\n   <g id=\"patch_11\">\n    <path d=\"M 124.683705 288.430125 \nL 131.176795 288.430125 \nL 131.176795 261.275839 \nL 124.683705 261.275839 \nz\n\" clip-path=\"url(#pbfa3323417)\" style=\"fill: #1f77b4\"/>\n   </g>\n   <g id=\"patch_12\">\n    <path d=\"M 131.176795 288.430125 \nL 137.669886 288.430125 \nL 137.669886 243.172982 \nL 131.176795 243.172982 \nz\n\" clip-path=\"url(#pbfa3323417)\" style=\"fill: #1f77b4\"/>\n   </g>\n   <g id=\"patch_13\">\n    <path d=\"M 137.669886 288.430125 \nL 144.162977 288.430125 \nL 144.162977 252.224411 \nL 137.669886 252.224411 \nz\n\" clip-path=\"url(#pbfa3323417)\" style=\"fill: #1f77b4\"/>\n   </g>\n   <g id=\"patch_14\">\n    <path d=\"M 144.162977 288.430125 \nL 150.656068 288.430125 \nL 150.656068 252.224411 \nL 144.162977 252.224411 \nz\n\" clip-path=\"url(#pbfa3323417)\" style=\"fill: #1f77b4\"/>\n   </g>\n   <g id=\"patch_15\">\n    <path d=\"M 150.656068 288.430125 \nL 157.149159 288.430125 \nL 157.149159 170.761554 \nL 150.656068 170.761554 \nz\n\" clip-path=\"url(#pbfa3323417)\" style=\"fill: #1f77b4\"/>\n   </g>\n   <g id=\"patch_16\">\n    <path d=\"M 157.149159 288.430125 \nL 163.64225 288.430125 \nL 163.64225 243.172982 \nL 157.149159 243.172982 \nz\n\" clip-path=\"url(#pbfa3323417)\" style=\"fill: #1f77b4\"/>\n   </g>\n   <g id=\"patch_17\">\n    <path d=\"M 163.64225 288.430125 \nL 170.135341 288.430125 \nL 170.135341 152.658696 \nL 163.64225 152.658696 \nz\n\" clip-path=\"url(#pbfa3323417)\" style=\"fill: #1f77b4\"/>\n   </g>\n   <g id=\"patch_18\">\n    <path d=\"M 170.135341 288.430125 \nL 176.628432 288.430125 \nL 176.628432 170.761554 \nL 170.135341 170.761554 \nz\n\" clip-path=\"url(#pbfa3323417)\" style=\"fill: #1f77b4\"/>\n   </g>\n   <g id=\"patch_19\">\n    <path d=\"M 176.628432 288.430125 \nL 183.121523 288.430125 \nL 183.121523 161.710125 \nL 176.628432 161.710125 \nz\n\" clip-path=\"url(#pbfa3323417)\" style=\"fill: #1f77b4\"/>\n   </g>\n   <g id=\"patch_20\">\n    <path d=\"M 183.121523 288.430125 \nL 189.614614 288.430125 \nL 189.614614 53.092982 \nL 183.121523 53.092982 \nz\n\" clip-path=\"url(#pbfa3323417)\" style=\"fill: #1f77b4\"/>\n   </g>\n   <g id=\"patch_21\">\n    <path d=\"M 189.614614 288.430125 \nL 196.107705 288.430125 \nL 196.107705 107.401554 \nL 189.614614 107.401554 \nz\n\" clip-path=\"url(#pbfa3323417)\" style=\"fill: #1f77b4\"/>\n   </g>\n   <g id=\"patch_22\">\n    <path d=\"M 196.107705 288.430125 \nL 202.600795 288.430125 \nL 202.600795 80.247268 \nL 196.107705 80.247268 \nz\n\" clip-path=\"url(#pbfa3323417)\" style=\"fill: #1f77b4\"/>\n   </g>\n   <g id=\"patch_23\">\n    <path d=\"M 202.600795 288.430125 \nL 209.093886 288.430125 \nL 209.093886 125.504411 \nL 202.600795 125.504411 \nz\n\" clip-path=\"url(#pbfa3323417)\" style=\"fill: #1f77b4\"/>\n   </g>\n   <g id=\"patch_24\">\n    <path d=\"M 209.093886 288.430125 \nL 215.586977 288.430125 \nL 215.586977 80.247268 \nL 209.093886 80.247268 \nz\n\" clip-path=\"url(#pbfa3323417)\" style=\"fill: #1f77b4\"/>\n   </g>\n   <g id=\"patch_25\">\n    <path d=\"M 215.586977 288.430125 \nL 222.080068 288.430125 \nL 222.080068 80.247268 \nL 215.586977 80.247268 \nz\n\" clip-path=\"url(#pbfa3323417)\" style=\"fill: #1f77b4\"/>\n   </g>\n   <g id=\"patch_26\">\n    <path d=\"M 222.080068 288.430125 \nL 228.573159 288.430125 \nL 228.573159 44.041554 \nL 222.080068 44.041554 \nz\n\" clip-path=\"url(#pbfa3323417)\" style=\"fill: #1f77b4\"/>\n   </g>\n   <g id=\"patch_27\">\n    <path d=\"M 228.573159 288.430125 \nL 235.06625 288.430125 \nL 235.06625 34.990125 \nL 228.573159 34.990125 \nz\n\" clip-path=\"url(#pbfa3323417)\" style=\"fill: #1f77b4\"/>\n   </g>\n   <g id=\"patch_28\">\n    <path d=\"M 235.06625 288.430125 \nL 241.559341 288.430125 \nL 241.559341 53.092982 \nL 235.06625 53.092982 \nz\n\" clip-path=\"url(#pbfa3323417)\" style=\"fill: #1f77b4\"/>\n   </g>\n   <g id=\"patch_29\">\n    <path d=\"M 241.559341 288.430125 \nL 248.052432 288.430125 \nL 248.052432 89.298696 \nL 241.559341 89.298696 \nz\n\" clip-path=\"url(#pbfa3323417)\" style=\"fill: #1f77b4\"/>\n   </g>\n   <g id=\"patch_30\">\n    <path d=\"M 248.052432 288.430125 \nL 254.545523 288.430125 \nL 254.545523 89.298696 \nL 248.052432 89.298696 \nz\n\" clip-path=\"url(#pbfa3323417)\" style=\"fill: #1f77b4\"/>\n   </g>\n   <g id=\"patch_31\">\n    <path d=\"M 254.545523 288.430125 \nL 261.038614 288.430125 \nL 261.038614 62.144411 \nL 254.545523 62.144411 \nz\n\" clip-path=\"url(#pbfa3323417)\" style=\"fill: #1f77b4\"/>\n   </g>\n   <g id=\"patch_32\">\n    <path d=\"M 261.038614 288.430125 \nL 267.531705 288.430125 \nL 267.531705 170.761554 \nL 261.038614 170.761554 \nz\n\" clip-path=\"url(#pbfa3323417)\" style=\"fill: #1f77b4\"/>\n   </g>\n   <g id=\"patch_33\">\n    <path d=\"M 267.531705 288.430125 \nL 274.024795 288.430125 \nL 274.024795 197.915839 \nL 267.531705 197.915839 \nz\n\" clip-path=\"url(#pbfa3323417)\" style=\"fill: #1f77b4\"/>\n   </g>\n   <g id=\"patch_34\">\n    <path d=\"M 274.024795 288.430125 \nL 280.517886 288.430125 \nL 280.517886 206.967268 \nL 274.024795 206.967268 \nz\n\" clip-path=\"url(#pbfa3323417)\" style=\"fill: #1f77b4\"/>\n   </g>\n   <g id=\"patch_35\">\n    <path d=\"M 280.517886 288.430125 \nL 287.010977 288.430125 \nL 287.010977 234.121554 \nL 280.517886 234.121554 \nz\n\" clip-path=\"url(#pbfa3323417)\" style=\"fill: #1f77b4\"/>\n   </g>\n   <g id=\"patch_36\">\n    <path d=\"M 287.010977 288.430125 \nL 293.504068 288.430125 \nL 293.504068 161.710125 \nL 287.010977 161.710125 \nz\n\" clip-path=\"url(#pbfa3323417)\" style=\"fill: #1f77b4\"/>\n   </g>\n   <g id=\"patch_37\">\n    <path d=\"M 293.504068 288.430125 \nL 299.997159 288.430125 \nL 299.997159 261.275839 \nL 293.504068 261.275839 \nz\n\" clip-path=\"url(#pbfa3323417)\" style=\"fill: #1f77b4\"/>\n   </g>\n   <g id=\"patch_38\">\n    <path d=\"M 299.997159 288.430125 \nL 306.49025 288.430125 \nL 306.49025 243.172982 \nL 299.997159 243.172982 \nz\n\" clip-path=\"url(#pbfa3323417)\" style=\"fill: #1f77b4\"/>\n   </g>\n   <g id=\"patch_39\">\n    <path d=\"M 306.49025 288.430125 \nL 312.983341 288.430125 \nL 312.983341 261.275839 \nL 306.49025 261.275839 \nz\n\" clip-path=\"url(#pbfa3323417)\" style=\"fill: #1f77b4\"/>\n   </g>\n   <g id=\"patch_40\">\n    <path d=\"M 312.983341 288.430125 \nL 319.476432 288.430125 \nL 319.476432 243.172982 \nL 312.983341 243.172982 \nz\n\" clip-path=\"url(#pbfa3323417)\" style=\"fill: #1f77b4\"/>\n   </g>\n   <g id=\"patch_41\">\n    <path d=\"M 319.476432 288.430125 \nL 325.969523 288.430125 \nL 325.969523 261.275839 \nL 319.476432 261.275839 \nz\n\" clip-path=\"url(#pbfa3323417)\" style=\"fill: #1f77b4\"/>\n   </g>\n   <g id=\"patch_42\">\n    <path d=\"M 325.969523 288.430125 \nL 332.462614 288.430125 \nL 332.462614 279.378696 \nL 325.969523 279.378696 \nz\n\" clip-path=\"url(#pbfa3323417)\" style=\"fill: #1f77b4\"/>\n   </g>\n   <g id=\"patch_43\">\n    <path d=\"M 332.462614 288.430125 \nL 338.955705 288.430125 \nL 338.955705 279.378696 \nL 332.462614 279.378696 \nz\n\" clip-path=\"url(#pbfa3323417)\" style=\"fill: #1f77b4\"/>\n   </g>\n   <g id=\"patch_44\">\n    <path d=\"M 338.955705 288.430125 \nL 345.448795 288.430125 \nL 345.448795 288.430125 \nL 338.955705 288.430125 \nz\n\" clip-path=\"url(#pbfa3323417)\" style=\"fill: #1f77b4\"/>\n   </g>\n   <g id=\"patch_45\">\n    <path d=\"M 345.448795 288.430125 \nL 351.941886 288.430125 \nL 351.941886 279.378696 \nL 345.448795 279.378696 \nz\n\" clip-path=\"url(#pbfa3323417)\" style=\"fill: #1f77b4\"/>\n   </g>\n   <g id=\"patch_46\">\n    <path d=\"M 351.941886 288.430125 \nL 358.434977 288.430125 \nL 358.434977 288.430125 \nL 351.941886 288.430125 \nz\n\" clip-path=\"url(#pbfa3323417)\" style=\"fill: #1f77b4\"/>\n   </g>\n   <g id=\"patch_47\">\n    <path d=\"M 358.434977 288.430125 \nL 364.928068 288.430125 \nL 364.928068 288.430125 \nL 358.434977 288.430125 \nz\n\" clip-path=\"url(#pbfa3323417)\" style=\"fill: #1f77b4\"/>\n   </g>\n   <g id=\"patch_48\">\n    <path d=\"M 364.928068 288.430125 \nL 371.421159 288.430125 \nL 371.421159 288.430125 \nL 364.928068 288.430125 \nz\n\" clip-path=\"url(#pbfa3323417)\" style=\"fill: #1f77b4\"/>\n   </g>\n   <g id=\"patch_49\">\n    <path d=\"M 371.421159 288.430125 \nL 377.91425 288.430125 \nL 377.91425 288.430125 \nL 371.421159 288.430125 \nz\n\" clip-path=\"url(#pbfa3323417)\" style=\"fill: #1f77b4\"/>\n   </g>\n   <g id=\"patch_50\">\n    <path d=\"M 377.91425 288.430125 \nL 384.407341 288.430125 \nL 384.407341 288.430125 \nL 377.91425 288.430125 \nz\n\" clip-path=\"url(#pbfa3323417)\" style=\"fill: #1f77b4\"/>\n   </g>\n   <g id=\"patch_51\">\n    <path d=\"M 384.407341 288.430125 \nL 390.900432 288.430125 \nL 390.900432 288.430125 \nL 384.407341 288.430125 \nz\n\" clip-path=\"url(#pbfa3323417)\" style=\"fill: #1f77b4\"/>\n   </g>\n   <g id=\"patch_52\">\n    <path d=\"M 390.900432 288.430125 \nL 397.393523 288.430125 \nL 397.393523 279.378696 \nL 390.900432 279.378696 \nz\n\" clip-path=\"url(#pbfa3323417)\" style=\"fill: #1f77b4\"/>\n   </g>\n   <g id=\"matplotlib.axis_1\">\n    <g id=\"xtick_1\">\n     <g id=\"line2d_1\">\n      <defs>\n       <path id=\"m1317df1fb3\" d=\"M 0 0 \nL 0 3.5 \n\" style=\"stroke: #000000; stroke-width: 0.8\"/>\n      </defs>\n      <g>\n       <use xlink:href=\"#m1317df1fb3\" x=\"99.03539\" y=\"288.430125\" style=\"stroke: #000000; stroke-width: 0.8\"/>\n      </g>\n     </g>\n     <g id=\"text_1\">\n      <!-- 60 -->\n      <g transform=\"translate(92.67289 303.028562) scale(0.1 -0.1)\">\n       <defs>\n        <path id=\"DejaVuSans-36\" d=\"M 2113 2584 \nQ 1688 2584 1439 2293 \nQ 1191 2003 1191 1497 \nQ 1191 994 1439 701 \nQ 1688 409 2113 409 \nQ 2538 409 2786 701 \nQ 3034 994 3034 1497 \nQ 3034 2003 2786 2293 \nQ 2538 2584 2113 2584 \nz\nM 3366 4563 \nL 3366 3988 \nQ 3128 4100 2886 4159 \nQ 2644 4219 2406 4219 \nQ 1781 4219 1451 3797 \nQ 1122 3375 1075 2522 \nQ 1259 2794 1537 2939 \nQ 1816 3084 2150 3084 \nQ 2853 3084 3261 2657 \nQ 3669 2231 3669 1497 \nQ 3669 778 3244 343 \nQ 2819 -91 2113 -91 \nQ 1303 -91 875 529 \nQ 447 1150 447 2328 \nQ 447 3434 972 4092 \nQ 1497 4750 2381 4750 \nQ 2619 4750 2861 4703 \nQ 3103 4656 3366 4563 \nz\n\" transform=\"scale(0.015625)\"/>\n        <path id=\"DejaVuSans-30\" d=\"M 2034 4250 \nQ 1547 4250 1301 3770 \nQ 1056 3291 1056 2328 \nQ 1056 1369 1301 889 \nQ 1547 409 2034 409 \nQ 2525 409 2770 889 \nQ 3016 1369 3016 2328 \nQ 3016 3291 2770 3770 \nQ 2525 4250 2034 4250 \nz\nM 2034 4750 \nQ 2819 4750 3233 4129 \nQ 3647 3509 3647 2328 \nQ 3647 1150 3233 529 \nQ 2819 -91 2034 -91 \nQ 1250 -91 836 529 \nQ 422 1150 422 2328 \nQ 422 3509 836 4129 \nQ 1250 4750 2034 4750 \nz\n\" transform=\"scale(0.015625)\"/>\n       </defs>\n       <use xlink:href=\"#DejaVuSans-36\"/>\n       <use xlink:href=\"#DejaVuSans-30\" x=\"63.623047\"/>\n      </g>\n     </g>\n    </g>\n    <g id=\"xtick_2\">\n     <g id=\"line2d_2\">\n      <g>\n       <use xlink:href=\"#m1317df1fb3\" x=\"160.054956\" y=\"288.430125\" style=\"stroke: #000000; stroke-width: 0.8\"/>\n      </g>\n     </g>\n     <g id=\"text_2\">\n      <!-- 80 -->\n      <g transform=\"translate(153.692456 303.028562) scale(0.1 -0.1)\">\n       <defs>\n        <path id=\"DejaVuSans-38\" d=\"M 2034 2216 \nQ 1584 2216 1326 1975 \nQ 1069 1734 1069 1313 \nQ 1069 891 1326 650 \nQ 1584 409 2034 409 \nQ 2484 409 2743 651 \nQ 3003 894 3003 1313 \nQ 3003 1734 2745 1975 \nQ 2488 2216 2034 2216 \nz\nM 1403 2484 \nQ 997 2584 770 2862 \nQ 544 3141 544 3541 \nQ 544 4100 942 4425 \nQ 1341 4750 2034 4750 \nQ 2731 4750 3128 4425 \nQ 3525 4100 3525 3541 \nQ 3525 3141 3298 2862 \nQ 3072 2584 2669 2484 \nQ 3125 2378 3379 2068 \nQ 3634 1759 3634 1313 \nQ 3634 634 3220 271 \nQ 2806 -91 2034 -91 \nQ 1263 -91 848 271 \nQ 434 634 434 1313 \nQ 434 1759 690 2068 \nQ 947 2378 1403 2484 \nz\nM 1172 3481 \nQ 1172 3119 1398 2916 \nQ 1625 2713 2034 2713 \nQ 2441 2713 2670 2916 \nQ 2900 3119 2900 3481 \nQ 2900 3844 2670 4047 \nQ 2441 4250 2034 4250 \nQ 1625 4250 1398 4047 \nQ 1172 3844 1172 3481 \nz\n\" transform=\"scale(0.015625)\"/>\n       </defs>\n       <use xlink:href=\"#DejaVuSans-38\"/>\n       <use xlink:href=\"#DejaVuSans-30\" x=\"63.623047\"/>\n      </g>\n     </g>\n    </g>\n    <g id=\"xtick_3\">\n     <g id=\"line2d_3\">\n      <g>\n       <use xlink:href=\"#m1317df1fb3\" x=\"221.074521\" y=\"288.430125\" style=\"stroke: #000000; stroke-width: 0.8\"/>\n      </g>\n     </g>\n     <g id=\"text_3\">\n      <!-- 100 -->\n      <g transform=\"translate(211.530771 303.028562) scale(0.1 -0.1)\">\n       <defs>\n        <path id=\"DejaVuSans-31\" d=\"M 794 531 \nL 1825 531 \nL 1825 4091 \nL 703 3866 \nL 703 4441 \nL 1819 4666 \nL 2450 4666 \nL 2450 531 \nL 3481 531 \nL 3481 0 \nL 794 0 \nL 794 531 \nz\n\" transform=\"scale(0.015625)\"/>\n       </defs>\n       <use xlink:href=\"#DejaVuSans-31\"/>\n       <use xlink:href=\"#DejaVuSans-30\" x=\"63.623047\"/>\n       <use xlink:href=\"#DejaVuSans-30\" x=\"127.246094\"/>\n      </g>\n     </g>\n    </g>\n    <g id=\"xtick_4\">\n     <g id=\"line2d_4\">\n      <g>\n       <use xlink:href=\"#m1317df1fb3\" x=\"282.094087\" y=\"288.430125\" style=\"stroke: #000000; stroke-width: 0.8\"/>\n      </g>\n     </g>\n     <g id=\"text_4\">\n      <!-- 120 -->\n      <g transform=\"translate(272.550337 303.028562) scale(0.1 -0.1)\">\n       <defs>\n        <path id=\"DejaVuSans-32\" d=\"M 1228 531 \nL 3431 531 \nL 3431 0 \nL 469 0 \nL 469 531 \nQ 828 903 1448 1529 \nQ 2069 2156 2228 2338 \nQ 2531 2678 2651 2914 \nQ 2772 3150 2772 3378 \nQ 2772 3750 2511 3984 \nQ 2250 4219 1831 4219 \nQ 1534 4219 1204 4116 \nQ 875 4013 500 3803 \nL 500 4441 \nQ 881 4594 1212 4672 \nQ 1544 4750 1819 4750 \nQ 2544 4750 2975 4387 \nQ 3406 4025 3406 3419 \nQ 3406 3131 3298 2873 \nQ 3191 2616 2906 2266 \nQ 2828 2175 2409 1742 \nQ 1991 1309 1228 531 \nz\n\" transform=\"scale(0.015625)\"/>\n       </defs>\n       <use xlink:href=\"#DejaVuSans-31\"/>\n       <use xlink:href=\"#DejaVuSans-32\" x=\"63.623047\"/>\n       <use xlink:href=\"#DejaVuSans-30\" x=\"127.246094\"/>\n      </g>\n     </g>\n    </g>\n    <g id=\"xtick_5\">\n     <g id=\"line2d_5\">\n      <g>\n       <use xlink:href=\"#m1317df1fb3\" x=\"343.113652\" y=\"288.430125\" style=\"stroke: #000000; stroke-width: 0.8\"/>\n      </g>\n     </g>\n     <g id=\"text_5\">\n      <!-- 140 -->\n      <g transform=\"translate(333.569902 303.028562) scale(0.1 -0.1)\">\n       <defs>\n        <path id=\"DejaVuSans-34\" d=\"M 2419 4116 \nL 825 1625 \nL 2419 1625 \nL 2419 4116 \nz\nM 2253 4666 \nL 3047 4666 \nL 3047 1625 \nL 3713 1625 \nL 3713 1100 \nL 3047 1100 \nL 3047 0 \nL 2419 0 \nL 2419 1100 \nL 313 1100 \nL 313 1709 \nL 2253 4666 \nz\n\" transform=\"scale(0.015625)\"/>\n       </defs>\n       <use xlink:href=\"#DejaVuSans-31\"/>\n       <use xlink:href=\"#DejaVuSans-34\" x=\"63.623047\"/>\n       <use xlink:href=\"#DejaVuSans-30\" x=\"127.246094\"/>\n      </g>\n     </g>\n    </g>\n    <g id=\"xtick_6\">\n     <g id=\"line2d_6\">\n      <g>\n       <use xlink:href=\"#m1317df1fb3\" x=\"404.133218\" y=\"288.430125\" style=\"stroke: #000000; stroke-width: 0.8\"/>\n      </g>\n     </g>\n     <g id=\"text_6\">\n      <!-- 160 -->\n      <g transform=\"translate(394.589468 303.028562) scale(0.1 -0.1)\">\n       <use xlink:href=\"#DejaVuSans-31\"/>\n       <use xlink:href=\"#DejaVuSans-36\" x=\"63.623047\"/>\n       <use xlink:href=\"#DejaVuSans-30\" x=\"127.246094\"/>\n      </g>\n     </g>\n    </g>\n    <g id=\"text_7\">\n     <!-- X -->\n     <g transform=\"translate(231.64125 316.706687) scale(0.1 -0.1)\">\n      <defs>\n       <path id=\"DejaVuSans-58\" d=\"M 403 4666 \nL 1081 4666 \nL 2241 2931 \nL 3406 4666 \nL 4084 4666 \nL 2584 2425 \nL 4184 0 \nL 3506 0 \nL 2194 1984 \nL 872 0 \nL 191 0 \nL 1856 2491 \nL 403 4666 \nz\n\" transform=\"scale(0.015625)\"/>\n      </defs>\n      <use xlink:href=\"#DejaVuSans-58\"/>\n     </g>\n    </g>\n   </g>\n   <g id=\"matplotlib.axis_2\">\n    <g id=\"ytick_1\">\n     <g id=\"line2d_7\">\n      <defs>\n       <path id=\"m84f4f958a0\" d=\"M 0 0 \nL -3.5 0 \n\" style=\"stroke: #000000; stroke-width: 0.8\"/>\n      </defs>\n      <g>\n       <use xlink:href=\"#m84f4f958a0\" x=\"56.50625\" y=\"288.430125\" style=\"stroke: #000000; stroke-width: 0.8\"/>\n      </g>\n     </g>\n     <g id=\"text_8\">\n      <!-- 0.000 -->\n      <g transform=\"translate(20.878125 292.229344) scale(0.1 -0.1)\">\n       <defs>\n        <path id=\"DejaVuSans-2e\" d=\"M 684 794 \nL 1344 794 \nL 1344 0 \nL 684 0 \nL 684 794 \nz\n\" transform=\"scale(0.015625)\"/>\n       </defs>\n       <use xlink:href=\"#DejaVuSans-30\"/>\n       <use xlink:href=\"#DejaVuSans-2e\" x=\"63.623047\"/>\n       <use xlink:href=\"#DejaVuSans-30\" x=\"95.410156\"/>\n       <use xlink:href=\"#DejaVuSans-30\" x=\"159.033203\"/>\n       <use xlink:href=\"#DejaVuSans-30\" x=\"222.65625\"/>\n      </g>\n     </g>\n    </g>\n    <g id=\"ytick_2\">\n     <g id=\"line2d_8\">\n      <g>\n       <use xlink:href=\"#m84f4f958a0\" x=\"56.50625\" y=\"246.33993\" style=\"stroke: #000000; stroke-width: 0.8\"/>\n      </g>\n     </g>\n     <g id=\"text_9\">\n      <!-- 0.005 -->\n      <g transform=\"translate(20.878125 250.139149) scale(0.1 -0.1)\">\n       <defs>\n        <path id=\"DejaVuSans-35\" d=\"M 691 4666 \nL 3169 4666 \nL 3169 4134 \nL 1269 4134 \nL 1269 2991 \nQ 1406 3038 1543 3061 \nQ 1681 3084 1819 3084 \nQ 2600 3084 3056 2656 \nQ 3513 2228 3513 1497 \nQ 3513 744 3044 326 \nQ 2575 -91 1722 -91 \nQ 1428 -91 1123 -41 \nQ 819 9 494 109 \nL 494 744 \nQ 775 591 1075 516 \nQ 1375 441 1709 441 \nQ 2250 441 2565 725 \nQ 2881 1009 2881 1497 \nQ 2881 1984 2565 2268 \nQ 2250 2553 1709 2553 \nQ 1456 2553 1204 2497 \nQ 953 2441 691 2322 \nL 691 4666 \nz\n\" transform=\"scale(0.015625)\"/>\n       </defs>\n       <use xlink:href=\"#DejaVuSans-30\"/>\n       <use xlink:href=\"#DejaVuSans-2e\" x=\"63.623047\"/>\n       <use xlink:href=\"#DejaVuSans-30\" x=\"95.410156\"/>\n       <use xlink:href=\"#DejaVuSans-30\" x=\"159.033203\"/>\n       <use xlink:href=\"#DejaVuSans-35\" x=\"222.65625\"/>\n      </g>\n     </g>\n    </g>\n    <g id=\"ytick_3\">\n     <g id=\"line2d_9\">\n      <g>\n       <use xlink:href=\"#m84f4f958a0\" x=\"56.50625\" y=\"204.249735\" style=\"stroke: #000000; stroke-width: 0.8\"/>\n      </g>\n     </g>\n     <g id=\"text_10\">\n      <!-- 0.010 -->\n      <g transform=\"translate(20.878125 208.048954) scale(0.1 -0.1)\">\n       <use xlink:href=\"#DejaVuSans-30\"/>\n       <use xlink:href=\"#DejaVuSans-2e\" x=\"63.623047\"/>\n       <use xlink:href=\"#DejaVuSans-30\" x=\"95.410156\"/>\n       <use xlink:href=\"#DejaVuSans-31\" x=\"159.033203\"/>\n       <use xlink:href=\"#DejaVuSans-30\" x=\"222.65625\"/>\n      </g>\n     </g>\n    </g>\n    <g id=\"ytick_4\">\n     <g id=\"line2d_10\">\n      <g>\n       <use xlink:href=\"#m84f4f958a0\" x=\"56.50625\" y=\"162.15954\" style=\"stroke: #000000; stroke-width: 0.8\"/>\n      </g>\n     </g>\n     <g id=\"text_11\">\n      <!-- 0.015 -->\n      <g transform=\"translate(20.878125 165.958759) scale(0.1 -0.1)\">\n       <use xlink:href=\"#DejaVuSans-30\"/>\n       <use xlink:href=\"#DejaVuSans-2e\" x=\"63.623047\"/>\n       <use xlink:href=\"#DejaVuSans-30\" x=\"95.410156\"/>\n       <use xlink:href=\"#DejaVuSans-31\" x=\"159.033203\"/>\n       <use xlink:href=\"#DejaVuSans-35\" x=\"222.65625\"/>\n      </g>\n     </g>\n    </g>\n    <g id=\"ytick_5\">\n     <g id=\"line2d_11\">\n      <g>\n       <use xlink:href=\"#m84f4f958a0\" x=\"56.50625\" y=\"120.069345\" style=\"stroke: #000000; stroke-width: 0.8\"/>\n      </g>\n     </g>\n     <g id=\"text_12\">\n      <!-- 0.020 -->\n      <g transform=\"translate(20.878125 123.868564) scale(0.1 -0.1)\">\n       <use xlink:href=\"#DejaVuSans-30\"/>\n       <use xlink:href=\"#DejaVuSans-2e\" x=\"63.623047\"/>\n       <use xlink:href=\"#DejaVuSans-30\" x=\"95.410156\"/>\n       <use xlink:href=\"#DejaVuSans-32\" x=\"159.033203\"/>\n       <use xlink:href=\"#DejaVuSans-30\" x=\"222.65625\"/>\n      </g>\n     </g>\n    </g>\n    <g id=\"ytick_6\">\n     <g id=\"line2d_12\">\n      <g>\n       <use xlink:href=\"#m84f4f958a0\" x=\"56.50625\" y=\"77.97915\" style=\"stroke: #000000; stroke-width: 0.8\"/>\n      </g>\n     </g>\n     <g id=\"text_13\">\n      <!-- 0.025 -->\n      <g transform=\"translate(20.878125 81.778369) scale(0.1 -0.1)\">\n       <use xlink:href=\"#DejaVuSans-30\"/>\n       <use xlink:href=\"#DejaVuSans-2e\" x=\"63.623047\"/>\n       <use xlink:href=\"#DejaVuSans-30\" x=\"95.410156\"/>\n       <use xlink:href=\"#DejaVuSans-32\" x=\"159.033203\"/>\n       <use xlink:href=\"#DejaVuSans-35\" x=\"222.65625\"/>\n      </g>\n     </g>\n    </g>\n    <g id=\"ytick_7\">\n     <g id=\"line2d_13\">\n      <g>\n       <use xlink:href=\"#m84f4f958a0\" x=\"56.50625\" y=\"35.888955\" style=\"stroke: #000000; stroke-width: 0.8\"/>\n      </g>\n     </g>\n     <g id=\"text_14\">\n      <!-- 0.030 -->\n      <g transform=\"translate(20.878125 39.688174) scale(0.1 -0.1)\">\n       <defs>\n        <path id=\"DejaVuSans-33\" d=\"M 2597 2516 \nQ 3050 2419 3304 2112 \nQ 3559 1806 3559 1356 \nQ 3559 666 3084 287 \nQ 2609 -91 1734 -91 \nQ 1441 -91 1130 -33 \nQ 819 25 488 141 \nL 488 750 \nQ 750 597 1062 519 \nQ 1375 441 1716 441 \nQ 2309 441 2620 675 \nQ 2931 909 2931 1356 \nQ 2931 1769 2642 2001 \nQ 2353 2234 1838 2234 \nL 1294 2234 \nL 1294 2753 \nL 1863 2753 \nQ 2328 2753 2575 2939 \nQ 2822 3125 2822 3475 \nQ 2822 3834 2567 4026 \nQ 2313 4219 1838 4219 \nQ 1578 4219 1281 4162 \nQ 984 4106 628 3988 \nL 628 4550 \nQ 988 4650 1302 4700 \nQ 1616 4750 1894 4750 \nQ 2613 4750 3031 4423 \nQ 3450 4097 3450 3541 \nQ 3450 3153 3228 2886 \nQ 3006 2619 2597 2516 \nz\n\" transform=\"scale(0.015625)\"/>\n       </defs>\n       <use xlink:href=\"#DejaVuSans-30\"/>\n       <use xlink:href=\"#DejaVuSans-2e\" x=\"63.623047\"/>\n       <use xlink:href=\"#DejaVuSans-30\" x=\"95.410156\"/>\n       <use xlink:href=\"#DejaVuSans-33\" x=\"159.033203\"/>\n       <use xlink:href=\"#DejaVuSans-30\" x=\"222.65625\"/>\n      </g>\n     </g>\n    </g>\n    <g id=\"text_15\">\n     <!-- Probability density -->\n     <g transform=\"translate(14.798438 201.724906) rotate(-90) scale(0.1 -0.1)\">\n      <defs>\n       <path id=\"DejaVuSans-50\" d=\"M 1259 4147 \nL 1259 2394 \nL 2053 2394 \nQ 2494 2394 2734 2622 \nQ 2975 2850 2975 3272 \nQ 2975 3691 2734 3919 \nQ 2494 4147 2053 4147 \nL 1259 4147 \nz\nM 628 4666 \nL 2053 4666 \nQ 2838 4666 3239 4311 \nQ 3641 3956 3641 3272 \nQ 3641 2581 3239 2228 \nQ 2838 1875 2053 1875 \nL 1259 1875 \nL 1259 0 \nL 628 0 \nL 628 4666 \nz\n\" transform=\"scale(0.015625)\"/>\n       <path id=\"DejaVuSans-72\" d=\"M 2631 2963 \nQ 2534 3019 2420 3045 \nQ 2306 3072 2169 3072 \nQ 1681 3072 1420 2755 \nQ 1159 2438 1159 1844 \nL 1159 0 \nL 581 0 \nL 581 3500 \nL 1159 3500 \nL 1159 2956 \nQ 1341 3275 1631 3429 \nQ 1922 3584 2338 3584 \nQ 2397 3584 2469 3576 \nQ 2541 3569 2628 3553 \nL 2631 2963 \nz\n\" transform=\"scale(0.015625)\"/>\n       <path id=\"DejaVuSans-6f\" d=\"M 1959 3097 \nQ 1497 3097 1228 2736 \nQ 959 2375 959 1747 \nQ 959 1119 1226 758 \nQ 1494 397 1959 397 \nQ 2419 397 2687 759 \nQ 2956 1122 2956 1747 \nQ 2956 2369 2687 2733 \nQ 2419 3097 1959 3097 \nz\nM 1959 3584 \nQ 2709 3584 3137 3096 \nQ 3566 2609 3566 1747 \nQ 3566 888 3137 398 \nQ 2709 -91 1959 -91 \nQ 1206 -91 779 398 \nQ 353 888 353 1747 \nQ 353 2609 779 3096 \nQ 1206 3584 1959 3584 \nz\n\" transform=\"scale(0.015625)\"/>\n       <path id=\"DejaVuSans-62\" d=\"M 3116 1747 \nQ 3116 2381 2855 2742 \nQ 2594 3103 2138 3103 \nQ 1681 3103 1420 2742 \nQ 1159 2381 1159 1747 \nQ 1159 1113 1420 752 \nQ 1681 391 2138 391 \nQ 2594 391 2855 752 \nQ 3116 1113 3116 1747 \nz\nM 1159 2969 \nQ 1341 3281 1617 3432 \nQ 1894 3584 2278 3584 \nQ 2916 3584 3314 3078 \nQ 3713 2572 3713 1747 \nQ 3713 922 3314 415 \nQ 2916 -91 2278 -91 \nQ 1894 -91 1617 61 \nQ 1341 213 1159 525 \nL 1159 0 \nL 581 0 \nL 581 4863 \nL 1159 4863 \nL 1159 2969 \nz\n\" transform=\"scale(0.015625)\"/>\n       <path id=\"DejaVuSans-61\" d=\"M 2194 1759 \nQ 1497 1759 1228 1600 \nQ 959 1441 959 1056 \nQ 959 750 1161 570 \nQ 1363 391 1709 391 \nQ 2188 391 2477 730 \nQ 2766 1069 2766 1631 \nL 2766 1759 \nL 2194 1759 \nz\nM 3341 1997 \nL 3341 0 \nL 2766 0 \nL 2766 531 \nQ 2569 213 2275 61 \nQ 1981 -91 1556 -91 \nQ 1019 -91 701 211 \nQ 384 513 384 1019 \nQ 384 1609 779 1909 \nQ 1175 2209 1959 2209 \nL 2766 2209 \nL 2766 2266 \nQ 2766 2663 2505 2880 \nQ 2244 3097 1772 3097 \nQ 1472 3097 1187 3025 \nQ 903 2953 641 2809 \nL 641 3341 \nQ 956 3463 1253 3523 \nQ 1550 3584 1831 3584 \nQ 2591 3584 2966 3190 \nQ 3341 2797 3341 1997 \nz\n\" transform=\"scale(0.015625)\"/>\n       <path id=\"DejaVuSans-69\" d=\"M 603 3500 \nL 1178 3500 \nL 1178 0 \nL 603 0 \nL 603 3500 \nz\nM 603 4863 \nL 1178 4863 \nL 1178 4134 \nL 603 4134 \nL 603 4863 \nz\n\" transform=\"scale(0.015625)\"/>\n       <path id=\"DejaVuSans-6c\" d=\"M 603 4863 \nL 1178 4863 \nL 1178 0 \nL 603 0 \nL 603 4863 \nz\n\" transform=\"scale(0.015625)\"/>\n       <path id=\"DejaVuSans-74\" d=\"M 1172 4494 \nL 1172 3500 \nL 2356 3500 \nL 2356 3053 \nL 1172 3053 \nL 1172 1153 \nQ 1172 725 1289 603 \nQ 1406 481 1766 481 \nL 2356 481 \nL 2356 0 \nL 1766 0 \nQ 1100 0 847 248 \nQ 594 497 594 1153 \nL 594 3053 \nL 172 3053 \nL 172 3500 \nL 594 3500 \nL 594 4494 \nL 1172 4494 \nz\n\" transform=\"scale(0.015625)\"/>\n       <path id=\"DejaVuSans-79\" d=\"M 2059 -325 \nQ 1816 -950 1584 -1140 \nQ 1353 -1331 966 -1331 \nL 506 -1331 \nL 506 -850 \nL 844 -850 \nQ 1081 -850 1212 -737 \nQ 1344 -625 1503 -206 \nL 1606 56 \nL 191 3500 \nL 800 3500 \nL 1894 763 \nL 2988 3500 \nL 3597 3500 \nL 2059 -325 \nz\n\" transform=\"scale(0.015625)\"/>\n       <path id=\"DejaVuSans-20\" transform=\"scale(0.015625)\"/>\n       <path id=\"DejaVuSans-64\" d=\"M 2906 2969 \nL 2906 4863 \nL 3481 4863 \nL 3481 0 \nL 2906 0 \nL 2906 525 \nQ 2725 213 2448 61 \nQ 2172 -91 1784 -91 \nQ 1150 -91 751 415 \nQ 353 922 353 1747 \nQ 353 2572 751 3078 \nQ 1150 3584 1784 3584 \nQ 2172 3584 2448 3432 \nQ 2725 3281 2906 2969 \nz\nM 947 1747 \nQ 947 1113 1208 752 \nQ 1469 391 1925 391 \nQ 2381 391 2643 752 \nQ 2906 1113 2906 1747 \nQ 2906 2381 2643 2742 \nQ 2381 3103 1925 3103 \nQ 1469 3103 1208 2742 \nQ 947 2381 947 1747 \nz\n\" transform=\"scale(0.015625)\"/>\n       <path id=\"DejaVuSans-65\" d=\"M 3597 1894 \nL 3597 1613 \nL 953 1613 \nQ 991 1019 1311 708 \nQ 1631 397 2203 397 \nQ 2534 397 2845 478 \nQ 3156 559 3463 722 \nL 3463 178 \nQ 3153 47 2828 -22 \nQ 2503 -91 2169 -91 \nQ 1331 -91 842 396 \nQ 353 884 353 1716 \nQ 353 2575 817 3079 \nQ 1281 3584 2069 3584 \nQ 2775 3584 3186 3129 \nQ 3597 2675 3597 1894 \nz\nM 3022 2063 \nQ 3016 2534 2758 2815 \nQ 2500 3097 2075 3097 \nQ 1594 3097 1305 2825 \nQ 1016 2553 972 2059 \nL 3022 2063 \nz\n\" transform=\"scale(0.015625)\"/>\n       <path id=\"DejaVuSans-6e\" d=\"M 3513 2113 \nL 3513 0 \nL 2938 0 \nL 2938 2094 \nQ 2938 2591 2744 2837 \nQ 2550 3084 2163 3084 \nQ 1697 3084 1428 2787 \nQ 1159 2491 1159 1978 \nL 1159 0 \nL 581 0 \nL 581 3500 \nL 1159 3500 \nL 1159 2956 \nQ 1366 3272 1645 3428 \nQ 1925 3584 2291 3584 \nQ 2894 3584 3203 3211 \nQ 3513 2838 3513 2113 \nz\n\" transform=\"scale(0.015625)\"/>\n       <path id=\"DejaVuSans-73\" d=\"M 2834 3397 \nL 2834 2853 \nQ 2591 2978 2328 3040 \nQ 2066 3103 1784 3103 \nQ 1356 3103 1142 2972 \nQ 928 2841 928 2578 \nQ 928 2378 1081 2264 \nQ 1234 2150 1697 2047 \nL 1894 2003 \nQ 2506 1872 2764 1633 \nQ 3022 1394 3022 966 \nQ 3022 478 2636 193 \nQ 2250 -91 1575 -91 \nQ 1294 -91 989 -36 \nQ 684 19 347 128 \nL 347 722 \nQ 666 556 975 473 \nQ 1284 391 1588 391 \nQ 1994 391 2212 530 \nQ 2431 669 2431 922 \nQ 2431 1156 2273 1281 \nQ 2116 1406 1581 1522 \nL 1381 1569 \nQ 847 1681 609 1914 \nQ 372 2147 372 2553 \nQ 372 3047 722 3315 \nQ 1072 3584 1716 3584 \nQ 2034 3584 2315 3537 \nQ 2597 3491 2834 3397 \nz\n\" transform=\"scale(0.015625)\"/>\n      </defs>\n      <use xlink:href=\"#DejaVuSans-50\"/>\n      <use xlink:href=\"#DejaVuSans-72\" x=\"58.552734\"/>\n      <use xlink:href=\"#DejaVuSans-6f\" x=\"97.416016\"/>\n      <use xlink:href=\"#DejaVuSans-62\" x=\"158.597656\"/>\n      <use xlink:href=\"#DejaVuSans-61\" x=\"222.074219\"/>\n      <use xlink:href=\"#DejaVuSans-62\" x=\"283.353516\"/>\n      <use xlink:href=\"#DejaVuSans-69\" x=\"346.830078\"/>\n      <use xlink:href=\"#DejaVuSans-6c\" x=\"374.613281\"/>\n      <use xlink:href=\"#DejaVuSans-69\" x=\"402.396484\"/>\n      <use xlink:href=\"#DejaVuSans-74\" x=\"430.179688\"/>\n      <use xlink:href=\"#DejaVuSans-79\" x=\"469.388672\"/>\n      <use xlink:href=\"#DejaVuSans-20\" x=\"528.568359\"/>\n      <use xlink:href=\"#DejaVuSans-64\" x=\"560.355469\"/>\n      <use xlink:href=\"#DejaVuSans-65\" x=\"623.832031\"/>\n      <use xlink:href=\"#DejaVuSans-6e\" x=\"685.355469\"/>\n      <use xlink:href=\"#DejaVuSans-73\" x=\"748.734375\"/>\n      <use xlink:href=\"#DejaVuSans-69\" x=\"800.833984\"/>\n      <use xlink:href=\"#DejaVuSans-74\" x=\"828.617188\"/>\n      <use xlink:href=\"#DejaVuSans-79\" x=\"867.826172\"/>\n     </g>\n    </g>\n   </g>\n   <g id=\"line2d_14\">\n    <path d=\"M 72.738977 287.258682 \nL 79.232068 286.593293 \nL 85.725159 285.607356 \nL 92.21825 284.178656 \nL 98.711341 282.154452 \nL 105.204432 279.351098 \nL 111.697523 275.557237 \nL 118.190614 270.541773 \nL 124.683705 264.067596 \nL 131.176795 255.911507 \nL 137.669886 245.889929 \nL 144.162977 233.88894 \nL 150.656068 219.895926 \nL 157.149159 204.029086 \nL 163.64225 186.560213 \nL 170.135341 167.926046 \nL 176.628432 148.724063 \nL 183.121523 129.690103 \nL 189.614614 111.65738 \nL 196.107705 95.499194 \nL 202.600795 82.060347 \nL 209.093886 72.08455 \nL 215.586977 66.146424 \nL 222.080068 64.596717 \nL 228.573159 67.528009 \nL 235.06625 74.765546 \nL 241.559341 85.8845 \nL 248.052432 100.251241 \nL 254.545523 117.08309 \nL 261.038614 135.518684 \nL 267.531705 154.690207 \nL 274.024795 173.789167 \nL 280.517886 192.119047 \nL 287.010977 209.13064 \nL 293.504068 224.438643 \nL 299.997159 237.82067 \nL 306.49025 249.201884 \nL 312.983341 258.629616 \nL 319.476432 266.242735 \nL 325.969523 272.24014 \nL 332.462614 276.851837 \nL 338.955705 280.314912 \nL 345.448795 282.855531 \nL 351.941886 284.677077 \nL 358.434977 285.953771 \nL 364.928068 286.828728 \nL 371.421159 287.415179 \nL 377.91425 287.799683 \nL 384.407341 288.046326 \nL 390.900432 288.201133 \nL 397.393523 288.29622 \n\" clip-path=\"url(#pbfa3323417)\" style=\"fill: none; stroke-dasharray: 5.55,2.4; stroke-dashoffset: 0; stroke: #ff7f0e; stroke-width: 1.5\"/>\n   </g>\n   <g id=\"patch_53\">\n    <path d=\"M 56.50625 288.430125 \nL 56.50625 22.318125 \n\" style=\"fill: none; stroke: #000000; stroke-width: 0.8; stroke-linejoin: miter; stroke-linecap: square\"/>\n   </g>\n   <g id=\"patch_54\">\n    <path d=\"M 413.62625 288.430125 \nL 413.62625 22.318125 \n\" style=\"fill: none; stroke: #000000; stroke-width: 0.8; stroke-linejoin: miter; stroke-linecap: square\"/>\n   </g>\n   <g id=\"patch_55\">\n    <path d=\"M 56.50625 288.430125 \nL 413.62625 288.430125 \n\" style=\"fill: none; stroke: #000000; stroke-width: 0.8; stroke-linejoin: miter; stroke-linecap: square\"/>\n   </g>\n   <g id=\"patch_56\">\n    <path d=\"M 56.50625 22.318125 \nL 413.62625 22.318125 \n\" style=\"fill: none; stroke: #000000; stroke-width: 0.8; stroke-linejoin: miter; stroke-linecap: square\"/>\n   </g>\n   <g id=\"text_16\">\n    <!-- Histogram with: mu=100, sigma=15, bins=50 -->\n    <g transform=\"translate(95.770625 16.318125) scale(0.12 -0.12)\">\n     <defs>\n      <path id=\"DejaVuSans-48\" d=\"M 628 4666 \nL 1259 4666 \nL 1259 2753 \nL 3553 2753 \nL 3553 4666 \nL 4184 4666 \nL 4184 0 \nL 3553 0 \nL 3553 2222 \nL 1259 2222 \nL 1259 0 \nL 628 0 \nL 628 4666 \nz\n\" transform=\"scale(0.015625)\"/>\n      <path id=\"DejaVuSans-67\" d=\"M 2906 1791 \nQ 2906 2416 2648 2759 \nQ 2391 3103 1925 3103 \nQ 1463 3103 1205 2759 \nQ 947 2416 947 1791 \nQ 947 1169 1205 825 \nQ 1463 481 1925 481 \nQ 2391 481 2648 825 \nQ 2906 1169 2906 1791 \nz\nM 3481 434 \nQ 3481 -459 3084 -895 \nQ 2688 -1331 1869 -1331 \nQ 1566 -1331 1297 -1286 \nQ 1028 -1241 775 -1147 \nL 775 -588 \nQ 1028 -725 1275 -790 \nQ 1522 -856 1778 -856 \nQ 2344 -856 2625 -561 \nQ 2906 -266 2906 331 \nL 2906 616 \nQ 2728 306 2450 153 \nQ 2172 0 1784 0 \nQ 1141 0 747 490 \nQ 353 981 353 1791 \nQ 353 2603 747 3093 \nQ 1141 3584 1784 3584 \nQ 2172 3584 2450 3431 \nQ 2728 3278 2906 2969 \nL 2906 3500 \nL 3481 3500 \nL 3481 434 \nz\n\" transform=\"scale(0.015625)\"/>\n      <path id=\"DejaVuSans-6d\" d=\"M 3328 2828 \nQ 3544 3216 3844 3400 \nQ 4144 3584 4550 3584 \nQ 5097 3584 5394 3201 \nQ 5691 2819 5691 2113 \nL 5691 0 \nL 5113 0 \nL 5113 2094 \nQ 5113 2597 4934 2840 \nQ 4756 3084 4391 3084 \nQ 3944 3084 3684 2787 \nQ 3425 2491 3425 1978 \nL 3425 0 \nL 2847 0 \nL 2847 2094 \nQ 2847 2600 2669 2842 \nQ 2491 3084 2119 3084 \nQ 1678 3084 1418 2786 \nQ 1159 2488 1159 1978 \nL 1159 0 \nL 581 0 \nL 581 3500 \nL 1159 3500 \nL 1159 2956 \nQ 1356 3278 1631 3431 \nQ 1906 3584 2284 3584 \nQ 2666 3584 2933 3390 \nQ 3200 3197 3328 2828 \nz\n\" transform=\"scale(0.015625)\"/>\n      <path id=\"DejaVuSans-77\" d=\"M 269 3500 \nL 844 3500 \nL 1563 769 \nL 2278 3500 \nL 2956 3500 \nL 3675 769 \nL 4391 3500 \nL 4966 3500 \nL 4050 0 \nL 3372 0 \nL 2619 2869 \nL 1863 0 \nL 1184 0 \nL 269 3500 \nz\n\" transform=\"scale(0.015625)\"/>\n      <path id=\"DejaVuSans-68\" d=\"M 3513 2113 \nL 3513 0 \nL 2938 0 \nL 2938 2094 \nQ 2938 2591 2744 2837 \nQ 2550 3084 2163 3084 \nQ 1697 3084 1428 2787 \nQ 1159 2491 1159 1978 \nL 1159 0 \nL 581 0 \nL 581 4863 \nL 1159 4863 \nL 1159 2956 \nQ 1366 3272 1645 3428 \nQ 1925 3584 2291 3584 \nQ 2894 3584 3203 3211 \nQ 3513 2838 3513 2113 \nz\n\" transform=\"scale(0.015625)\"/>\n      <path id=\"DejaVuSans-3a\" d=\"M 750 794 \nL 1409 794 \nL 1409 0 \nL 750 0 \nL 750 794 \nz\nM 750 3309 \nL 1409 3309 \nL 1409 2516 \nL 750 2516 \nL 750 3309 \nz\n\" transform=\"scale(0.015625)\"/>\n      <path id=\"DejaVuSans-75\" d=\"M 544 1381 \nL 544 3500 \nL 1119 3500 \nL 1119 1403 \nQ 1119 906 1312 657 \nQ 1506 409 1894 409 \nQ 2359 409 2629 706 \nQ 2900 1003 2900 1516 \nL 2900 3500 \nL 3475 3500 \nL 3475 0 \nL 2900 0 \nL 2900 538 \nQ 2691 219 2414 64 \nQ 2138 -91 1772 -91 \nQ 1169 -91 856 284 \nQ 544 659 544 1381 \nz\nM 1991 3584 \nL 1991 3584 \nz\n\" transform=\"scale(0.015625)\"/>\n      <path id=\"DejaVuSans-3d\" d=\"M 678 2906 \nL 4684 2906 \nL 4684 2381 \nL 678 2381 \nL 678 2906 \nz\nM 678 1631 \nL 4684 1631 \nL 4684 1100 \nL 678 1100 \nL 678 1631 \nz\n\" transform=\"scale(0.015625)\"/>\n      <path id=\"DejaVuSans-2c\" d=\"M 750 794 \nL 1409 794 \nL 1409 256 \nL 897 -744 \nL 494 -744 \nL 750 256 \nL 750 794 \nz\n\" transform=\"scale(0.015625)\"/>\n     </defs>\n     <use xlink:href=\"#DejaVuSans-48\"/>\n     <use xlink:href=\"#DejaVuSans-69\" x=\"75.195312\"/>\n     <use xlink:href=\"#DejaVuSans-73\" x=\"102.978516\"/>\n     <use xlink:href=\"#DejaVuSans-74\" x=\"155.078125\"/>\n     <use xlink:href=\"#DejaVuSans-6f\" x=\"194.287109\"/>\n     <use xlink:href=\"#DejaVuSans-67\" x=\"255.46875\"/>\n     <use xlink:href=\"#DejaVuSans-72\" x=\"318.945312\"/>\n     <use xlink:href=\"#DejaVuSans-61\" x=\"360.058594\"/>\n     <use xlink:href=\"#DejaVuSans-6d\" x=\"421.337891\"/>\n     <use xlink:href=\"#DejaVuSans-20\" x=\"518.75\"/>\n     <use xlink:href=\"#DejaVuSans-77\" x=\"550.537109\"/>\n     <use xlink:href=\"#DejaVuSans-69\" x=\"632.324219\"/>\n     <use xlink:href=\"#DejaVuSans-74\" x=\"660.107422\"/>\n     <use xlink:href=\"#DejaVuSans-68\" x=\"699.316406\"/>\n     <use xlink:href=\"#DejaVuSans-3a\" x=\"762.695312\"/>\n     <use xlink:href=\"#DejaVuSans-20\" x=\"796.386719\"/>\n     <use xlink:href=\"#DejaVuSans-6d\" x=\"828.173828\"/>\n     <use xlink:href=\"#DejaVuSans-75\" x=\"925.585938\"/>\n     <use xlink:href=\"#DejaVuSans-3d\" x=\"988.964844\"/>\n     <use xlink:href=\"#DejaVuSans-31\" x=\"1072.753906\"/>\n     <use xlink:href=\"#DejaVuSans-30\" x=\"1136.376953\"/>\n     <use xlink:href=\"#DejaVuSans-30\" x=\"1200\"/>\n     <use xlink:href=\"#DejaVuSans-2c\" x=\"1263.623047\"/>\n     <use xlink:href=\"#DejaVuSans-20\" x=\"1295.410156\"/>\n     <use xlink:href=\"#DejaVuSans-73\" x=\"1327.197266\"/>\n     <use xlink:href=\"#DejaVuSans-69\" x=\"1379.296875\"/>\n     <use xlink:href=\"#DejaVuSans-67\" x=\"1407.080078\"/>\n     <use xlink:href=\"#DejaVuSans-6d\" x=\"1470.556641\"/>\n     <use xlink:href=\"#DejaVuSans-61\" x=\"1567.96875\"/>\n     <use xlink:href=\"#DejaVuSans-3d\" x=\"1629.248047\"/>\n     <use xlink:href=\"#DejaVuSans-31\" x=\"1713.037109\"/>\n     <use xlink:href=\"#DejaVuSans-35\" x=\"1776.660156\"/>\n     <use xlink:href=\"#DejaVuSans-2c\" x=\"1840.283203\"/>\n     <use xlink:href=\"#DejaVuSans-20\" x=\"1872.070312\"/>\n     <use xlink:href=\"#DejaVuSans-62\" x=\"1903.857422\"/>\n     <use xlink:href=\"#DejaVuSans-69\" x=\"1967.333984\"/>\n     <use xlink:href=\"#DejaVuSans-6e\" x=\"1995.117188\"/>\n     <use xlink:href=\"#DejaVuSans-73\" x=\"2058.496094\"/>\n     <use xlink:href=\"#DejaVuSans-3d\" x=\"2110.595703\"/>\n     <use xlink:href=\"#DejaVuSans-35\" x=\"2194.384766\"/>\n     <use xlink:href=\"#DejaVuSans-30\" x=\"2258.007812\"/>\n    </g>\n   </g>\n  </g>\n </g>\n <defs>\n  <clipPath id=\"pbfa3323417\">\n   <rect x=\"56.50625\" y=\"22.318125\" width=\"357.12\" height=\"266.112\"/>\n  </clipPath>\n </defs>\n</svg>\n",
          "text/plain": "<Figure size 640x480 with 1 Axes>"
         },
         "metadata": {},
         "output_type": "display_data"
        }
       ]
      }
     },
     "7ee0f06b0b4d448493668669a990e1e3": {
      "model_module": "@jupyter-widgets/controls",
      "model_module_version": "2.0.0",
      "model_name": "LabelStyleModel",
      "state": {
       "description_width": "",
       "font_family": null,
       "font_size": null,
       "font_style": null,
       "font_variant": null,
       "font_weight": null,
       "text_color": null,
       "text_decoration": null
      }
     },
     "7f9dbdf8e7574fc0bcfd455f8bf4e363": {
      "model_module": "@jupyter-widgets/controls",
      "model_module_version": "2.0.0",
      "model_name": "LabelStyleModel",
      "state": {
       "description_width": "",
       "font_family": null,
       "font_size": null,
       "font_style": null,
       "font_variant": null,
       "font_weight": null,
       "text_color": null,
       "text_decoration": null
      }
     },
     "80194bf766284341810f0ef4a8ee64d1": {
      "model_module": "@jupyter-widgets/controls",
      "model_module_version": "2.0.0",
      "model_name": "LabelModel",
      "state": {
       "layout": "IPY_MODEL_bc79b7d960ff4e10b6ebe99713b05bbf",
       "style": "IPY_MODEL_96b5aa95cdcb4aeaa947d384bd9aa0ba",
       "value": "Sigma:"
      }
     },
     "810add7fae4247f8b9d8d5dc5e5f5305": {
      "model_module": "@jupyter-widgets/controls",
      "model_module_version": "2.0.0",
      "model_name": "SliderStyleModel",
      "state": {
       "description_width": ""
      }
     },
     "810c40e03c8f4a3bbb089c2ab924856b": {
      "model_module": "@jupyter-widgets/controls",
      "model_module_version": "2.0.0",
      "model_name": "BoundedIntTextModel",
      "state": {
       "layout": "IPY_MODEL_2b1319a44eaa4f2194fea73792b4bb00",
       "max": 300,
       "min": 10,
       "style": "IPY_MODEL_f0953101e592429a969e4c49d1fd703f",
       "value": 100
      }
     },
     "81628dfc179543619196ba0f2d941e19": {
      "model_module": "@jupyter-widgets/controls",
      "model_module_version": "2.0.0",
      "model_name": "DescriptionStyleModel",
      "state": {
       "description_width": ""
      }
     },
     "81c253e17e2d40d583224e149866e341": {
      "model_module": "@jupyter-widgets/base",
      "model_module_version": "2.0.0",
      "model_name": "LayoutModel",
      "state": {}
     },
     "830cedca750e4d96a3a12a82dc291c5f": {
      "model_module": "@jupyter-widgets/controls",
      "model_module_version": "2.0.0",
      "model_name": "IntSliderModel",
      "state": {
       "behavior": "drag-tap",
       "layout": "IPY_MODEL_7798bcbbff744757825c311f8dbfe073",
       "style": "IPY_MODEL_ba3af9e1708648beb0706a7872939935"
      }
     },
     "87b0a987fec44b38a6e804467b753af8": {
      "model_module": "@jupyter-widgets/base",
      "model_module_version": "2.0.0",
      "model_name": "LayoutModel",
      "state": {}
     },
     "8b00bef7b00747929818659adde4ccf2": {
      "model_module": "@jupyter-widgets/base",
      "model_module_version": "2.0.0",
      "model_name": "LayoutModel",
      "state": {}
     },
     "8e2d77ef30b046d180eef2001a77b1ef": {
      "model_module": "@jupyter-widgets/controls",
      "model_module_version": "2.0.0",
      "model_name": "VBoxModel",
      "state": {
       "children": [
        "IPY_MODEL_517b07ea190c423cb9573cc8df9f52f1",
        "IPY_MODEL_b4d20251ab7d41c2baacd0bd8e82c2db"
       ],
       "layout": "IPY_MODEL_250c662fb34b46a0a7ca6a64444dab3c"
      }
     },
     "90ae2973edd345a9acb7df8585467d7b": {
      "model_module": "@jupyter-widgets/controls",
      "model_module_version": "2.0.0",
      "model_name": "IntSliderModel",
      "state": {
       "behavior": "drag-tap",
       "layout": "IPY_MODEL_dfa2540ee6e443ddb8b3f8ffe9e41d6f",
       "max": 200,
       "style": "IPY_MODEL_b308edd8770d4d92b9e8bcd4a50b01cc",
       "value": 6
      }
     },
     "91a106f21cd7415f89de7cbe7ce5d64c": {
      "model_module": "@jupyter-widgets/controls",
      "model_module_version": "2.0.0",
      "model_name": "SliderStyleModel",
      "state": {
       "description_width": ""
      }
     },
     "9215fc9657464d31a9d686573d518cb9": {
      "model_module": "@jupyter-widgets/output",
      "model_module_version": "1.0.0",
      "model_name": "OutputModel",
      "state": {
       "layout": "IPY_MODEL_762fa7d1170d4abdb440de99b39ffb21",
       "outputs": [
        {
         "name": "stdout",
         "output_type": "stream",
         "text": "0 * 0 = 0\n"
        }
       ]
      }
     },
     "92180b8ebb6b4b748fab49f8a1169fe5": {
      "model_module": "@jupyter-widgets/base",
      "model_module_version": "2.0.0",
      "model_name": "LayoutModel",
      "state": {}
     },
     "92b75914eb8240dcad71049eabd9e1be": {
      "model_module": "@jupyter-widgets/output",
      "model_module_version": "1.0.0",
      "model_name": "OutputModel",
      "state": {
       "layout": "IPY_MODEL_a03de22ba13c49099235623488f4cea3",
       "outputs": [
        {
         "data": {
          "image/svg+xml": "<?xml version=\"1.0\" encoding=\"utf-8\" standalone=\"no\"?>\n<!DOCTYPE svg PUBLIC \"-//W3C//DTD SVG 1.1//EN\"\n  \"http://www.w3.org/Graphics/SVG/1.1/DTD/svg11.dtd\">\n<svg xmlns:xlink=\"http://www.w3.org/1999/xlink\" width=\"420.82625pt\" height=\"325.986375pt\" viewBox=\"0 0 420.82625 325.986375\" xmlns=\"http://www.w3.org/2000/svg\" version=\"1.1\">\n <metadata>\n  <rdf:RDF xmlns:dc=\"http://purl.org/dc/elements/1.1/\" xmlns:cc=\"http://creativecommons.org/ns#\" xmlns:rdf=\"http://www.w3.org/1999/02/22-rdf-syntax-ns#\">\n   <cc:Work>\n    <dc:type rdf:resource=\"http://purl.org/dc/dcmitype/StillImage\"/>\n    <dc:date>2023-03-27T23:22:23.553027</dc:date>\n    <dc:format>image/svg+xml</dc:format>\n    <dc:creator>\n     <cc:Agent>\n      <dc:title>Matplotlib v3.7.1, https://matplotlib.org/</dc:title>\n     </cc:Agent>\n    </dc:creator>\n   </cc:Work>\n  </rdf:RDF>\n </metadata>\n <defs>\n  <style type=\"text/css\">*{stroke-linejoin: round; stroke-linecap: butt}</style>\n </defs>\n <g id=\"figure_1\">\n  <g id=\"patch_1\">\n   <path d=\"M 0 325.986375 \nL 420.82625 325.986375 \nL 420.82625 0 \nL 0 0 \nz\n\" style=\"fill: #ffffff\"/>\n  </g>\n  <g id=\"axes_1\">\n   <g id=\"patch_2\">\n    <path d=\"M 56.50625 288.430125 \nL 413.62625 288.430125 \nL 413.62625 22.318125 \nL 56.50625 22.318125 \nz\n\" style=\"fill: #ffffff\"/>\n   </g>\n   <g id=\"patch_3\">\n    <path d=\"M 72.738977 288.430125 \nL 77.811705 288.430125 \nL 77.811705 268.154925 \nL 72.738977 268.154925 \nz\n\" clip-path=\"url(#p37f73351d0)\" style=\"fill: #1f77b4\"/>\n   </g>\n   <g id=\"patch_4\">\n    <path d=\"M 77.811705 288.430125 \nL 82.884432 288.430125 \nL 82.884432 288.430125 \nL 77.811705 288.430125 \nz\n\" clip-path=\"url(#p37f73351d0)\" style=\"fill: #1f77b4\"/>\n   </g>\n   <g id=\"patch_5\">\n    <path d=\"M 82.884432 288.430125 \nL 87.957159 288.430125 \nL 87.957159 288.430125 \nL 82.884432 288.430125 \nz\n\" clip-path=\"url(#p37f73351d0)\" style=\"fill: #1f77b4\"/>\n   </g>\n   <g id=\"patch_6\">\n    <path d=\"M 87.957159 288.430125 \nL 93.029886 288.430125 \nL 93.029886 288.430125 \nL 87.957159 288.430125 \nz\n\" clip-path=\"url(#p37f73351d0)\" style=\"fill: #1f77b4\"/>\n   </g>\n   <g id=\"patch_7\">\n    <path d=\"M 93.029886 288.430125 \nL 98.102614 288.430125 \nL 98.102614 258.017325 \nL 93.029886 258.017325 \nz\n\" clip-path=\"url(#p37f73351d0)\" style=\"fill: #1f77b4\"/>\n   </g>\n   <g id=\"patch_8\">\n    <path d=\"M 98.102614 288.430125 \nL 103.175341 288.430125 \nL 103.175341 278.292525 \nL 98.102614 278.292525 \nz\n\" clip-path=\"url(#p37f73351d0)\" style=\"fill: #1f77b4\"/>\n   </g>\n   <g id=\"patch_9\">\n    <path d=\"M 103.175341 288.430125 \nL 108.248068 288.430125 \nL 108.248068 288.430125 \nL 103.175341 288.430125 \nz\n\" clip-path=\"url(#p37f73351d0)\" style=\"fill: #1f77b4\"/>\n   </g>\n   <g id=\"patch_10\">\n    <path d=\"M 108.248068 288.430125 \nL 113.320795 288.430125 \nL 113.320795 268.154925 \nL 108.248068 268.154925 \nz\n\" clip-path=\"url(#p37f73351d0)\" style=\"fill: #1f77b4\"/>\n   </g>\n   <g id=\"patch_11\">\n    <path d=\"M 113.320795 288.430125 \nL 118.393523 288.430125 \nL 118.393523 247.879725 \nL 113.320795 247.879725 \nz\n\" clip-path=\"url(#p37f73351d0)\" style=\"fill: #1f77b4\"/>\n   </g>\n   <g id=\"patch_12\">\n    <path d=\"M 118.393523 288.430125 \nL 123.46625 288.430125 \nL 123.46625 268.154925 \nL 118.393523 268.154925 \nz\n\" clip-path=\"url(#p37f73351d0)\" style=\"fill: #1f77b4\"/>\n   </g>\n   <g id=\"patch_13\">\n    <path d=\"M 123.46625 288.430125 \nL 128.538977 288.430125 \nL 128.538977 268.154925 \nL 123.46625 268.154925 \nz\n\" clip-path=\"url(#p37f73351d0)\" style=\"fill: #1f77b4\"/>\n   </g>\n   <g id=\"patch_14\">\n    <path d=\"M 128.538977 288.430125 \nL 133.611705 288.430125 \nL 133.611705 247.879725 \nL 128.538977 247.879725 \nz\n\" clip-path=\"url(#p37f73351d0)\" style=\"fill: #1f77b4\"/>\n   </g>\n   <g id=\"patch_15\">\n    <path d=\"M 133.611705 288.430125 \nL 138.684432 288.430125 \nL 138.684432 237.742125 \nL 133.611705 237.742125 \nz\n\" clip-path=\"url(#p37f73351d0)\" style=\"fill: #1f77b4\"/>\n   </g>\n   <g id=\"patch_16\">\n    <path d=\"M 138.684432 288.430125 \nL 143.757159 288.430125 \nL 143.757159 237.742125 \nL 138.684432 237.742125 \nz\n\" clip-path=\"url(#p37f73351d0)\" style=\"fill: #1f77b4\"/>\n   </g>\n   <g id=\"patch_17\">\n    <path d=\"M 143.757159 288.430125 \nL 148.829886 288.430125 \nL 148.829886 146.503725 \nL 143.757159 146.503725 \nz\n\" clip-path=\"url(#p37f73351d0)\" style=\"fill: #1f77b4\"/>\n   </g>\n   <g id=\"patch_18\">\n    <path d=\"M 148.829886 288.430125 \nL 153.902614 288.430125 \nL 153.902614 217.466925 \nL 148.829886 217.466925 \nz\n\" clip-path=\"url(#p37f73351d0)\" style=\"fill: #1f77b4\"/>\n   </g>\n   <g id=\"patch_19\">\n    <path d=\"M 153.902614 288.430125 \nL 158.975341 288.430125 \nL 158.975341 207.329325 \nL 153.902614 207.329325 \nz\n\" clip-path=\"url(#p37f73351d0)\" style=\"fill: #1f77b4\"/>\n   </g>\n   <g id=\"patch_20\">\n    <path d=\"M 158.975341 288.430125 \nL 164.048068 288.430125 \nL 164.048068 217.466925 \nL 158.975341 217.466925 \nz\n\" clip-path=\"url(#p37f73351d0)\" style=\"fill: #1f77b4\"/>\n   </g>\n   <g id=\"patch_21\">\n    <path d=\"M 164.048068 288.430125 \nL 169.120795 288.430125 \nL 169.120795 187.054125 \nL 164.048068 187.054125 \nz\n\" clip-path=\"url(#p37f73351d0)\" style=\"fill: #1f77b4\"/>\n   </g>\n   <g id=\"patch_22\">\n    <path d=\"M 169.120795 288.430125 \nL 174.193523 288.430125 \nL 174.193523 156.641325 \nL 169.120795 156.641325 \nz\n\" clip-path=\"url(#p37f73351d0)\" style=\"fill: #1f77b4\"/>\n   </g>\n   <g id=\"patch_23\">\n    <path d=\"M 174.193523 288.430125 \nL 179.26625 288.430125 \nL 179.26625 187.054125 \nL 174.193523 187.054125 \nz\n\" clip-path=\"url(#p37f73351d0)\" style=\"fill: #1f77b4\"/>\n   </g>\n   <g id=\"patch_24\">\n    <path d=\"M 179.26625 288.430125 \nL 184.338977 288.430125 \nL 184.338977 187.054125 \nL 179.26625 187.054125 \nz\n\" clip-path=\"url(#p37f73351d0)\" style=\"fill: #1f77b4\"/>\n   </g>\n   <g id=\"patch_25\">\n    <path d=\"M 184.338977 288.430125 \nL 189.411705 288.430125 \nL 189.411705 116.090925 \nL 184.338977 116.090925 \nz\n\" clip-path=\"url(#p37f73351d0)\" style=\"fill: #1f77b4\"/>\n   </g>\n   <g id=\"patch_26\">\n    <path d=\"M 189.411705 288.430125 \nL 194.484432 288.430125 \nL 194.484432 166.778925 \nL 189.411705 166.778925 \nz\n\" clip-path=\"url(#p37f73351d0)\" style=\"fill: #1f77b4\"/>\n   </g>\n   <g id=\"patch_27\">\n    <path d=\"M 194.484432 288.430125 \nL 199.557159 288.430125 \nL 199.557159 146.503725 \nL 194.484432 146.503725 \nz\n\" clip-path=\"url(#p37f73351d0)\" style=\"fill: #1f77b4\"/>\n   </g>\n   <g id=\"patch_28\">\n    <path d=\"M 199.557159 288.430125 \nL 204.629886 288.430125 \nL 204.629886 146.503725 \nL 199.557159 146.503725 \nz\n\" clip-path=\"url(#p37f73351d0)\" style=\"fill: #1f77b4\"/>\n   </g>\n   <g id=\"patch_29\">\n    <path d=\"M 204.629886 288.430125 \nL 209.702614 288.430125 \nL 209.702614 116.090925 \nL 204.629886 116.090925 \nz\n\" clip-path=\"url(#p37f73351d0)\" style=\"fill: #1f77b4\"/>\n   </g>\n   <g id=\"patch_30\">\n    <path d=\"M 209.702614 288.430125 \nL 214.775341 288.430125 \nL 214.775341 156.641325 \nL 209.702614 156.641325 \nz\n\" clip-path=\"url(#p37f73351d0)\" style=\"fill: #1f77b4\"/>\n   </g>\n   <g id=\"patch_31\">\n    <path d=\"M 214.775341 288.430125 \nL 219.848068 288.430125 \nL 219.848068 156.641325 \nL 214.775341 156.641325 \nz\n\" clip-path=\"url(#p37f73351d0)\" style=\"fill: #1f77b4\"/>\n   </g>\n   <g id=\"patch_32\">\n    <path d=\"M 219.848068 288.430125 \nL 224.920795 288.430125 \nL 224.920795 116.090925 \nL 219.848068 116.090925 \nz\n\" clip-path=\"url(#p37f73351d0)\" style=\"fill: #1f77b4\"/>\n   </g>\n   <g id=\"patch_33\">\n    <path d=\"M 224.920795 288.430125 \nL 229.993523 288.430125 \nL 229.993523 187.054125 \nL 224.920795 187.054125 \nz\n\" clip-path=\"url(#p37f73351d0)\" style=\"fill: #1f77b4\"/>\n   </g>\n   <g id=\"patch_34\">\n    <path d=\"M 229.993523 288.430125 \nL 235.06625 288.430125 \nL 235.06625 197.191725 \nL 229.993523 197.191725 \nz\n\" clip-path=\"url(#p37f73351d0)\" style=\"fill: #1f77b4\"/>\n   </g>\n   <g id=\"patch_35\">\n    <path d=\"M 235.06625 288.430125 \nL 240.138977 288.430125 \nL 240.138977 166.778925 \nL 235.06625 166.778925 \nz\n\" clip-path=\"url(#p37f73351d0)\" style=\"fill: #1f77b4\"/>\n   </g>\n   <g id=\"patch_36\">\n    <path d=\"M 240.138977 288.430125 \nL 245.211705 288.430125 \nL 245.211705 136.366125 \nL 240.138977 136.366125 \nz\n\" clip-path=\"url(#p37f73351d0)\" style=\"fill: #1f77b4\"/>\n   </g>\n   <g id=\"patch_37\">\n    <path d=\"M 245.211705 288.430125 \nL 250.284432 288.430125 \nL 250.284432 34.990125 \nL 245.211705 34.990125 \nz\n\" clip-path=\"url(#p37f73351d0)\" style=\"fill: #1f77b4\"/>\n   </g>\n   <g id=\"patch_38\">\n    <path d=\"M 250.284432 288.430125 \nL 255.357159 288.430125 \nL 255.357159 146.503725 \nL 250.284432 146.503725 \nz\n\" clip-path=\"url(#p37f73351d0)\" style=\"fill: #1f77b4\"/>\n   </g>\n   <g id=\"patch_39\">\n    <path d=\"M 255.357159 288.430125 \nL 260.429886 288.430125 \nL 260.429886 105.953325 \nL 255.357159 105.953325 \nz\n\" clip-path=\"url(#p37f73351d0)\" style=\"fill: #1f77b4\"/>\n   </g>\n   <g id=\"patch_40\">\n    <path d=\"M 260.429886 288.430125 \nL 265.502614 288.430125 \nL 265.502614 166.778925 \nL 260.429886 166.778925 \nz\n\" clip-path=\"url(#p37f73351d0)\" style=\"fill: #1f77b4\"/>\n   </g>\n   <g id=\"patch_41\">\n    <path d=\"M 265.502614 288.430125 \nL 270.575341 288.430125 \nL 270.575341 136.366125 \nL 265.502614 136.366125 \nz\n\" clip-path=\"url(#p37f73351d0)\" style=\"fill: #1f77b4\"/>\n   </g>\n   <g id=\"patch_42\">\n    <path d=\"M 270.575341 288.430125 \nL 275.648068 288.430125 \nL 275.648068 156.641325 \nL 270.575341 156.641325 \nz\n\" clip-path=\"url(#p37f73351d0)\" style=\"fill: #1f77b4\"/>\n   </g>\n   <g id=\"patch_43\">\n    <path d=\"M 275.648068 288.430125 \nL 280.720795 288.430125 \nL 280.720795 207.329325 \nL 275.648068 207.329325 \nz\n\" clip-path=\"url(#p37f73351d0)\" style=\"fill: #1f77b4\"/>\n   </g>\n   <g id=\"patch_44\">\n    <path d=\"M 280.720795 288.430125 \nL 285.793523 288.430125 \nL 285.793523 197.191725 \nL 280.720795 197.191725 \nz\n\" clip-path=\"url(#p37f73351d0)\" style=\"fill: #1f77b4\"/>\n   </g>\n   <g id=\"patch_45\">\n    <path d=\"M 285.793523 288.430125 \nL 290.86625 288.430125 \nL 290.86625 227.604525 \nL 285.793523 227.604525 \nz\n\" clip-path=\"url(#p37f73351d0)\" style=\"fill: #1f77b4\"/>\n   </g>\n   <g id=\"patch_46\">\n    <path d=\"M 290.86625 288.430125 \nL 295.938977 288.430125 \nL 295.938977 237.742125 \nL 290.86625 237.742125 \nz\n\" clip-path=\"url(#p37f73351d0)\" style=\"fill: #1f77b4\"/>\n   </g>\n   <g id=\"patch_47\">\n    <path d=\"M 295.938977 288.430125 \nL 301.011705 288.430125 \nL 301.011705 247.879725 \nL 295.938977 247.879725 \nz\n\" clip-path=\"url(#p37f73351d0)\" style=\"fill: #1f77b4\"/>\n   </g>\n   <g id=\"patch_48\">\n    <path d=\"M 301.011705 288.430125 \nL 306.084432 288.430125 \nL 306.084432 197.191725 \nL 301.011705 197.191725 \nz\n\" clip-path=\"url(#p37f73351d0)\" style=\"fill: #1f77b4\"/>\n   </g>\n   <g id=\"patch_49\">\n    <path d=\"M 306.084432 288.430125 \nL 311.157159 288.430125 \nL 311.157159 247.879725 \nL 306.084432 247.879725 \nz\n\" clip-path=\"url(#p37f73351d0)\" style=\"fill: #1f77b4\"/>\n   </g>\n   <g id=\"patch_50\">\n    <path d=\"M 311.157159 288.430125 \nL 316.229886 288.430125 \nL 316.229886 268.154925 \nL 311.157159 268.154925 \nz\n\" clip-path=\"url(#p37f73351d0)\" style=\"fill: #1f77b4\"/>\n   </g>\n   <g id=\"patch_51\">\n    <path d=\"M 316.229886 288.430125 \nL 321.302614 288.430125 \nL 321.302614 237.742125 \nL 316.229886 237.742125 \nz\n\" clip-path=\"url(#p37f73351d0)\" style=\"fill: #1f77b4\"/>\n   </g>\n   <g id=\"patch_52\">\n    <path d=\"M 321.302614 288.430125 \nL 326.375341 288.430125 \nL 326.375341 268.154925 \nL 321.302614 268.154925 \nz\n\" clip-path=\"url(#p37f73351d0)\" style=\"fill: #1f77b4\"/>\n   </g>\n   <g id=\"patch_53\">\n    <path d=\"M 326.375341 288.430125 \nL 331.448068 288.430125 \nL 331.448068 278.292525 \nL 326.375341 278.292525 \nz\n\" clip-path=\"url(#p37f73351d0)\" style=\"fill: #1f77b4\"/>\n   </g>\n   <g id=\"patch_54\">\n    <path d=\"M 331.448068 288.430125 \nL 336.520795 288.430125 \nL 336.520795 247.879725 \nL 331.448068 247.879725 \nz\n\" clip-path=\"url(#p37f73351d0)\" style=\"fill: #1f77b4\"/>\n   </g>\n   <g id=\"patch_55\">\n    <path d=\"M 336.520795 288.430125 \nL 341.593523 288.430125 \nL 341.593523 258.017325 \nL 336.520795 258.017325 \nz\n\" clip-path=\"url(#p37f73351d0)\" style=\"fill: #1f77b4\"/>\n   </g>\n   <g id=\"patch_56\">\n    <path d=\"M 341.593523 288.430125 \nL 346.66625 288.430125 \nL 346.66625 288.430125 \nL 341.593523 288.430125 \nz\n\" clip-path=\"url(#p37f73351d0)\" style=\"fill: #1f77b4\"/>\n   </g>\n   <g id=\"patch_57\">\n    <path d=\"M 346.66625 288.430125 \nL 351.738977 288.430125 \nL 351.738977 288.430125 \nL 346.66625 288.430125 \nz\n\" clip-path=\"url(#p37f73351d0)\" style=\"fill: #1f77b4\"/>\n   </g>\n   <g id=\"patch_58\">\n    <path d=\"M 351.738977 288.430125 \nL 356.811705 288.430125 \nL 356.811705 278.292525 \nL 351.738977 278.292525 \nz\n\" clip-path=\"url(#p37f73351d0)\" style=\"fill: #1f77b4\"/>\n   </g>\n   <g id=\"patch_59\">\n    <path d=\"M 356.811705 288.430125 \nL 361.884432 288.430125 \nL 361.884432 278.292525 \nL 356.811705 278.292525 \nz\n\" clip-path=\"url(#p37f73351d0)\" style=\"fill: #1f77b4\"/>\n   </g>\n   <g id=\"patch_60\">\n    <path d=\"M 361.884432 288.430125 \nL 366.957159 288.430125 \nL 366.957159 288.430125 \nL 361.884432 288.430125 \nz\n\" clip-path=\"url(#p37f73351d0)\" style=\"fill: #1f77b4\"/>\n   </g>\n   <g id=\"patch_61\">\n    <path d=\"M 366.957159 288.430125 \nL 372.029886 288.430125 \nL 372.029886 278.292525 \nL 366.957159 278.292525 \nz\n\" clip-path=\"url(#p37f73351d0)\" style=\"fill: #1f77b4\"/>\n   </g>\n   <g id=\"patch_62\">\n    <path d=\"M 372.029886 288.430125 \nL 377.102614 288.430125 \nL 377.102614 288.430125 \nL 372.029886 288.430125 \nz\n\" clip-path=\"url(#p37f73351d0)\" style=\"fill: #1f77b4\"/>\n   </g>\n   <g id=\"patch_63\">\n    <path d=\"M 377.102614 288.430125 \nL 382.175341 288.430125 \nL 382.175341 288.430125 \nL 377.102614 288.430125 \nz\n\" clip-path=\"url(#p37f73351d0)\" style=\"fill: #1f77b4\"/>\n   </g>\n   <g id=\"patch_64\">\n    <path d=\"M 382.175341 288.430125 \nL 387.248068 288.430125 \nL 387.248068 288.430125 \nL 382.175341 288.430125 \nz\n\" clip-path=\"url(#p37f73351d0)\" style=\"fill: #1f77b4\"/>\n   </g>\n   <g id=\"patch_65\">\n    <path d=\"M 387.248068 288.430125 \nL 392.320795 288.430125 \nL 392.320795 268.154925 \nL 387.248068 268.154925 \nz\n\" clip-path=\"url(#p37f73351d0)\" style=\"fill: #1f77b4\"/>\n   </g>\n   <g id=\"patch_66\">\n    <path d=\"M 392.320795 288.430125 \nL 397.393523 288.430125 \nL 397.393523 278.292525 \nL 392.320795 278.292525 \nz\n\" clip-path=\"url(#p37f73351d0)\" style=\"fill: #1f77b4\"/>\n   </g>\n   <g id=\"matplotlib.axis_1\">\n    <g id=\"xtick_1\">\n     <g id=\"line2d_1\">\n      <defs>\n       <path id=\"mf7e094276d\" d=\"M 0 0 \nL 0 3.5 \n\" style=\"stroke: #000000; stroke-width: 0.8\"/>\n      </defs>\n      <g>\n       <use xlink:href=\"#mf7e094276d\" x=\"70.991927\" y=\"288.430125\" style=\"stroke: #000000; stroke-width: 0.8\"/>\n      </g>\n     </g>\n     <g id=\"text_1\">\n      <!-- 60 -->\n      <g transform=\"translate(64.629427 303.028562) scale(0.1 -0.1)\">\n       <defs>\n        <path id=\"DejaVuSans-36\" d=\"M 2113 2584 \nQ 1688 2584 1439 2293 \nQ 1191 2003 1191 1497 \nQ 1191 994 1439 701 \nQ 1688 409 2113 409 \nQ 2538 409 2786 701 \nQ 3034 994 3034 1497 \nQ 3034 2003 2786 2293 \nQ 2538 2584 2113 2584 \nz\nM 3366 4563 \nL 3366 3988 \nQ 3128 4100 2886 4159 \nQ 2644 4219 2406 4219 \nQ 1781 4219 1451 3797 \nQ 1122 3375 1075 2522 \nQ 1259 2794 1537 2939 \nQ 1816 3084 2150 3084 \nQ 2853 3084 3261 2657 \nQ 3669 2231 3669 1497 \nQ 3669 778 3244 343 \nQ 2819 -91 2113 -91 \nQ 1303 -91 875 529 \nQ 447 1150 447 2328 \nQ 447 3434 972 4092 \nQ 1497 4750 2381 4750 \nQ 2619 4750 2861 4703 \nQ 3103 4656 3366 4563 \nz\n\" transform=\"scale(0.015625)\"/>\n        <path id=\"DejaVuSans-30\" d=\"M 2034 4250 \nQ 1547 4250 1301 3770 \nQ 1056 3291 1056 2328 \nQ 1056 1369 1301 889 \nQ 1547 409 2034 409 \nQ 2525 409 2770 889 \nQ 3016 1369 3016 2328 \nQ 3016 3291 2770 3770 \nQ 2525 4250 2034 4250 \nz\nM 2034 4750 \nQ 2819 4750 3233 4129 \nQ 3647 3509 3647 2328 \nQ 3647 1150 3233 529 \nQ 2819 -91 2034 -91 \nQ 1250 -91 836 529 \nQ 422 1150 422 2328 \nQ 422 3509 836 4129 \nQ 1250 4750 2034 4750 \nz\n\" transform=\"scale(0.015625)\"/>\n       </defs>\n       <use xlink:href=\"#DejaVuSans-36\"/>\n       <use xlink:href=\"#DejaVuSans-30\" x=\"63.623047\"/>\n      </g>\n     </g>\n    </g>\n    <g id=\"xtick_2\">\n     <g id=\"line2d_2\">\n      <g>\n       <use xlink:href=\"#mf7e094276d\" x=\"146.330922\" y=\"288.430125\" style=\"stroke: #000000; stroke-width: 0.8\"/>\n      </g>\n     </g>\n     <g id=\"text_2\">\n      <!-- 80 -->\n      <g transform=\"translate(139.968422 303.028562) scale(0.1 -0.1)\">\n       <defs>\n        <path id=\"DejaVuSans-38\" d=\"M 2034 2216 \nQ 1584 2216 1326 1975 \nQ 1069 1734 1069 1313 \nQ 1069 891 1326 650 \nQ 1584 409 2034 409 \nQ 2484 409 2743 651 \nQ 3003 894 3003 1313 \nQ 3003 1734 2745 1975 \nQ 2488 2216 2034 2216 \nz\nM 1403 2484 \nQ 997 2584 770 2862 \nQ 544 3141 544 3541 \nQ 544 4100 942 4425 \nQ 1341 4750 2034 4750 \nQ 2731 4750 3128 4425 \nQ 3525 4100 3525 3541 \nQ 3525 3141 3298 2862 \nQ 3072 2584 2669 2484 \nQ 3125 2378 3379 2068 \nQ 3634 1759 3634 1313 \nQ 3634 634 3220 271 \nQ 2806 -91 2034 -91 \nQ 1263 -91 848 271 \nQ 434 634 434 1313 \nQ 434 1759 690 2068 \nQ 947 2378 1403 2484 \nz\nM 1172 3481 \nQ 1172 3119 1398 2916 \nQ 1625 2713 2034 2713 \nQ 2441 2713 2670 2916 \nQ 2900 3119 2900 3481 \nQ 2900 3844 2670 4047 \nQ 2441 4250 2034 4250 \nQ 1625 4250 1398 4047 \nQ 1172 3844 1172 3481 \nz\n\" transform=\"scale(0.015625)\"/>\n       </defs>\n       <use xlink:href=\"#DejaVuSans-38\"/>\n       <use xlink:href=\"#DejaVuSans-30\" x=\"63.623047\"/>\n      </g>\n     </g>\n    </g>\n    <g id=\"xtick_3\">\n     <g id=\"line2d_3\">\n      <g>\n       <use xlink:href=\"#mf7e094276d\" x=\"221.669918\" y=\"288.430125\" style=\"stroke: #000000; stroke-width: 0.8\"/>\n      </g>\n     </g>\n     <g id=\"text_3\">\n      <!-- 100 -->\n      <g transform=\"translate(212.126168 303.028562) scale(0.1 -0.1)\">\n       <defs>\n        <path id=\"DejaVuSans-31\" d=\"M 794 531 \nL 1825 531 \nL 1825 4091 \nL 703 3866 \nL 703 4441 \nL 1819 4666 \nL 2450 4666 \nL 2450 531 \nL 3481 531 \nL 3481 0 \nL 794 0 \nL 794 531 \nz\n\" transform=\"scale(0.015625)\"/>\n       </defs>\n       <use xlink:href=\"#DejaVuSans-31\"/>\n       <use xlink:href=\"#DejaVuSans-30\" x=\"63.623047\"/>\n       <use xlink:href=\"#DejaVuSans-30\" x=\"127.246094\"/>\n      </g>\n     </g>\n    </g>\n    <g id=\"xtick_4\">\n     <g id=\"line2d_4\">\n      <g>\n       <use xlink:href=\"#mf7e094276d\" x=\"297.008913\" y=\"288.430125\" style=\"stroke: #000000; stroke-width: 0.8\"/>\n      </g>\n     </g>\n     <g id=\"text_4\">\n      <!-- 120 -->\n      <g transform=\"translate(287.465163 303.028562) scale(0.1 -0.1)\">\n       <defs>\n        <path id=\"DejaVuSans-32\" d=\"M 1228 531 \nL 3431 531 \nL 3431 0 \nL 469 0 \nL 469 531 \nQ 828 903 1448 1529 \nQ 2069 2156 2228 2338 \nQ 2531 2678 2651 2914 \nQ 2772 3150 2772 3378 \nQ 2772 3750 2511 3984 \nQ 2250 4219 1831 4219 \nQ 1534 4219 1204 4116 \nQ 875 4013 500 3803 \nL 500 4441 \nQ 881 4594 1212 4672 \nQ 1544 4750 1819 4750 \nQ 2544 4750 2975 4387 \nQ 3406 4025 3406 3419 \nQ 3406 3131 3298 2873 \nQ 3191 2616 2906 2266 \nQ 2828 2175 2409 1742 \nQ 1991 1309 1228 531 \nz\n\" transform=\"scale(0.015625)\"/>\n       </defs>\n       <use xlink:href=\"#DejaVuSans-31\"/>\n       <use xlink:href=\"#DejaVuSans-32\" x=\"63.623047\"/>\n       <use xlink:href=\"#DejaVuSans-30\" x=\"127.246094\"/>\n      </g>\n     </g>\n    </g>\n    <g id=\"xtick_5\">\n     <g id=\"line2d_5\">\n      <g>\n       <use xlink:href=\"#mf7e094276d\" x=\"372.347909\" y=\"288.430125\" style=\"stroke: #000000; stroke-width: 0.8\"/>\n      </g>\n     </g>\n     <g id=\"text_5\">\n      <!-- 140 -->\n      <g transform=\"translate(362.804159 303.028562) scale(0.1 -0.1)\">\n       <defs>\n        <path id=\"DejaVuSans-34\" d=\"M 2419 4116 \nL 825 1625 \nL 2419 1625 \nL 2419 4116 \nz\nM 2253 4666 \nL 3047 4666 \nL 3047 1625 \nL 3713 1625 \nL 3713 1100 \nL 3047 1100 \nL 3047 0 \nL 2419 0 \nL 2419 1100 \nL 313 1100 \nL 313 1709 \nL 2253 4666 \nz\n\" transform=\"scale(0.015625)\"/>\n       </defs>\n       <use xlink:href=\"#DejaVuSans-31\"/>\n       <use xlink:href=\"#DejaVuSans-34\" x=\"63.623047\"/>\n       <use xlink:href=\"#DejaVuSans-30\" x=\"127.246094\"/>\n      </g>\n     </g>\n    </g>\n    <g id=\"text_6\">\n     <!-- X -->\n     <g transform=\"translate(231.64125 316.706687) scale(0.1 -0.1)\">\n      <defs>\n       <path id=\"DejaVuSans-58\" d=\"M 403 4666 \nL 1081 4666 \nL 2241 2931 \nL 3406 4666 \nL 4084 4666 \nL 2584 2425 \nL 4184 0 \nL 3506 0 \nL 2194 1984 \nL 872 0 \nL 191 0 \nL 1856 2491 \nL 403 4666 \nz\n\" transform=\"scale(0.015625)\"/>\n      </defs>\n      <use xlink:href=\"#DejaVuSans-58\"/>\n     </g>\n    </g>\n   </g>\n   <g id=\"matplotlib.axis_2\">\n    <g id=\"ytick_1\">\n     <g id=\"line2d_6\">\n      <defs>\n       <path id=\"m2a2ef7edf9\" d=\"M 0 0 \nL -3.5 0 \n\" style=\"stroke: #000000; stroke-width: 0.8\"/>\n      </defs>\n      <g>\n       <use xlink:href=\"#m2a2ef7edf9\" x=\"56.50625\" y=\"288.430125\" style=\"stroke: #000000; stroke-width: 0.8\"/>\n      </g>\n     </g>\n     <g id=\"text_7\">\n      <!-- 0.000 -->\n      <g transform=\"translate(20.878125 292.229344) scale(0.1 -0.1)\">\n       <defs>\n        <path id=\"DejaVuSans-2e\" d=\"M 684 794 \nL 1344 794 \nL 1344 0 \nL 684 0 \nL 684 794 \nz\n\" transform=\"scale(0.015625)\"/>\n       </defs>\n       <use xlink:href=\"#DejaVuSans-30\"/>\n       <use xlink:href=\"#DejaVuSans-2e\" x=\"63.623047\"/>\n       <use xlink:href=\"#DejaVuSans-30\" x=\"95.410156\"/>\n       <use xlink:href=\"#DejaVuSans-30\" x=\"159.033203\"/>\n       <use xlink:href=\"#DejaVuSans-30\" x=\"222.65625\"/>\n      </g>\n     </g>\n    </g>\n    <g id=\"ytick_2\">\n     <g id=\"line2d_7\">\n      <g>\n       <use xlink:href=\"#m2a2ef7edf9\" x=\"56.50625\" y=\"258.601154\" style=\"stroke: #000000; stroke-width: 0.8\"/>\n      </g>\n     </g>\n     <g id=\"text_8\">\n      <!-- 0.005 -->\n      <g transform=\"translate(20.878125 262.400372) scale(0.1 -0.1)\">\n       <defs>\n        <path id=\"DejaVuSans-35\" d=\"M 691 4666 \nL 3169 4666 \nL 3169 4134 \nL 1269 4134 \nL 1269 2991 \nQ 1406 3038 1543 3061 \nQ 1681 3084 1819 3084 \nQ 2600 3084 3056 2656 \nQ 3513 2228 3513 1497 \nQ 3513 744 3044 326 \nQ 2575 -91 1722 -91 \nQ 1428 -91 1123 -41 \nQ 819 9 494 109 \nL 494 744 \nQ 775 591 1075 516 \nQ 1375 441 1709 441 \nQ 2250 441 2565 725 \nQ 2881 1009 2881 1497 \nQ 2881 1984 2565 2268 \nQ 2250 2553 1709 2553 \nQ 1456 2553 1204 2497 \nQ 953 2441 691 2322 \nL 691 4666 \nz\n\" transform=\"scale(0.015625)\"/>\n       </defs>\n       <use xlink:href=\"#DejaVuSans-30\"/>\n       <use xlink:href=\"#DejaVuSans-2e\" x=\"63.623047\"/>\n       <use xlink:href=\"#DejaVuSans-30\" x=\"95.410156\"/>\n       <use xlink:href=\"#DejaVuSans-30\" x=\"159.033203\"/>\n       <use xlink:href=\"#DejaVuSans-35\" x=\"222.65625\"/>\n      </g>\n     </g>\n    </g>\n    <g id=\"ytick_3\">\n     <g id=\"line2d_8\">\n      <g>\n       <use xlink:href=\"#m2a2ef7edf9\" x=\"56.50625\" y=\"228.772182\" style=\"stroke: #000000; stroke-width: 0.8\"/>\n      </g>\n     </g>\n     <g id=\"text_9\">\n      <!-- 0.010 -->\n      <g transform=\"translate(20.878125 232.571401) scale(0.1 -0.1)\">\n       <use xlink:href=\"#DejaVuSans-30\"/>\n       <use xlink:href=\"#DejaVuSans-2e\" x=\"63.623047\"/>\n       <use xlink:href=\"#DejaVuSans-30\" x=\"95.410156\"/>\n       <use xlink:href=\"#DejaVuSans-31\" x=\"159.033203\"/>\n       <use xlink:href=\"#DejaVuSans-30\" x=\"222.65625\"/>\n      </g>\n     </g>\n    </g>\n    <g id=\"ytick_4\">\n     <g id=\"line2d_9\">\n      <g>\n       <use xlink:href=\"#m2a2ef7edf9\" x=\"56.50625\" y=\"198.943211\" style=\"stroke: #000000; stroke-width: 0.8\"/>\n      </g>\n     </g>\n     <g id=\"text_10\">\n      <!-- 0.015 -->\n      <g transform=\"translate(20.878125 202.74243) scale(0.1 -0.1)\">\n       <use xlink:href=\"#DejaVuSans-30\"/>\n       <use xlink:href=\"#DejaVuSans-2e\" x=\"63.623047\"/>\n       <use xlink:href=\"#DejaVuSans-30\" x=\"95.410156\"/>\n       <use xlink:href=\"#DejaVuSans-31\" x=\"159.033203\"/>\n       <use xlink:href=\"#DejaVuSans-35\" x=\"222.65625\"/>\n      </g>\n     </g>\n    </g>\n    <g id=\"ytick_5\">\n     <g id=\"line2d_10\">\n      <g>\n       <use xlink:href=\"#m2a2ef7edf9\" x=\"56.50625\" y=\"169.11424\" style=\"stroke: #000000; stroke-width: 0.8\"/>\n      </g>\n     </g>\n     <g id=\"text_11\">\n      <!-- 0.020 -->\n      <g transform=\"translate(20.878125 172.913459) scale(0.1 -0.1)\">\n       <use xlink:href=\"#DejaVuSans-30\"/>\n       <use xlink:href=\"#DejaVuSans-2e\" x=\"63.623047\"/>\n       <use xlink:href=\"#DejaVuSans-30\" x=\"95.410156\"/>\n       <use xlink:href=\"#DejaVuSans-32\" x=\"159.033203\"/>\n       <use xlink:href=\"#DejaVuSans-30\" x=\"222.65625\"/>\n      </g>\n     </g>\n    </g>\n    <g id=\"ytick_6\">\n     <g id=\"line2d_11\">\n      <g>\n       <use xlink:href=\"#m2a2ef7edf9\" x=\"56.50625\" y=\"139.285268\" style=\"stroke: #000000; stroke-width: 0.8\"/>\n      </g>\n     </g>\n     <g id=\"text_12\">\n      <!-- 0.025 -->\n      <g transform=\"translate(20.878125 143.084487) scale(0.1 -0.1)\">\n       <use xlink:href=\"#DejaVuSans-30\"/>\n       <use xlink:href=\"#DejaVuSans-2e\" x=\"63.623047\"/>\n       <use xlink:href=\"#DejaVuSans-30\" x=\"95.410156\"/>\n       <use xlink:href=\"#DejaVuSans-32\" x=\"159.033203\"/>\n       <use xlink:href=\"#DejaVuSans-35\" x=\"222.65625\"/>\n      </g>\n     </g>\n    </g>\n    <g id=\"ytick_7\">\n     <g id=\"line2d_12\">\n      <g>\n       <use xlink:href=\"#m2a2ef7edf9\" x=\"56.50625\" y=\"109.456297\" style=\"stroke: #000000; stroke-width: 0.8\"/>\n      </g>\n     </g>\n     <g id=\"text_13\">\n      <!-- 0.030 -->\n      <g transform=\"translate(20.878125 113.255516) scale(0.1 -0.1)\">\n       <defs>\n        <path id=\"DejaVuSans-33\" d=\"M 2597 2516 \nQ 3050 2419 3304 2112 \nQ 3559 1806 3559 1356 \nQ 3559 666 3084 287 \nQ 2609 -91 1734 -91 \nQ 1441 -91 1130 -33 \nQ 819 25 488 141 \nL 488 750 \nQ 750 597 1062 519 \nQ 1375 441 1716 441 \nQ 2309 441 2620 675 \nQ 2931 909 2931 1356 \nQ 2931 1769 2642 2001 \nQ 2353 2234 1838 2234 \nL 1294 2234 \nL 1294 2753 \nL 1863 2753 \nQ 2328 2753 2575 2939 \nQ 2822 3125 2822 3475 \nQ 2822 3834 2567 4026 \nQ 2313 4219 1838 4219 \nQ 1578 4219 1281 4162 \nQ 984 4106 628 3988 \nL 628 4550 \nQ 988 4650 1302 4700 \nQ 1616 4750 1894 4750 \nQ 2613 4750 3031 4423 \nQ 3450 4097 3450 3541 \nQ 3450 3153 3228 2886 \nQ 3006 2619 2597 2516 \nz\n\" transform=\"scale(0.015625)\"/>\n       </defs>\n       <use xlink:href=\"#DejaVuSans-30\"/>\n       <use xlink:href=\"#DejaVuSans-2e\" x=\"63.623047\"/>\n       <use xlink:href=\"#DejaVuSans-30\" x=\"95.410156\"/>\n       <use xlink:href=\"#DejaVuSans-33\" x=\"159.033203\"/>\n       <use xlink:href=\"#DejaVuSans-30\" x=\"222.65625\"/>\n      </g>\n     </g>\n    </g>\n    <g id=\"ytick_8\">\n     <g id=\"line2d_13\">\n      <g>\n       <use xlink:href=\"#m2a2ef7edf9\" x=\"56.50625\" y=\"79.627326\" style=\"stroke: #000000; stroke-width: 0.8\"/>\n      </g>\n     </g>\n     <g id=\"text_14\">\n      <!-- 0.035 -->\n      <g transform=\"translate(20.878125 83.426545) scale(0.1 -0.1)\">\n       <use xlink:href=\"#DejaVuSans-30\"/>\n       <use xlink:href=\"#DejaVuSans-2e\" x=\"63.623047\"/>\n       <use xlink:href=\"#DejaVuSans-30\" x=\"95.410156\"/>\n       <use xlink:href=\"#DejaVuSans-33\" x=\"159.033203\"/>\n       <use xlink:href=\"#DejaVuSans-35\" x=\"222.65625\"/>\n      </g>\n     </g>\n    </g>\n    <g id=\"ytick_9\">\n     <g id=\"line2d_14\">\n      <g>\n       <use xlink:href=\"#m2a2ef7edf9\" x=\"56.50625\" y=\"49.798355\" style=\"stroke: #000000; stroke-width: 0.8\"/>\n      </g>\n     </g>\n     <g id=\"text_15\">\n      <!-- 0.040 -->\n      <g transform=\"translate(20.878125 53.597573) scale(0.1 -0.1)\">\n       <use xlink:href=\"#DejaVuSans-30\"/>\n       <use xlink:href=\"#DejaVuSans-2e\" x=\"63.623047\"/>\n       <use xlink:href=\"#DejaVuSans-30\" x=\"95.410156\"/>\n       <use xlink:href=\"#DejaVuSans-34\" x=\"159.033203\"/>\n       <use xlink:href=\"#DejaVuSans-30\" x=\"222.65625\"/>\n      </g>\n     </g>\n    </g>\n    <g id=\"text_16\">\n     <!-- Probability density -->\n     <g transform=\"translate(14.798438 201.724906) rotate(-90) scale(0.1 -0.1)\">\n      <defs>\n       <path id=\"DejaVuSans-50\" d=\"M 1259 4147 \nL 1259 2394 \nL 2053 2394 \nQ 2494 2394 2734 2622 \nQ 2975 2850 2975 3272 \nQ 2975 3691 2734 3919 \nQ 2494 4147 2053 4147 \nL 1259 4147 \nz\nM 628 4666 \nL 2053 4666 \nQ 2838 4666 3239 4311 \nQ 3641 3956 3641 3272 \nQ 3641 2581 3239 2228 \nQ 2838 1875 2053 1875 \nL 1259 1875 \nL 1259 0 \nL 628 0 \nL 628 4666 \nz\n\" transform=\"scale(0.015625)\"/>\n       <path id=\"DejaVuSans-72\" d=\"M 2631 2963 \nQ 2534 3019 2420 3045 \nQ 2306 3072 2169 3072 \nQ 1681 3072 1420 2755 \nQ 1159 2438 1159 1844 \nL 1159 0 \nL 581 0 \nL 581 3500 \nL 1159 3500 \nL 1159 2956 \nQ 1341 3275 1631 3429 \nQ 1922 3584 2338 3584 \nQ 2397 3584 2469 3576 \nQ 2541 3569 2628 3553 \nL 2631 2963 \nz\n\" transform=\"scale(0.015625)\"/>\n       <path id=\"DejaVuSans-6f\" d=\"M 1959 3097 \nQ 1497 3097 1228 2736 \nQ 959 2375 959 1747 \nQ 959 1119 1226 758 \nQ 1494 397 1959 397 \nQ 2419 397 2687 759 \nQ 2956 1122 2956 1747 \nQ 2956 2369 2687 2733 \nQ 2419 3097 1959 3097 \nz\nM 1959 3584 \nQ 2709 3584 3137 3096 \nQ 3566 2609 3566 1747 \nQ 3566 888 3137 398 \nQ 2709 -91 1959 -91 \nQ 1206 -91 779 398 \nQ 353 888 353 1747 \nQ 353 2609 779 3096 \nQ 1206 3584 1959 3584 \nz\n\" transform=\"scale(0.015625)\"/>\n       <path id=\"DejaVuSans-62\" d=\"M 3116 1747 \nQ 3116 2381 2855 2742 \nQ 2594 3103 2138 3103 \nQ 1681 3103 1420 2742 \nQ 1159 2381 1159 1747 \nQ 1159 1113 1420 752 \nQ 1681 391 2138 391 \nQ 2594 391 2855 752 \nQ 3116 1113 3116 1747 \nz\nM 1159 2969 \nQ 1341 3281 1617 3432 \nQ 1894 3584 2278 3584 \nQ 2916 3584 3314 3078 \nQ 3713 2572 3713 1747 \nQ 3713 922 3314 415 \nQ 2916 -91 2278 -91 \nQ 1894 -91 1617 61 \nQ 1341 213 1159 525 \nL 1159 0 \nL 581 0 \nL 581 4863 \nL 1159 4863 \nL 1159 2969 \nz\n\" transform=\"scale(0.015625)\"/>\n       <path id=\"DejaVuSans-61\" d=\"M 2194 1759 \nQ 1497 1759 1228 1600 \nQ 959 1441 959 1056 \nQ 959 750 1161 570 \nQ 1363 391 1709 391 \nQ 2188 391 2477 730 \nQ 2766 1069 2766 1631 \nL 2766 1759 \nL 2194 1759 \nz\nM 3341 1997 \nL 3341 0 \nL 2766 0 \nL 2766 531 \nQ 2569 213 2275 61 \nQ 1981 -91 1556 -91 \nQ 1019 -91 701 211 \nQ 384 513 384 1019 \nQ 384 1609 779 1909 \nQ 1175 2209 1959 2209 \nL 2766 2209 \nL 2766 2266 \nQ 2766 2663 2505 2880 \nQ 2244 3097 1772 3097 \nQ 1472 3097 1187 3025 \nQ 903 2953 641 2809 \nL 641 3341 \nQ 956 3463 1253 3523 \nQ 1550 3584 1831 3584 \nQ 2591 3584 2966 3190 \nQ 3341 2797 3341 1997 \nz\n\" transform=\"scale(0.015625)\"/>\n       <path id=\"DejaVuSans-69\" d=\"M 603 3500 \nL 1178 3500 \nL 1178 0 \nL 603 0 \nL 603 3500 \nz\nM 603 4863 \nL 1178 4863 \nL 1178 4134 \nL 603 4134 \nL 603 4863 \nz\n\" transform=\"scale(0.015625)\"/>\n       <path id=\"DejaVuSans-6c\" d=\"M 603 4863 \nL 1178 4863 \nL 1178 0 \nL 603 0 \nL 603 4863 \nz\n\" transform=\"scale(0.015625)\"/>\n       <path id=\"DejaVuSans-74\" d=\"M 1172 4494 \nL 1172 3500 \nL 2356 3500 \nL 2356 3053 \nL 1172 3053 \nL 1172 1153 \nQ 1172 725 1289 603 \nQ 1406 481 1766 481 \nL 2356 481 \nL 2356 0 \nL 1766 0 \nQ 1100 0 847 248 \nQ 594 497 594 1153 \nL 594 3053 \nL 172 3053 \nL 172 3500 \nL 594 3500 \nL 594 4494 \nL 1172 4494 \nz\n\" transform=\"scale(0.015625)\"/>\n       <path id=\"DejaVuSans-79\" d=\"M 2059 -325 \nQ 1816 -950 1584 -1140 \nQ 1353 -1331 966 -1331 \nL 506 -1331 \nL 506 -850 \nL 844 -850 \nQ 1081 -850 1212 -737 \nQ 1344 -625 1503 -206 \nL 1606 56 \nL 191 3500 \nL 800 3500 \nL 1894 763 \nL 2988 3500 \nL 3597 3500 \nL 2059 -325 \nz\n\" transform=\"scale(0.015625)\"/>\n       <path id=\"DejaVuSans-20\" transform=\"scale(0.015625)\"/>\n       <path id=\"DejaVuSans-64\" d=\"M 2906 2969 \nL 2906 4863 \nL 3481 4863 \nL 3481 0 \nL 2906 0 \nL 2906 525 \nQ 2725 213 2448 61 \nQ 2172 -91 1784 -91 \nQ 1150 -91 751 415 \nQ 353 922 353 1747 \nQ 353 2572 751 3078 \nQ 1150 3584 1784 3584 \nQ 2172 3584 2448 3432 \nQ 2725 3281 2906 2969 \nz\nM 947 1747 \nQ 947 1113 1208 752 \nQ 1469 391 1925 391 \nQ 2381 391 2643 752 \nQ 2906 1113 2906 1747 \nQ 2906 2381 2643 2742 \nQ 2381 3103 1925 3103 \nQ 1469 3103 1208 2742 \nQ 947 2381 947 1747 \nz\n\" transform=\"scale(0.015625)\"/>\n       <path id=\"DejaVuSans-65\" d=\"M 3597 1894 \nL 3597 1613 \nL 953 1613 \nQ 991 1019 1311 708 \nQ 1631 397 2203 397 \nQ 2534 397 2845 478 \nQ 3156 559 3463 722 \nL 3463 178 \nQ 3153 47 2828 -22 \nQ 2503 -91 2169 -91 \nQ 1331 -91 842 396 \nQ 353 884 353 1716 \nQ 353 2575 817 3079 \nQ 1281 3584 2069 3584 \nQ 2775 3584 3186 3129 \nQ 3597 2675 3597 1894 \nz\nM 3022 2063 \nQ 3016 2534 2758 2815 \nQ 2500 3097 2075 3097 \nQ 1594 3097 1305 2825 \nQ 1016 2553 972 2059 \nL 3022 2063 \nz\n\" transform=\"scale(0.015625)\"/>\n       <path id=\"DejaVuSans-6e\" d=\"M 3513 2113 \nL 3513 0 \nL 2938 0 \nL 2938 2094 \nQ 2938 2591 2744 2837 \nQ 2550 3084 2163 3084 \nQ 1697 3084 1428 2787 \nQ 1159 2491 1159 1978 \nL 1159 0 \nL 581 0 \nL 581 3500 \nL 1159 3500 \nL 1159 2956 \nQ 1366 3272 1645 3428 \nQ 1925 3584 2291 3584 \nQ 2894 3584 3203 3211 \nQ 3513 2838 3513 2113 \nz\n\" transform=\"scale(0.015625)\"/>\n       <path id=\"DejaVuSans-73\" d=\"M 2834 3397 \nL 2834 2853 \nQ 2591 2978 2328 3040 \nQ 2066 3103 1784 3103 \nQ 1356 3103 1142 2972 \nQ 928 2841 928 2578 \nQ 928 2378 1081 2264 \nQ 1234 2150 1697 2047 \nL 1894 2003 \nQ 2506 1872 2764 1633 \nQ 3022 1394 3022 966 \nQ 3022 478 2636 193 \nQ 2250 -91 1575 -91 \nQ 1294 -91 989 -36 \nQ 684 19 347 128 \nL 347 722 \nQ 666 556 975 473 \nQ 1284 391 1588 391 \nQ 1994 391 2212 530 \nQ 2431 669 2431 922 \nQ 2431 1156 2273 1281 \nQ 2116 1406 1581 1522 \nL 1381 1569 \nQ 847 1681 609 1914 \nQ 372 2147 372 2553 \nQ 372 3047 722 3315 \nQ 1072 3584 1716 3584 \nQ 2034 3584 2315 3537 \nQ 2597 3491 2834 3397 \nz\n\" transform=\"scale(0.015625)\"/>\n      </defs>\n      <use xlink:href=\"#DejaVuSans-50\"/>\n      <use xlink:href=\"#DejaVuSans-72\" x=\"58.552734\"/>\n      <use xlink:href=\"#DejaVuSans-6f\" x=\"97.416016\"/>\n      <use xlink:href=\"#DejaVuSans-62\" x=\"158.597656\"/>\n      <use xlink:href=\"#DejaVuSans-61\" x=\"222.074219\"/>\n      <use xlink:href=\"#DejaVuSans-62\" x=\"283.353516\"/>\n      <use xlink:href=\"#DejaVuSans-69\" x=\"346.830078\"/>\n      <use xlink:href=\"#DejaVuSans-6c\" x=\"374.613281\"/>\n      <use xlink:href=\"#DejaVuSans-69\" x=\"402.396484\"/>\n      <use xlink:href=\"#DejaVuSans-74\" x=\"430.179688\"/>\n      <use xlink:href=\"#DejaVuSans-79\" x=\"469.388672\"/>\n      <use xlink:href=\"#DejaVuSans-20\" x=\"528.568359\"/>\n      <use xlink:href=\"#DejaVuSans-64\" x=\"560.355469\"/>\n      <use xlink:href=\"#DejaVuSans-65\" x=\"623.832031\"/>\n      <use xlink:href=\"#DejaVuSans-6e\" x=\"685.355469\"/>\n      <use xlink:href=\"#DejaVuSans-73\" x=\"748.734375\"/>\n      <use xlink:href=\"#DejaVuSans-69\" x=\"800.833984\"/>\n      <use xlink:href=\"#DejaVuSans-74\" x=\"828.617188\"/>\n      <use xlink:href=\"#DejaVuSans-79\" x=\"867.826172\"/>\n     </g>\n    </g>\n   </g>\n   <g id=\"line2d_15\">\n    <path d=\"M 72.738977 283.510533 \nL 77.811705 282.222224 \nL 82.884432 280.659426 \nL 87.957159 278.781284 \nL 93.029886 276.545379 \nL 98.102614 273.908864 \nL 103.175341 270.829889 \nL 108.248068 267.269312 \nL 113.320795 263.192651 \nL 118.393523 258.572233 \nL 123.46625 253.38948 \nL 128.538977 247.637209 \nL 133.611705 241.321861 \nL 138.684432 234.465501 \nL 143.757159 227.107476 \nL 148.829886 219.305568 \nL 153.902614 211.136528 \nL 158.975341 202.69587 \nL 164.048068 194.096845 \nL 169.120795 185.468546 \nL 174.193523 176.953155 \nL 179.26625 168.702376 \nL 184.338977 160.87316 \nL 189.411705 153.622878 \nL 194.484432 147.104146 \nL 199.557159 141.459525 \nL 204.629886 136.81636 \nL 209.702614 133.282011 \nL 214.775341 130.939732 \nL 219.848068 129.845407 \nL 224.920795 130.025338 \nL 229.993523 131.475191 \nL 235.06625 134.160173 \nL 240.138977 138.016418 \nL 245.211705 142.95351 \nL 250.284432 148.85801 \nL 255.357159 155.597782 \nL 260.429886 163.026899 \nL 265.502614 170.990871 \nL 270.575341 179.331931 \nL 275.648068 187.89414 \nL 280.720795 196.528072 \nL 285.793523 205.094903 \nL 290.86625 213.469763 \nL 295.938977 221.544244 \nL 301.011705 229.228049 \nL 306.084432 236.449785 \nL 311.157159 243.156945 \nL 316.229886 249.315192 \nL 321.302614 254.907048 \nL 326.375341 259.930125 \nL 331.448068 264.395047 \nL 336.520795 268.323187 \nL 341.593523 271.744364 \nL 346.66625 274.694583 \nL 351.738977 277.213936 \nL 356.811705 279.344716 \nL 361.884432 281.12978 \nL 366.957159 282.61121 \nL 372.029886 283.829252 \nL 377.102614 284.821529 \nL 382.175341 285.62252 \nL 387.248068 286.263253 \nL 392.320795 286.771186 \nL 397.393523 287.170251 \n\" clip-path=\"url(#p37f73351d0)\" style=\"fill: none; stroke-dasharray: 5.55,2.4; stroke-dashoffset: 0; stroke: #ff7f0e; stroke-width: 1.5\"/>\n   </g>\n   <g id=\"patch_67\">\n    <path d=\"M 56.50625 288.430125 \nL 56.50625 22.318125 \n\" style=\"fill: none; stroke: #000000; stroke-width: 0.8; stroke-linejoin: miter; stroke-linecap: square\"/>\n   </g>\n   <g id=\"patch_68\">\n    <path d=\"M 413.62625 288.430125 \nL 413.62625 22.318125 \n\" style=\"fill: none; stroke: #000000; stroke-width: 0.8; stroke-linejoin: miter; stroke-linecap: square\"/>\n   </g>\n   <g id=\"patch_69\">\n    <path d=\"M 56.50625 288.430125 \nL 413.62625 288.430125 \n\" style=\"fill: none; stroke: #000000; stroke-width: 0.8; stroke-linejoin: miter; stroke-linecap: square\"/>\n   </g>\n   <g id=\"patch_70\">\n    <path d=\"M 56.50625 22.318125 \nL 413.62625 22.318125 \n\" style=\"fill: none; stroke: #000000; stroke-width: 0.8; stroke-linejoin: miter; stroke-linecap: square\"/>\n   </g>\n   <g id=\"text_17\">\n    <!-- Histogram with: mu=100, sigma=15, bins=64 -->\n    <g transform=\"translate(95.770625 16.318125) scale(0.12 -0.12)\">\n     <defs>\n      <path id=\"DejaVuSans-48\" d=\"M 628 4666 \nL 1259 4666 \nL 1259 2753 \nL 3553 2753 \nL 3553 4666 \nL 4184 4666 \nL 4184 0 \nL 3553 0 \nL 3553 2222 \nL 1259 2222 \nL 1259 0 \nL 628 0 \nL 628 4666 \nz\n\" transform=\"scale(0.015625)\"/>\n      <path id=\"DejaVuSans-67\" d=\"M 2906 1791 \nQ 2906 2416 2648 2759 \nQ 2391 3103 1925 3103 \nQ 1463 3103 1205 2759 \nQ 947 2416 947 1791 \nQ 947 1169 1205 825 \nQ 1463 481 1925 481 \nQ 2391 481 2648 825 \nQ 2906 1169 2906 1791 \nz\nM 3481 434 \nQ 3481 -459 3084 -895 \nQ 2688 -1331 1869 -1331 \nQ 1566 -1331 1297 -1286 \nQ 1028 -1241 775 -1147 \nL 775 -588 \nQ 1028 -725 1275 -790 \nQ 1522 -856 1778 -856 \nQ 2344 -856 2625 -561 \nQ 2906 -266 2906 331 \nL 2906 616 \nQ 2728 306 2450 153 \nQ 2172 0 1784 0 \nQ 1141 0 747 490 \nQ 353 981 353 1791 \nQ 353 2603 747 3093 \nQ 1141 3584 1784 3584 \nQ 2172 3584 2450 3431 \nQ 2728 3278 2906 2969 \nL 2906 3500 \nL 3481 3500 \nL 3481 434 \nz\n\" transform=\"scale(0.015625)\"/>\n      <path id=\"DejaVuSans-6d\" d=\"M 3328 2828 \nQ 3544 3216 3844 3400 \nQ 4144 3584 4550 3584 \nQ 5097 3584 5394 3201 \nQ 5691 2819 5691 2113 \nL 5691 0 \nL 5113 0 \nL 5113 2094 \nQ 5113 2597 4934 2840 \nQ 4756 3084 4391 3084 \nQ 3944 3084 3684 2787 \nQ 3425 2491 3425 1978 \nL 3425 0 \nL 2847 0 \nL 2847 2094 \nQ 2847 2600 2669 2842 \nQ 2491 3084 2119 3084 \nQ 1678 3084 1418 2786 \nQ 1159 2488 1159 1978 \nL 1159 0 \nL 581 0 \nL 581 3500 \nL 1159 3500 \nL 1159 2956 \nQ 1356 3278 1631 3431 \nQ 1906 3584 2284 3584 \nQ 2666 3584 2933 3390 \nQ 3200 3197 3328 2828 \nz\n\" transform=\"scale(0.015625)\"/>\n      <path id=\"DejaVuSans-77\" d=\"M 269 3500 \nL 844 3500 \nL 1563 769 \nL 2278 3500 \nL 2956 3500 \nL 3675 769 \nL 4391 3500 \nL 4966 3500 \nL 4050 0 \nL 3372 0 \nL 2619 2869 \nL 1863 0 \nL 1184 0 \nL 269 3500 \nz\n\" transform=\"scale(0.015625)\"/>\n      <path id=\"DejaVuSans-68\" d=\"M 3513 2113 \nL 3513 0 \nL 2938 0 \nL 2938 2094 \nQ 2938 2591 2744 2837 \nQ 2550 3084 2163 3084 \nQ 1697 3084 1428 2787 \nQ 1159 2491 1159 1978 \nL 1159 0 \nL 581 0 \nL 581 4863 \nL 1159 4863 \nL 1159 2956 \nQ 1366 3272 1645 3428 \nQ 1925 3584 2291 3584 \nQ 2894 3584 3203 3211 \nQ 3513 2838 3513 2113 \nz\n\" transform=\"scale(0.015625)\"/>\n      <path id=\"DejaVuSans-3a\" d=\"M 750 794 \nL 1409 794 \nL 1409 0 \nL 750 0 \nL 750 794 \nz\nM 750 3309 \nL 1409 3309 \nL 1409 2516 \nL 750 2516 \nL 750 3309 \nz\n\" transform=\"scale(0.015625)\"/>\n      <path id=\"DejaVuSans-75\" d=\"M 544 1381 \nL 544 3500 \nL 1119 3500 \nL 1119 1403 \nQ 1119 906 1312 657 \nQ 1506 409 1894 409 \nQ 2359 409 2629 706 \nQ 2900 1003 2900 1516 \nL 2900 3500 \nL 3475 3500 \nL 3475 0 \nL 2900 0 \nL 2900 538 \nQ 2691 219 2414 64 \nQ 2138 -91 1772 -91 \nQ 1169 -91 856 284 \nQ 544 659 544 1381 \nz\nM 1991 3584 \nL 1991 3584 \nz\n\" transform=\"scale(0.015625)\"/>\n      <path id=\"DejaVuSans-3d\" d=\"M 678 2906 \nL 4684 2906 \nL 4684 2381 \nL 678 2381 \nL 678 2906 \nz\nM 678 1631 \nL 4684 1631 \nL 4684 1100 \nL 678 1100 \nL 678 1631 \nz\n\" transform=\"scale(0.015625)\"/>\n      <path id=\"DejaVuSans-2c\" d=\"M 750 794 \nL 1409 794 \nL 1409 256 \nL 897 -744 \nL 494 -744 \nL 750 256 \nL 750 794 \nz\n\" transform=\"scale(0.015625)\"/>\n     </defs>\n     <use xlink:href=\"#DejaVuSans-48\"/>\n     <use xlink:href=\"#DejaVuSans-69\" x=\"75.195312\"/>\n     <use xlink:href=\"#DejaVuSans-73\" x=\"102.978516\"/>\n     <use xlink:href=\"#DejaVuSans-74\" x=\"155.078125\"/>\n     <use xlink:href=\"#DejaVuSans-6f\" x=\"194.287109\"/>\n     <use xlink:href=\"#DejaVuSans-67\" x=\"255.46875\"/>\n     <use xlink:href=\"#DejaVuSans-72\" x=\"318.945312\"/>\n     <use xlink:href=\"#DejaVuSans-61\" x=\"360.058594\"/>\n     <use xlink:href=\"#DejaVuSans-6d\" x=\"421.337891\"/>\n     <use xlink:href=\"#DejaVuSans-20\" x=\"518.75\"/>\n     <use xlink:href=\"#DejaVuSans-77\" x=\"550.537109\"/>\n     <use xlink:href=\"#DejaVuSans-69\" x=\"632.324219\"/>\n     <use xlink:href=\"#DejaVuSans-74\" x=\"660.107422\"/>\n     <use xlink:href=\"#DejaVuSans-68\" x=\"699.316406\"/>\n     <use xlink:href=\"#DejaVuSans-3a\" x=\"762.695312\"/>\n     <use xlink:href=\"#DejaVuSans-20\" x=\"796.386719\"/>\n     <use xlink:href=\"#DejaVuSans-6d\" x=\"828.173828\"/>\n     <use xlink:href=\"#DejaVuSans-75\" x=\"925.585938\"/>\n     <use xlink:href=\"#DejaVuSans-3d\" x=\"988.964844\"/>\n     <use xlink:href=\"#DejaVuSans-31\" x=\"1072.753906\"/>\n     <use xlink:href=\"#DejaVuSans-30\" x=\"1136.376953\"/>\n     <use xlink:href=\"#DejaVuSans-30\" x=\"1200\"/>\n     <use xlink:href=\"#DejaVuSans-2c\" x=\"1263.623047\"/>\n     <use xlink:href=\"#DejaVuSans-20\" x=\"1295.410156\"/>\n     <use xlink:href=\"#DejaVuSans-73\" x=\"1327.197266\"/>\n     <use xlink:href=\"#DejaVuSans-69\" x=\"1379.296875\"/>\n     <use xlink:href=\"#DejaVuSans-67\" x=\"1407.080078\"/>\n     <use xlink:href=\"#DejaVuSans-6d\" x=\"1470.556641\"/>\n     <use xlink:href=\"#DejaVuSans-61\" x=\"1567.96875\"/>\n     <use xlink:href=\"#DejaVuSans-3d\" x=\"1629.248047\"/>\n     <use xlink:href=\"#DejaVuSans-31\" x=\"1713.037109\"/>\n     <use xlink:href=\"#DejaVuSans-35\" x=\"1776.660156\"/>\n     <use xlink:href=\"#DejaVuSans-2c\" x=\"1840.283203\"/>\n     <use xlink:href=\"#DejaVuSans-20\" x=\"1872.070312\"/>\n     <use xlink:href=\"#DejaVuSans-62\" x=\"1903.857422\"/>\n     <use xlink:href=\"#DejaVuSans-69\" x=\"1967.333984\"/>\n     <use xlink:href=\"#DejaVuSans-6e\" x=\"1995.117188\"/>\n     <use xlink:href=\"#DejaVuSans-73\" x=\"2058.496094\"/>\n     <use xlink:href=\"#DejaVuSans-3d\" x=\"2110.595703\"/>\n     <use xlink:href=\"#DejaVuSans-36\" x=\"2194.384766\"/>\n     <use xlink:href=\"#DejaVuSans-34\" x=\"2258.007812\"/>\n    </g>\n   </g>\n  </g>\n </g>\n <defs>\n  <clipPath id=\"p37f73351d0\">\n   <rect x=\"56.50625\" y=\"22.318125\" width=\"357.12\" height=\"266.112\"/>\n  </clipPath>\n </defs>\n</svg>\n",
          "text/plain": "<Figure size 640x480 with 1 Axes>"
         },
         "metadata": {},
         "output_type": "display_data"
        }
       ]
      }
     },
     "934c149472994091b4a1d379ae8d64bb": {
      "model_module": "@jupyter-widgets/controls",
      "model_module_version": "2.0.0",
      "model_name": "LabelModel",
      "state": {
       "layout": "IPY_MODEL_ff7be3cb76c64536bb23d04b9a7d8cac",
       "style": "IPY_MODEL_54807f78810346e0935a7f342a278909",
       "value": "Bins:"
      }
     },
     "941ec43bea7140428ca923ec12bb76c1": {
      "model_module": "@jupyter-widgets/base",
      "model_module_version": "2.0.0",
      "model_name": "LayoutModel",
      "state": {}
     },
     "949a5967d51749bbb653495273caabe1": {
      "model_module": "@jupyter-widgets/controls",
      "model_module_version": "2.0.0",
      "model_name": "IntSliderModel",
      "state": {
       "behavior": "drag-tap",
       "layout": "IPY_MODEL_aa6e1b135cb843fb9fcd3eac25d9e04e",
       "style": "IPY_MODEL_e57fe4bec06b4aa982450b5940e9ea2d",
       "value": 40
      }
     },
     "96b5aa95cdcb4aeaa947d384bd9aa0ba": {
      "model_module": "@jupyter-widgets/controls",
      "model_module_version": "2.0.0",
      "model_name": "LabelStyleModel",
      "state": {
       "description_width": "",
       "font_family": null,
       "font_size": null,
       "font_style": null,
       "font_variant": null,
       "font_weight": null,
       "text_color": null,
       "text_decoration": null
      }
     },
     "98ec57b3a35445169b94c550cbed0668": {
      "model_module": "@jupyter-widgets/base",
      "model_module_version": "2.0.0",
      "model_name": "LayoutModel",
      "state": {}
     },
     "9c9fbeb71712461580803f2a8ce902c1": {
      "model_module": "@jupyter-widgets/controls",
      "model_module_version": "2.0.0",
      "model_name": "IntSliderModel",
      "state": {
       "behavior": "drag-tap",
       "layout": "IPY_MODEL_d64561a88589461c96376bea6755ee8c",
       "max": 200,
       "style": "IPY_MODEL_57abc7afe6d547b78ae45c8aa92879e9",
       "value": 200
      }
     },
     "9f13d02bf53e4d4fb073bc21762d18f1": {
      "model_module": "@jupyter-widgets/base",
      "model_module_version": "2.0.0",
      "model_name": "LayoutModel",
      "state": {}
     },
     "a03de22ba13c49099235623488f4cea3": {
      "model_module": "@jupyter-widgets/base",
      "model_module_version": "2.0.0",
      "model_name": "LayoutModel",
      "state": {}
     },
     "a0be8bc4c67d4677a6ac174c74453973": {
      "model_module": "@jupyter-widgets/base",
      "model_module_version": "2.0.0",
      "model_name": "LayoutModel",
      "state": {}
     },
     "a10981d9eec94513a220931acc1f3595": {
      "model_module": "@jupyter-widgets/controls",
      "model_module_version": "2.0.0",
      "model_name": "IntSliderModel",
      "state": {
       "behavior": "drag-tap",
       "layout": "IPY_MODEL_92180b8ebb6b4b748fab49f8a1169fe5",
       "style": "IPY_MODEL_adf62b707a8940d5b745ad495fc0a4fe"
      }
     },
     "a1b4d0d0fd784474a3c274eef9951c35": {
      "model_module": "@jupyter-widgets/base",
      "model_module_version": "2.0.0",
      "model_name": "LayoutModel",
      "state": {}
     },
     "a2f8aff90f0546aa9e86560db1d76793": {
      "model_module": "@jupyter-widgets/base",
      "model_module_version": "2.0.0",
      "model_name": "LayoutModel",
      "state": {}
     },
     "a335d0a5ebb54e9ca0d0b888417efebe": {
      "model_module": "@jupyter-widgets/controls",
      "model_module_version": "2.0.0",
      "model_name": "IntSliderModel",
      "state": {
       "behavior": "drag-tap",
       "layout": "IPY_MODEL_be0cb889b7c4470b842d3d12edc80f6b",
       "style": "IPY_MODEL_6299c257462040919b6ca304581227b9"
      }
     },
     "a3fe15b38218423e8925de3f10b837fa": {
      "model_module": "@jupyter-widgets/controls",
      "model_module_version": "2.0.0",
      "model_name": "LabelModel",
      "state": {
       "layout": "IPY_MODEL_98ec57b3a35445169b94c550cbed0668",
       "style": "IPY_MODEL_7f9dbdf8e7574fc0bcfd455f8bf4e363",
       "value": "Sigma:"
      }
     },
     "aa6e1b135cb843fb9fcd3eac25d9e04e": {
      "model_module": "@jupyter-widgets/base",
      "model_module_version": "2.0.0",
      "model_name": "LayoutModel",
      "state": {}
     },
     "aa95c30cbd91425d9f0180f7896b8212": {
      "model_module": "@jupyter-widgets/controls",
      "model_module_version": "2.0.0",
      "model_name": "HBoxModel",
      "state": {
       "children": [
        "IPY_MODEL_8e2d77ef30b046d180eef2001a77b1ef",
        "IPY_MODEL_e25bf04ff7a64f44a4d1201c656705ae"
       ],
       "layout": "IPY_MODEL_a1b4d0d0fd784474a3c274eef9951c35"
      }
     },
     "aacd4e0c501a4e06bbbebc0ecf07b0e5": {
      "model_module": "@jupyter-widgets/base",
      "model_module_version": "2.0.0",
      "model_name": "LayoutModel",
      "state": {}
     },
     "abd951fe4faa4298a4dc4696efaf136e": {
      "model_module": "@jupyter-widgets/controls",
      "model_module_version": "2.0.0",
      "model_name": "IntSliderModel",
      "state": {
       "behavior": "drag-tap",
       "layout": "IPY_MODEL_941ec43bea7140428ca923ec12bb76c1",
       "style": "IPY_MODEL_4200b924fb49423aa18d627c893c67c2"
      }
     },
     "ac2a035937a440d98d28ebd5e60c97cb": {
      "model_module": "@jupyter-widgets/controls",
      "model_module_version": "2.0.0",
      "model_name": "BoundedIntTextModel",
      "state": {
       "layout": "IPY_MODEL_409c05a57ffd43f7bae4a856f00c5928",
       "max": 300,
       "min": 10,
       "style": "IPY_MODEL_5e183486740346d68db3e295fea2e80c",
       "value": 100
      }
     },
     "adf62b707a8940d5b745ad495fc0a4fe": {
      "model_module": "@jupyter-widgets/controls",
      "model_module_version": "2.0.0",
      "model_name": "SliderStyleModel",
      "state": {
       "description_width": ""
      }
     },
     "b308edd8770d4d92b9e8bcd4a50b01cc": {
      "model_module": "@jupyter-widgets/controls",
      "model_module_version": "2.0.0",
      "model_name": "SliderStyleModel",
      "state": {
       "description_width": ""
      }
     },
     "b4bc3c6ab98445009abe77030e87d803": {
      "model_module": "@jupyter-widgets/controls",
      "model_module_version": "2.0.0",
      "model_name": "HBoxModel",
      "state": {
       "children": [
        "IPY_MODEL_7428d16aaa45428ab83f17ebea20d5b9",
        "IPY_MODEL_4cbac8348fa7419eba7d336f1374bcf7"
       ],
       "layout": "IPY_MODEL_fa8f628ab3d349099c2b2530b6021d7d"
      }
     },
     "b4c1c32d22ba4136bf39e0c2b0458e72": {
      "model_module": "@jupyter-widgets/base",
      "model_module_version": "2.0.0",
      "model_name": "LayoutModel",
      "state": {}
     },
     "b4d20251ab7d41c2baacd0bd8e82c2db": {
      "model_module": "@jupyter-widgets/controls",
      "model_module_version": "2.0.0",
      "model_name": "IntSliderModel",
      "state": {
       "behavior": "drag-tap",
       "layout": "IPY_MODEL_d83e38df596f4e3ca83e2ce064538a88",
       "style": "IPY_MODEL_158040a20d8e455baa90e96fd222c207"
      }
     },
     "b6bccc7dde784caf879790ee7a67ba34": {
      "model_module": "@jupyter-widgets/base",
      "model_module_version": "2.0.0",
      "model_name": "LayoutModel",
      "state": {}
     },
     "ba13c2093d2a46d2aab8577565507eff": {
      "model_module": "@jupyter-widgets/controls",
      "model_module_version": "2.0.0",
      "model_name": "DescriptionStyleModel",
      "state": {
       "description_width": ""
      }
     },
     "ba3af9e1708648beb0706a7872939935": {
      "model_module": "@jupyter-widgets/controls",
      "model_module_version": "2.0.0",
      "model_name": "SliderStyleModel",
      "state": {
       "description_width": ""
      }
     },
     "bc79b7d960ff4e10b6ebe99713b05bbf": {
      "model_module": "@jupyter-widgets/base",
      "model_module_version": "2.0.0",
      "model_name": "LayoutModel",
      "state": {}
     },
     "be0cb889b7c4470b842d3d12edc80f6b": {
      "model_module": "@jupyter-widgets/base",
      "model_module_version": "2.0.0",
      "model_name": "LayoutModel",
      "state": {}
     },
     "bff05536fc314f0ea546f57cbf8ca7bd": {
      "model_module": "@jupyter-widgets/output",
      "model_module_version": "1.0.0",
      "model_name": "OutputModel",
      "state": {
       "layout": "IPY_MODEL_50f425ef28bc4278b4d11d61b20dd33d",
       "outputs": [
        {
         "name": "stdout",
         "output_type": "stream",
         "text": "0 * 0 = 0\n"
        }
       ]
      }
     },
     "c0afeea2b86f4e51acc21ac40e39b60e": {
      "model_module": "@jupyter-widgets/base",
      "model_module_version": "2.0.0",
      "model_name": "LayoutModel",
      "state": {}
     },
     "c1759a799bc147888ccfd2f1aa48fe5d": {
      "model_module": "@jupyter-widgets/controls",
      "model_module_version": "2.0.0",
      "model_name": "HBoxModel",
      "state": {
       "children": [
        "IPY_MODEL_59024a4b36c547d2acab9e635401ebaf",
        "IPY_MODEL_9215fc9657464d31a9d686573d518cb9"
       ],
       "layout": "IPY_MODEL_2b993709d1c348239e8690812d0cc4a2"
      }
     },
     "c56578bd47bc4709916a7ac454c4f249": {
      "model_module": "@jupyter-widgets/controls",
      "model_module_version": "2.0.0",
      "model_name": "HBoxModel",
      "state": {
       "children": [
        "IPY_MODEL_3ce67b28b4a84664856f09e88d9beacc",
        "IPY_MODEL_bff05536fc314f0ea546f57cbf8ca7bd"
       ],
       "layout": "IPY_MODEL_c0afeea2b86f4e51acc21ac40e39b60e"
      }
     },
     "c95763a5af4b440e8c004e7097745719": {
      "model_module": "@jupyter-widgets/base",
      "model_module_version": "2.0.0",
      "model_name": "LayoutModel",
      "state": {}
     },
     "c9b0afea34b44fdaa137b914aa2016ee": {
      "model_module": "@jupyter-widgets/controls",
      "model_module_version": "2.0.0",
      "model_name": "HBoxModel",
      "state": {
       "children": [
        "IPY_MODEL_6b4ce454804d480d902db8187ab703c1",
        "IPY_MODEL_04c911a7fbe44e9ca288cb67fb0ff51d"
       ],
       "layout": "IPY_MODEL_c95763a5af4b440e8c004e7097745719"
      }
     },
     "ca313a99f17b4da78ca224d86e85aa72": {
      "model_module": "@jupyter-widgets/base",
      "model_module_version": "2.0.0",
      "model_name": "LayoutModel",
      "state": {}
     },
     "ce16642c3f144e3bafb45549d5060434": {
      "model_module": "@jupyter-widgets/controls",
      "model_module_version": "2.0.0",
      "model_name": "SliderStyleModel",
      "state": {
       "description_width": ""
      }
     },
     "ce49df1663e3409e90b074a9d9e94655": {
      "model_module": "@jupyter-widgets/base",
      "model_module_version": "2.0.0",
      "model_name": "LayoutModel",
      "state": {}
     },
     "d18b0d04269542a49d9de1582aaa32b5": {
      "model_module": "@jupyter-widgets/base",
      "model_module_version": "2.0.0",
      "model_name": "LayoutModel",
      "state": {}
     },
     "d2fee471ff244fa284dd2b01263a7768": {
      "model_module": "@jupyter-widgets/controls",
      "model_module_version": "2.0.0",
      "model_name": "BoundedIntTextModel",
      "state": {
       "layout": "IPY_MODEL_4d0c0b58fd0c4984bb537bafdb03af16",
       "max": 50,
       "min": 10,
       "style": "IPY_MODEL_81628dfc179543619196ba0f2d941e19",
       "value": 15
      }
     },
     "d35262b1bdba4dd590d1a80c178c35d6": {
      "model_module": "@jupyter-widgets/output",
      "model_module_version": "1.0.0",
      "model_name": "OutputModel",
      "state": {
       "layout": "IPY_MODEL_418f4e4aa9624c22a9ddf071bac63e59",
       "outputs": [
        {
         "data": {
          "image/svg+xml": "<?xml version=\"1.0\" encoding=\"utf-8\" standalone=\"no\"?>\n<!DOCTYPE svg PUBLIC \"-//W3C//DTD SVG 1.1//EN\"\n  \"http://www.w3.org/Graphics/SVG/1.1/DTD/svg11.dtd\">\n<svg xmlns:xlink=\"http://www.w3.org/1999/xlink\" width=\"420.82625pt\" height=\"325.986375pt\" viewBox=\"0 0 420.82625 325.986375\" xmlns=\"http://www.w3.org/2000/svg\" version=\"1.1\">\n <metadata>\n  <rdf:RDF xmlns:dc=\"http://purl.org/dc/elements/1.1/\" xmlns:cc=\"http://creativecommons.org/ns#\" xmlns:rdf=\"http://www.w3.org/1999/02/22-rdf-syntax-ns#\">\n   <cc:Work>\n    <dc:type rdf:resource=\"http://purl.org/dc/dcmitype/StillImage\"/>\n    <dc:date>2023-03-28T00:21:21.703843</dc:date>\n    <dc:format>image/svg+xml</dc:format>\n    <dc:creator>\n     <cc:Agent>\n      <dc:title>Matplotlib v3.7.1, https://matplotlib.org/</dc:title>\n     </cc:Agent>\n    </dc:creator>\n   </cc:Work>\n  </rdf:RDF>\n </metadata>\n <defs>\n  <style type=\"text/css\">*{stroke-linejoin: round; stroke-linecap: butt}</style>\n </defs>\n <g id=\"figure_1\">\n  <g id=\"patch_1\">\n   <path d=\"M 0 325.986375 \nL 420.82625 325.986375 \nL 420.82625 0 \nL 0 0 \nz\n\" style=\"fill: #ffffff\"/>\n  </g>\n  <g id=\"axes_1\">\n   <g id=\"patch_2\">\n    <path d=\"M 56.50625 288.430125 \nL 413.62625 288.430125 \nL 413.62625 22.318125 \nL 56.50625 22.318125 \nz\n\" style=\"fill: #ffffff\"/>\n   </g>\n   <g id=\"patch_3\">\n    <path d=\"M 72.738977 288.430125 \nL 79.232068 288.430125 \nL 79.232068 269.656792 \nL 72.738977 269.656792 \nz\n\" clip-path=\"url(#p98de47aa3a)\" style=\"fill: #1f77b4\"/>\n   </g>\n   <g id=\"patch_4\">\n    <path d=\"M 79.232068 288.430125 \nL 85.725159 288.430125 \nL 85.725159 288.430125 \nL 79.232068 288.430125 \nz\n\" clip-path=\"url(#p98de47aa3a)\" style=\"fill: #1f77b4\"/>\n   </g>\n   <g id=\"patch_5\">\n    <path d=\"M 85.725159 288.430125 \nL 92.21825 288.430125 \nL 92.21825 288.430125 \nL 85.725159 288.430125 \nz\n\" clip-path=\"url(#p98de47aa3a)\" style=\"fill: #1f77b4\"/>\n   </g>\n   <g id=\"patch_6\">\n    <path d=\"M 92.21825 288.430125 \nL 98.711341 288.430125 \nL 98.711341 279.043458 \nL 92.21825 279.043458 \nz\n\" clip-path=\"url(#p98de47aa3a)\" style=\"fill: #1f77b4\"/>\n   </g>\n   <g id=\"patch_7\">\n    <path d=\"M 98.711341 288.430125 \nL 105.204432 288.430125 \nL 105.204432 279.043458 \nL 98.711341 279.043458 \nz\n\" clip-path=\"url(#p98de47aa3a)\" style=\"fill: #1f77b4\"/>\n   </g>\n   <g id=\"patch_8\">\n    <path d=\"M 105.204432 288.430125 \nL 111.697523 288.430125 \nL 111.697523 288.430125 \nL 105.204432 288.430125 \nz\n\" clip-path=\"url(#p98de47aa3a)\" style=\"fill: #1f77b4\"/>\n   </g>\n   <g id=\"patch_9\">\n    <path d=\"M 111.697523 288.430125 \nL 118.190614 288.430125 \nL 118.190614 260.270125 \nL 111.697523 260.270125 \nz\n\" clip-path=\"url(#p98de47aa3a)\" style=\"fill: #1f77b4\"/>\n   </g>\n   <g id=\"patch_10\">\n    <path d=\"M 118.190614 288.430125 \nL 124.683705 288.430125 \nL 124.683705 279.043458 \nL 118.190614 279.043458 \nz\n\" clip-path=\"url(#p98de47aa3a)\" style=\"fill: #1f77b4\"/>\n   </g>\n   <g id=\"patch_11\">\n    <path d=\"M 124.683705 288.430125 \nL 131.176795 288.430125 \nL 131.176795 269.656792 \nL 124.683705 269.656792 \nz\n\" clip-path=\"url(#p98de47aa3a)\" style=\"fill: #1f77b4\"/>\n   </g>\n   <g id=\"patch_12\">\n    <path d=\"M 131.176795 288.430125 \nL 137.669886 288.430125 \nL 137.669886 269.656792 \nL 131.176795 269.656792 \nz\n\" clip-path=\"url(#p98de47aa3a)\" style=\"fill: #1f77b4\"/>\n   </g>\n   <g id=\"patch_13\">\n    <path d=\"M 137.669886 288.430125 \nL 144.162977 288.430125 \nL 144.162977 269.656792 \nL 137.669886 269.656792 \nz\n\" clip-path=\"url(#p98de47aa3a)\" style=\"fill: #1f77b4\"/>\n   </g>\n   <g id=\"patch_14\">\n    <path d=\"M 144.162977 288.430125 \nL 150.656068 288.430125 \nL 150.656068 250.883458 \nL 144.162977 250.883458 \nz\n\" clip-path=\"url(#p98de47aa3a)\" style=\"fill: #1f77b4\"/>\n   </g>\n   <g id=\"patch_15\">\n    <path d=\"M 150.656068 288.430125 \nL 157.149159 288.430125 \nL 157.149159 232.110125 \nL 150.656068 232.110125 \nz\n\" clip-path=\"url(#p98de47aa3a)\" style=\"fill: #1f77b4\"/>\n   </g>\n   <g id=\"patch_16\">\n    <path d=\"M 157.149159 288.430125 \nL 163.64225 288.430125 \nL 163.64225 213.336792 \nL 157.149159 213.336792 \nz\n\" clip-path=\"url(#p98de47aa3a)\" style=\"fill: #1f77b4\"/>\n   </g>\n   <g id=\"patch_17\">\n    <path d=\"M 163.64225 288.430125 \nL 170.135341 288.430125 \nL 170.135341 222.723458 \nL 163.64225 222.723458 \nz\n\" clip-path=\"url(#p98de47aa3a)\" style=\"fill: #1f77b4\"/>\n   </g>\n   <g id=\"patch_18\">\n    <path d=\"M 170.135341 288.430125 \nL 176.628432 288.430125 \nL 176.628432 203.950125 \nL 170.135341 203.950125 \nz\n\" clip-path=\"url(#p98de47aa3a)\" style=\"fill: #1f77b4\"/>\n   </g>\n   <g id=\"patch_19\">\n    <path d=\"M 176.628432 288.430125 \nL 183.121523 288.430125 \nL 183.121523 203.950125 \nL 176.628432 203.950125 \nz\n\" clip-path=\"url(#p98de47aa3a)\" style=\"fill: #1f77b4\"/>\n   </g>\n   <g id=\"patch_20\">\n    <path d=\"M 183.121523 288.430125 \nL 189.614614 288.430125 \nL 189.614614 185.176792 \nL 183.121523 185.176792 \nz\n\" clip-path=\"url(#p98de47aa3a)\" style=\"fill: #1f77b4\"/>\n   </g>\n   <g id=\"patch_21\">\n    <path d=\"M 189.614614 288.430125 \nL 196.107705 288.430125 \nL 196.107705 232.110125 \nL 189.614614 232.110125 \nz\n\" clip-path=\"url(#p98de47aa3a)\" style=\"fill: #1f77b4\"/>\n   </g>\n   <g id=\"patch_22\">\n    <path d=\"M 196.107705 288.430125 \nL 202.600795 288.430125 \nL 202.600795 213.336792 \nL 196.107705 213.336792 \nz\n\" clip-path=\"url(#p98de47aa3a)\" style=\"fill: #1f77b4\"/>\n   </g>\n   <g id=\"patch_23\">\n    <path d=\"M 202.600795 288.430125 \nL 209.093886 288.430125 \nL 209.093886 81.923458 \nL 202.600795 81.923458 \nz\n\" clip-path=\"url(#p98de47aa3a)\" style=\"fill: #1f77b4\"/>\n   </g>\n   <g id=\"patch_24\">\n    <path d=\"M 209.093886 288.430125 \nL 215.586977 288.430125 \nL 215.586977 147.630125 \nL 209.093886 147.630125 \nz\n\" clip-path=\"url(#p98de47aa3a)\" style=\"fill: #1f77b4\"/>\n   </g>\n   <g id=\"patch_25\">\n    <path d=\"M 215.586977 288.430125 \nL 222.080068 288.430125 \nL 222.080068 185.176792 \nL 215.586977 185.176792 \nz\n\" clip-path=\"url(#p98de47aa3a)\" style=\"fill: #1f77b4\"/>\n   </g>\n   <g id=\"patch_26\">\n    <path d=\"M 222.080068 288.430125 \nL 228.573159 288.430125 \nL 228.573159 138.243458 \nL 222.080068 138.243458 \nz\n\" clip-path=\"url(#p98de47aa3a)\" style=\"fill: #1f77b4\"/>\n   </g>\n   <g id=\"patch_27\">\n    <path d=\"M 228.573159 288.430125 \nL 235.06625 288.430125 \nL 235.06625 147.630125 \nL 228.573159 147.630125 \nz\n\" clip-path=\"url(#p98de47aa3a)\" style=\"fill: #1f77b4\"/>\n   </g>\n   <g id=\"patch_28\">\n    <path d=\"M 235.06625 288.430125 \nL 241.559341 288.430125 \nL 241.559341 100.696792 \nL 235.06625 100.696792 \nz\n\" clip-path=\"url(#p98de47aa3a)\" style=\"fill: #1f77b4\"/>\n   </g>\n   <g id=\"patch_29\">\n    <path d=\"M 241.559341 288.430125 \nL 248.052432 288.430125 \nL 248.052432 34.990125 \nL 241.559341 34.990125 \nz\n\" clip-path=\"url(#p98de47aa3a)\" style=\"fill: #1f77b4\"/>\n   </g>\n   <g id=\"patch_30\">\n    <path d=\"M 248.052432 288.430125 \nL 254.545523 288.430125 \nL 254.545523 128.856792 \nL 248.052432 128.856792 \nz\n\" clip-path=\"url(#p98de47aa3a)\" style=\"fill: #1f77b4\"/>\n   </g>\n   <g id=\"patch_31\">\n    <path d=\"M 254.545523 288.430125 \nL 261.038614 288.430125 \nL 261.038614 63.150125 \nL 254.545523 63.150125 \nz\n\" clip-path=\"url(#p98de47aa3a)\" style=\"fill: #1f77b4\"/>\n   </g>\n   <g id=\"patch_32\">\n    <path d=\"M 261.038614 288.430125 \nL 267.531705 288.430125 \nL 267.531705 119.470125 \nL 261.038614 119.470125 \nz\n\" clip-path=\"url(#p98de47aa3a)\" style=\"fill: #1f77b4\"/>\n   </g>\n   <g id=\"patch_33\">\n    <path d=\"M 267.531705 288.430125 \nL 274.024795 288.430125 \nL 274.024795 100.696792 \nL 267.531705 100.696792 \nz\n\" clip-path=\"url(#p98de47aa3a)\" style=\"fill: #1f77b4\"/>\n   </g>\n   <g id=\"patch_34\">\n    <path d=\"M 274.024795 288.430125 \nL 280.517886 288.430125 \nL 280.517886 110.083458 \nL 274.024795 110.083458 \nz\n\" clip-path=\"url(#p98de47aa3a)\" style=\"fill: #1f77b4\"/>\n   </g>\n   <g id=\"patch_35\">\n    <path d=\"M 280.517886 288.430125 \nL 287.010977 288.430125 \nL 287.010977 110.083458 \nL 280.517886 110.083458 \nz\n\" clip-path=\"url(#p98de47aa3a)\" style=\"fill: #1f77b4\"/>\n   </g>\n   <g id=\"patch_36\">\n    <path d=\"M 287.010977 288.430125 \nL 293.504068 288.430125 \nL 293.504068 213.336792 \nL 287.010977 213.336792 \nz\n\" clip-path=\"url(#p98de47aa3a)\" style=\"fill: #1f77b4\"/>\n   </g>\n   <g id=\"patch_37\">\n    <path d=\"M 293.504068 288.430125 \nL 299.997159 288.430125 \nL 299.997159 147.630125 \nL 293.504068 147.630125 \nz\n\" clip-path=\"url(#p98de47aa3a)\" style=\"fill: #1f77b4\"/>\n   </g>\n   <g id=\"patch_38\">\n    <path d=\"M 299.997159 288.430125 \nL 306.49025 288.430125 \nL 306.49025 175.790125 \nL 299.997159 175.790125 \nz\n\" clip-path=\"url(#p98de47aa3a)\" style=\"fill: #1f77b4\"/>\n   </g>\n   <g id=\"patch_39\">\n    <path d=\"M 306.49025 288.430125 \nL 312.983341 288.430125 \nL 312.983341 166.403458 \nL 306.49025 166.403458 \nz\n\" clip-path=\"url(#p98de47aa3a)\" style=\"fill: #1f77b4\"/>\n   </g>\n   <g id=\"patch_40\">\n    <path d=\"M 312.983341 288.430125 \nL 319.476432 288.430125 \nL 319.476432 175.790125 \nL 312.983341 175.790125 \nz\n\" clip-path=\"url(#p98de47aa3a)\" style=\"fill: #1f77b4\"/>\n   </g>\n   <g id=\"patch_41\">\n    <path d=\"M 319.476432 288.430125 \nL 325.969523 288.430125 \nL 325.969523 250.883458 \nL 319.476432 250.883458 \nz\n\" clip-path=\"url(#p98de47aa3a)\" style=\"fill: #1f77b4\"/>\n   </g>\n   <g id=\"patch_42\">\n    <path d=\"M 325.969523 288.430125 \nL 332.462614 288.430125 \nL 332.462614 203.950125 \nL 325.969523 203.950125 \nz\n\" clip-path=\"url(#p98de47aa3a)\" style=\"fill: #1f77b4\"/>\n   </g>\n   <g id=\"patch_43\">\n    <path d=\"M 332.462614 288.430125 \nL 338.955705 288.430125 \nL 338.955705 241.496792 \nL 332.462614 241.496792 \nz\n\" clip-path=\"url(#p98de47aa3a)\" style=\"fill: #1f77b4\"/>\n   </g>\n   <g id=\"patch_44\">\n    <path d=\"M 338.955705 288.430125 \nL 345.448795 288.430125 \nL 345.448795 203.950125 \nL 338.955705 203.950125 \nz\n\" clip-path=\"url(#p98de47aa3a)\" style=\"fill: #1f77b4\"/>\n   </g>\n   <g id=\"patch_45\">\n    <path d=\"M 345.448795 288.430125 \nL 351.941886 288.430125 \nL 351.941886 232.110125 \nL 345.448795 232.110125 \nz\n\" clip-path=\"url(#p98de47aa3a)\" style=\"fill: #1f77b4\"/>\n   </g>\n   <g id=\"patch_46\">\n    <path d=\"M 351.941886 288.430125 \nL 358.434977 288.430125 \nL 358.434977 250.883458 \nL 351.941886 250.883458 \nz\n\" clip-path=\"url(#p98de47aa3a)\" style=\"fill: #1f77b4\"/>\n   </g>\n   <g id=\"patch_47\">\n    <path d=\"M 358.434977 288.430125 \nL 364.928068 288.430125 \nL 364.928068 288.430125 \nL 358.434977 288.430125 \nz\n\" clip-path=\"url(#p98de47aa3a)\" style=\"fill: #1f77b4\"/>\n   </g>\n   <g id=\"patch_48\">\n    <path d=\"M 364.928068 288.430125 \nL 371.421159 288.430125 \nL 371.421159 260.270125 \nL 364.928068 260.270125 \nz\n\" clip-path=\"url(#p98de47aa3a)\" style=\"fill: #1f77b4\"/>\n   </g>\n   <g id=\"patch_49\">\n    <path d=\"M 371.421159 288.430125 \nL 377.91425 288.430125 \nL 377.91425 250.883458 \nL 371.421159 250.883458 \nz\n\" clip-path=\"url(#p98de47aa3a)\" style=\"fill: #1f77b4\"/>\n   </g>\n   <g id=\"patch_50\">\n    <path d=\"M 377.91425 288.430125 \nL 384.407341 288.430125 \nL 384.407341 260.270125 \nL 377.91425 260.270125 \nz\n\" clip-path=\"url(#p98de47aa3a)\" style=\"fill: #1f77b4\"/>\n   </g>\n   <g id=\"patch_51\">\n    <path d=\"M 384.407341 288.430125 \nL 390.900432 288.430125 \nL 390.900432 269.656792 \nL 384.407341 269.656792 \nz\n\" clip-path=\"url(#p98de47aa3a)\" style=\"fill: #1f77b4\"/>\n   </g>\n   <g id=\"patch_52\">\n    <path d=\"M 390.900432 288.430125 \nL 397.393523 288.430125 \nL 397.393523 260.270125 \nL 390.900432 260.270125 \nz\n\" clip-path=\"url(#p98de47aa3a)\" style=\"fill: #1f77b4\"/>\n   </g>\n   <g id=\"matplotlib.axis_1\">\n    <g id=\"xtick_1\">\n     <g id=\"line2d_1\">\n      <defs>\n       <path id=\"m71916a7dd8\" d=\"M 0 0 \nL 0 3.5 \n\" style=\"stroke: #000000; stroke-width: 0.8\"/>\n      </defs>\n      <g>\n       <use xlink:href=\"#m71916a7dd8\" x=\"86.350646\" y=\"288.430125\" style=\"stroke: #000000; stroke-width: 0.8\"/>\n      </g>\n     </g>\n     <g id=\"text_1\">\n      <!-- 60 -->\n      <g transform=\"translate(79.988146 303.028562) scale(0.1 -0.1)\">\n       <defs>\n        <path id=\"DejaVuSans-36\" d=\"M 2113 2584 \nQ 1688 2584 1439 2293 \nQ 1191 2003 1191 1497 \nQ 1191 994 1439 701 \nQ 1688 409 2113 409 \nQ 2538 409 2786 701 \nQ 3034 994 3034 1497 \nQ 3034 2003 2786 2293 \nQ 2538 2584 2113 2584 \nz\nM 3366 4563 \nL 3366 3988 \nQ 3128 4100 2886 4159 \nQ 2644 4219 2406 4219 \nQ 1781 4219 1451 3797 \nQ 1122 3375 1075 2522 \nQ 1259 2794 1537 2939 \nQ 1816 3084 2150 3084 \nQ 2853 3084 3261 2657 \nQ 3669 2231 3669 1497 \nQ 3669 778 3244 343 \nQ 2819 -91 2113 -91 \nQ 1303 -91 875 529 \nQ 447 1150 447 2328 \nQ 447 3434 972 4092 \nQ 1497 4750 2381 4750 \nQ 2619 4750 2861 4703 \nQ 3103 4656 3366 4563 \nz\n\" transform=\"scale(0.015625)\"/>\n        <path id=\"DejaVuSans-30\" d=\"M 2034 4250 \nQ 1547 4250 1301 3770 \nQ 1056 3291 1056 2328 \nQ 1056 1369 1301 889 \nQ 1547 409 2034 409 \nQ 2525 409 2770 889 \nQ 3016 1369 3016 2328 \nQ 3016 3291 2770 3770 \nQ 2525 4250 2034 4250 \nz\nM 2034 4750 \nQ 2819 4750 3233 4129 \nQ 3647 3509 3647 2328 \nQ 3647 1150 3233 529 \nQ 2819 -91 2034 -91 \nQ 1250 -91 836 529 \nQ 422 1150 422 2328 \nQ 422 3509 836 4129 \nQ 1250 4750 2034 4750 \nz\n\" transform=\"scale(0.015625)\"/>\n       </defs>\n       <use xlink:href=\"#DejaVuSans-36\"/>\n       <use xlink:href=\"#DejaVuSans-30\" x=\"63.623047\"/>\n      </g>\n     </g>\n    </g>\n    <g id=\"xtick_2\">\n     <g id=\"line2d_2\">\n      <g>\n       <use xlink:href=\"#m71916a7dd8\" x=\"165.400229\" y=\"288.430125\" style=\"stroke: #000000; stroke-width: 0.8\"/>\n      </g>\n     </g>\n     <g id=\"text_2\">\n      <!-- 80 -->\n      <g transform=\"translate(159.037729 303.028562) scale(0.1 -0.1)\">\n       <defs>\n        <path id=\"DejaVuSans-38\" d=\"M 2034 2216 \nQ 1584 2216 1326 1975 \nQ 1069 1734 1069 1313 \nQ 1069 891 1326 650 \nQ 1584 409 2034 409 \nQ 2484 409 2743 651 \nQ 3003 894 3003 1313 \nQ 3003 1734 2745 1975 \nQ 2488 2216 2034 2216 \nz\nM 1403 2484 \nQ 997 2584 770 2862 \nQ 544 3141 544 3541 \nQ 544 4100 942 4425 \nQ 1341 4750 2034 4750 \nQ 2731 4750 3128 4425 \nQ 3525 4100 3525 3541 \nQ 3525 3141 3298 2862 \nQ 3072 2584 2669 2484 \nQ 3125 2378 3379 2068 \nQ 3634 1759 3634 1313 \nQ 3634 634 3220 271 \nQ 2806 -91 2034 -91 \nQ 1263 -91 848 271 \nQ 434 634 434 1313 \nQ 434 1759 690 2068 \nQ 947 2378 1403 2484 \nz\nM 1172 3481 \nQ 1172 3119 1398 2916 \nQ 1625 2713 2034 2713 \nQ 2441 2713 2670 2916 \nQ 2900 3119 2900 3481 \nQ 2900 3844 2670 4047 \nQ 2441 4250 2034 4250 \nQ 1625 4250 1398 4047 \nQ 1172 3844 1172 3481 \nz\n\" transform=\"scale(0.015625)\"/>\n       </defs>\n       <use xlink:href=\"#DejaVuSans-38\"/>\n       <use xlink:href=\"#DejaVuSans-30\" x=\"63.623047\"/>\n      </g>\n     </g>\n    </g>\n    <g id=\"xtick_3\">\n     <g id=\"line2d_3\">\n      <g>\n       <use xlink:href=\"#m71916a7dd8\" x=\"244.449812\" y=\"288.430125\" style=\"stroke: #000000; stroke-width: 0.8\"/>\n      </g>\n     </g>\n     <g id=\"text_3\">\n      <!-- 100 -->\n      <g transform=\"translate(234.906062 303.028562) scale(0.1 -0.1)\">\n       <defs>\n        <path id=\"DejaVuSans-31\" d=\"M 794 531 \nL 1825 531 \nL 1825 4091 \nL 703 3866 \nL 703 4441 \nL 1819 4666 \nL 2450 4666 \nL 2450 531 \nL 3481 531 \nL 3481 0 \nL 794 0 \nL 794 531 \nz\n\" transform=\"scale(0.015625)\"/>\n       </defs>\n       <use xlink:href=\"#DejaVuSans-31\"/>\n       <use xlink:href=\"#DejaVuSans-30\" x=\"63.623047\"/>\n       <use xlink:href=\"#DejaVuSans-30\" x=\"127.246094\"/>\n      </g>\n     </g>\n    </g>\n    <g id=\"xtick_4\">\n     <g id=\"line2d_4\">\n      <g>\n       <use xlink:href=\"#m71916a7dd8\" x=\"323.499395\" y=\"288.430125\" style=\"stroke: #000000; stroke-width: 0.8\"/>\n      </g>\n     </g>\n     <g id=\"text_4\">\n      <!-- 120 -->\n      <g transform=\"translate(313.955645 303.028562) scale(0.1 -0.1)\">\n       <defs>\n        <path id=\"DejaVuSans-32\" d=\"M 1228 531 \nL 3431 531 \nL 3431 0 \nL 469 0 \nL 469 531 \nQ 828 903 1448 1529 \nQ 2069 2156 2228 2338 \nQ 2531 2678 2651 2914 \nQ 2772 3150 2772 3378 \nQ 2772 3750 2511 3984 \nQ 2250 4219 1831 4219 \nQ 1534 4219 1204 4116 \nQ 875 4013 500 3803 \nL 500 4441 \nQ 881 4594 1212 4672 \nQ 1544 4750 1819 4750 \nQ 2544 4750 2975 4387 \nQ 3406 4025 3406 3419 \nQ 3406 3131 3298 2873 \nQ 3191 2616 2906 2266 \nQ 2828 2175 2409 1742 \nQ 1991 1309 1228 531 \nz\n\" transform=\"scale(0.015625)\"/>\n       </defs>\n       <use xlink:href=\"#DejaVuSans-31\"/>\n       <use xlink:href=\"#DejaVuSans-32\" x=\"63.623047\"/>\n       <use xlink:href=\"#DejaVuSans-30\" x=\"127.246094\"/>\n      </g>\n     </g>\n    </g>\n    <g id=\"xtick_5\">\n     <g id=\"line2d_5\">\n      <g>\n       <use xlink:href=\"#m71916a7dd8\" x=\"402.548978\" y=\"288.430125\" style=\"stroke: #000000; stroke-width: 0.8\"/>\n      </g>\n     </g>\n     <g id=\"text_5\">\n      <!-- 140 -->\n      <g transform=\"translate(393.005228 303.028562) scale(0.1 -0.1)\">\n       <defs>\n        <path id=\"DejaVuSans-34\" d=\"M 2419 4116 \nL 825 1625 \nL 2419 1625 \nL 2419 4116 \nz\nM 2253 4666 \nL 3047 4666 \nL 3047 1625 \nL 3713 1625 \nL 3713 1100 \nL 3047 1100 \nL 3047 0 \nL 2419 0 \nL 2419 1100 \nL 313 1100 \nL 313 1709 \nL 2253 4666 \nz\n\" transform=\"scale(0.015625)\"/>\n       </defs>\n       <use xlink:href=\"#DejaVuSans-31\"/>\n       <use xlink:href=\"#DejaVuSans-34\" x=\"63.623047\"/>\n       <use xlink:href=\"#DejaVuSans-30\" x=\"127.246094\"/>\n      </g>\n     </g>\n    </g>\n    <g id=\"text_6\">\n     <!-- X -->\n     <g transform=\"translate(231.64125 316.706687) scale(0.1 -0.1)\">\n      <defs>\n       <path id=\"DejaVuSans-58\" d=\"M 403 4666 \nL 1081 4666 \nL 2241 2931 \nL 3406 4666 \nL 4084 4666 \nL 2584 2425 \nL 4184 0 \nL 3506 0 \nL 2194 1984 \nL 872 0 \nL 191 0 \nL 1856 2491 \nL 403 4666 \nz\n\" transform=\"scale(0.015625)\"/>\n      </defs>\n      <use xlink:href=\"#DejaVuSans-58\"/>\n     </g>\n    </g>\n   </g>\n   <g id=\"matplotlib.axis_2\">\n    <g id=\"ytick_1\">\n     <g id=\"line2d_6\">\n      <defs>\n       <path id=\"m0281936c37\" d=\"M 0 0 \nL -3.5 0 \n\" style=\"stroke: #000000; stroke-width: 0.8\"/>\n      </defs>\n      <g>\n       <use xlink:href=\"#m0281936c37\" x=\"56.50625\" y=\"288.430125\" style=\"stroke: #000000; stroke-width: 0.8\"/>\n      </g>\n     </g>\n     <g id=\"text_7\">\n      <!-- 0.000 -->\n      <g transform=\"translate(20.878125 292.229344) scale(0.1 -0.1)\">\n       <defs>\n        <path id=\"DejaVuSans-2e\" d=\"M 684 794 \nL 1344 794 \nL 1344 0 \nL 684 0 \nL 684 794 \nz\n\" transform=\"scale(0.015625)\"/>\n       </defs>\n       <use xlink:href=\"#DejaVuSans-30\"/>\n       <use xlink:href=\"#DejaVuSans-2e\" x=\"63.623047\"/>\n       <use xlink:href=\"#DejaVuSans-30\" x=\"95.410156\"/>\n       <use xlink:href=\"#DejaVuSans-30\" x=\"159.033203\"/>\n       <use xlink:href=\"#DejaVuSans-30\" x=\"222.65625\"/>\n      </g>\n     </g>\n    </g>\n    <g id=\"ytick_2\">\n     <g id=\"line2d_7\">\n      <g>\n       <use xlink:href=\"#m0281936c37\" x=\"56.50625\" y=\"254.736733\" style=\"stroke: #000000; stroke-width: 0.8\"/>\n      </g>\n     </g>\n     <g id=\"text_8\">\n      <!-- 0.005 -->\n      <g transform=\"translate(20.878125 258.535952) scale(0.1 -0.1)\">\n       <defs>\n        <path id=\"DejaVuSans-35\" d=\"M 691 4666 \nL 3169 4666 \nL 3169 4134 \nL 1269 4134 \nL 1269 2991 \nQ 1406 3038 1543 3061 \nQ 1681 3084 1819 3084 \nQ 2600 3084 3056 2656 \nQ 3513 2228 3513 1497 \nQ 3513 744 3044 326 \nQ 2575 -91 1722 -91 \nQ 1428 -91 1123 -41 \nQ 819 9 494 109 \nL 494 744 \nQ 775 591 1075 516 \nQ 1375 441 1709 441 \nQ 2250 441 2565 725 \nQ 2881 1009 2881 1497 \nQ 2881 1984 2565 2268 \nQ 2250 2553 1709 2553 \nQ 1456 2553 1204 2497 \nQ 953 2441 691 2322 \nL 691 4666 \nz\n\" transform=\"scale(0.015625)\"/>\n       </defs>\n       <use xlink:href=\"#DejaVuSans-30\"/>\n       <use xlink:href=\"#DejaVuSans-2e\" x=\"63.623047\"/>\n       <use xlink:href=\"#DejaVuSans-30\" x=\"95.410156\"/>\n       <use xlink:href=\"#DejaVuSans-30\" x=\"159.033203\"/>\n       <use xlink:href=\"#DejaVuSans-35\" x=\"222.65625\"/>\n      </g>\n     </g>\n    </g>\n    <g id=\"ytick_3\">\n     <g id=\"line2d_8\">\n      <g>\n       <use xlink:href=\"#m0281936c37\" x=\"56.50625\" y=\"221.043341\" style=\"stroke: #000000; stroke-width: 0.8\"/>\n      </g>\n     </g>\n     <g id=\"text_9\">\n      <!-- 0.010 -->\n      <g transform=\"translate(20.878125 224.84256) scale(0.1 -0.1)\">\n       <use xlink:href=\"#DejaVuSans-30\"/>\n       <use xlink:href=\"#DejaVuSans-2e\" x=\"63.623047\"/>\n       <use xlink:href=\"#DejaVuSans-30\" x=\"95.410156\"/>\n       <use xlink:href=\"#DejaVuSans-31\" x=\"159.033203\"/>\n       <use xlink:href=\"#DejaVuSans-30\" x=\"222.65625\"/>\n      </g>\n     </g>\n    </g>\n    <g id=\"ytick_4\">\n     <g id=\"line2d_9\">\n      <g>\n       <use xlink:href=\"#m0281936c37\" x=\"56.50625\" y=\"187.349949\" style=\"stroke: #000000; stroke-width: 0.8\"/>\n      </g>\n     </g>\n     <g id=\"text_10\">\n      <!-- 0.015 -->\n      <g transform=\"translate(20.878125 191.149168) scale(0.1 -0.1)\">\n       <use xlink:href=\"#DejaVuSans-30\"/>\n       <use xlink:href=\"#DejaVuSans-2e\" x=\"63.623047\"/>\n       <use xlink:href=\"#DejaVuSans-30\" x=\"95.410156\"/>\n       <use xlink:href=\"#DejaVuSans-31\" x=\"159.033203\"/>\n       <use xlink:href=\"#DejaVuSans-35\" x=\"222.65625\"/>\n      </g>\n     </g>\n    </g>\n    <g id=\"ytick_5\">\n     <g id=\"line2d_10\">\n      <g>\n       <use xlink:href=\"#m0281936c37\" x=\"56.50625\" y=\"153.656558\" style=\"stroke: #000000; stroke-width: 0.8\"/>\n      </g>\n     </g>\n     <g id=\"text_11\">\n      <!-- 0.020 -->\n      <g transform=\"translate(20.878125 157.455776) scale(0.1 -0.1)\">\n       <use xlink:href=\"#DejaVuSans-30\"/>\n       <use xlink:href=\"#DejaVuSans-2e\" x=\"63.623047\"/>\n       <use xlink:href=\"#DejaVuSans-30\" x=\"95.410156\"/>\n       <use xlink:href=\"#DejaVuSans-32\" x=\"159.033203\"/>\n       <use xlink:href=\"#DejaVuSans-30\" x=\"222.65625\"/>\n      </g>\n     </g>\n    </g>\n    <g id=\"ytick_6\">\n     <g id=\"line2d_11\">\n      <g>\n       <use xlink:href=\"#m0281936c37\" x=\"56.50625\" y=\"119.963166\" style=\"stroke: #000000; stroke-width: 0.8\"/>\n      </g>\n     </g>\n     <g id=\"text_12\">\n      <!-- 0.025 -->\n      <g transform=\"translate(20.878125 123.762384) scale(0.1 -0.1)\">\n       <use xlink:href=\"#DejaVuSans-30\"/>\n       <use xlink:href=\"#DejaVuSans-2e\" x=\"63.623047\"/>\n       <use xlink:href=\"#DejaVuSans-30\" x=\"95.410156\"/>\n       <use xlink:href=\"#DejaVuSans-32\" x=\"159.033203\"/>\n       <use xlink:href=\"#DejaVuSans-35\" x=\"222.65625\"/>\n      </g>\n     </g>\n    </g>\n    <g id=\"ytick_7\">\n     <g id=\"line2d_12\">\n      <g>\n       <use xlink:href=\"#m0281936c37\" x=\"56.50625\" y=\"86.269774\" style=\"stroke: #000000; stroke-width: 0.8\"/>\n      </g>\n     </g>\n     <g id=\"text_13\">\n      <!-- 0.030 -->\n      <g transform=\"translate(20.878125 90.068993) scale(0.1 -0.1)\">\n       <defs>\n        <path id=\"DejaVuSans-33\" d=\"M 2597 2516 \nQ 3050 2419 3304 2112 \nQ 3559 1806 3559 1356 \nQ 3559 666 3084 287 \nQ 2609 -91 1734 -91 \nQ 1441 -91 1130 -33 \nQ 819 25 488 141 \nL 488 750 \nQ 750 597 1062 519 \nQ 1375 441 1716 441 \nQ 2309 441 2620 675 \nQ 2931 909 2931 1356 \nQ 2931 1769 2642 2001 \nQ 2353 2234 1838 2234 \nL 1294 2234 \nL 1294 2753 \nL 1863 2753 \nQ 2328 2753 2575 2939 \nQ 2822 3125 2822 3475 \nQ 2822 3834 2567 4026 \nQ 2313 4219 1838 4219 \nQ 1578 4219 1281 4162 \nQ 984 4106 628 3988 \nL 628 4550 \nQ 988 4650 1302 4700 \nQ 1616 4750 1894 4750 \nQ 2613 4750 3031 4423 \nQ 3450 4097 3450 3541 \nQ 3450 3153 3228 2886 \nQ 3006 2619 2597 2516 \nz\n\" transform=\"scale(0.015625)\"/>\n       </defs>\n       <use xlink:href=\"#DejaVuSans-30\"/>\n       <use xlink:href=\"#DejaVuSans-2e\" x=\"63.623047\"/>\n       <use xlink:href=\"#DejaVuSans-30\" x=\"95.410156\"/>\n       <use xlink:href=\"#DejaVuSans-33\" x=\"159.033203\"/>\n       <use xlink:href=\"#DejaVuSans-30\" x=\"222.65625\"/>\n      </g>\n     </g>\n    </g>\n    <g id=\"ytick_8\">\n     <g id=\"line2d_13\">\n      <g>\n       <use xlink:href=\"#m0281936c37\" x=\"56.50625\" y=\"52.576382\" style=\"stroke: #000000; stroke-width: 0.8\"/>\n      </g>\n     </g>\n     <g id=\"text_14\">\n      <!-- 0.035 -->\n      <g transform=\"translate(20.878125 56.375601) scale(0.1 -0.1)\">\n       <use xlink:href=\"#DejaVuSans-30\"/>\n       <use xlink:href=\"#DejaVuSans-2e\" x=\"63.623047\"/>\n       <use xlink:href=\"#DejaVuSans-30\" x=\"95.410156\"/>\n       <use xlink:href=\"#DejaVuSans-33\" x=\"159.033203\"/>\n       <use xlink:href=\"#DejaVuSans-35\" x=\"222.65625\"/>\n      </g>\n     </g>\n    </g>\n    <g id=\"text_15\">\n     <!-- Probability density -->\n     <g transform=\"translate(14.798438 201.724906) rotate(-90) scale(0.1 -0.1)\">\n      <defs>\n       <path id=\"DejaVuSans-50\" d=\"M 1259 4147 \nL 1259 2394 \nL 2053 2394 \nQ 2494 2394 2734 2622 \nQ 2975 2850 2975 3272 \nQ 2975 3691 2734 3919 \nQ 2494 4147 2053 4147 \nL 1259 4147 \nz\nM 628 4666 \nL 2053 4666 \nQ 2838 4666 3239 4311 \nQ 3641 3956 3641 3272 \nQ 3641 2581 3239 2228 \nQ 2838 1875 2053 1875 \nL 1259 1875 \nL 1259 0 \nL 628 0 \nL 628 4666 \nz\n\" transform=\"scale(0.015625)\"/>\n       <path id=\"DejaVuSans-72\" d=\"M 2631 2963 \nQ 2534 3019 2420 3045 \nQ 2306 3072 2169 3072 \nQ 1681 3072 1420 2755 \nQ 1159 2438 1159 1844 \nL 1159 0 \nL 581 0 \nL 581 3500 \nL 1159 3500 \nL 1159 2956 \nQ 1341 3275 1631 3429 \nQ 1922 3584 2338 3584 \nQ 2397 3584 2469 3576 \nQ 2541 3569 2628 3553 \nL 2631 2963 \nz\n\" transform=\"scale(0.015625)\"/>\n       <path id=\"DejaVuSans-6f\" d=\"M 1959 3097 \nQ 1497 3097 1228 2736 \nQ 959 2375 959 1747 \nQ 959 1119 1226 758 \nQ 1494 397 1959 397 \nQ 2419 397 2687 759 \nQ 2956 1122 2956 1747 \nQ 2956 2369 2687 2733 \nQ 2419 3097 1959 3097 \nz\nM 1959 3584 \nQ 2709 3584 3137 3096 \nQ 3566 2609 3566 1747 \nQ 3566 888 3137 398 \nQ 2709 -91 1959 -91 \nQ 1206 -91 779 398 \nQ 353 888 353 1747 \nQ 353 2609 779 3096 \nQ 1206 3584 1959 3584 \nz\n\" transform=\"scale(0.015625)\"/>\n       <path id=\"DejaVuSans-62\" d=\"M 3116 1747 \nQ 3116 2381 2855 2742 \nQ 2594 3103 2138 3103 \nQ 1681 3103 1420 2742 \nQ 1159 2381 1159 1747 \nQ 1159 1113 1420 752 \nQ 1681 391 2138 391 \nQ 2594 391 2855 752 \nQ 3116 1113 3116 1747 \nz\nM 1159 2969 \nQ 1341 3281 1617 3432 \nQ 1894 3584 2278 3584 \nQ 2916 3584 3314 3078 \nQ 3713 2572 3713 1747 \nQ 3713 922 3314 415 \nQ 2916 -91 2278 -91 \nQ 1894 -91 1617 61 \nQ 1341 213 1159 525 \nL 1159 0 \nL 581 0 \nL 581 4863 \nL 1159 4863 \nL 1159 2969 \nz\n\" transform=\"scale(0.015625)\"/>\n       <path id=\"DejaVuSans-61\" d=\"M 2194 1759 \nQ 1497 1759 1228 1600 \nQ 959 1441 959 1056 \nQ 959 750 1161 570 \nQ 1363 391 1709 391 \nQ 2188 391 2477 730 \nQ 2766 1069 2766 1631 \nL 2766 1759 \nL 2194 1759 \nz\nM 3341 1997 \nL 3341 0 \nL 2766 0 \nL 2766 531 \nQ 2569 213 2275 61 \nQ 1981 -91 1556 -91 \nQ 1019 -91 701 211 \nQ 384 513 384 1019 \nQ 384 1609 779 1909 \nQ 1175 2209 1959 2209 \nL 2766 2209 \nL 2766 2266 \nQ 2766 2663 2505 2880 \nQ 2244 3097 1772 3097 \nQ 1472 3097 1187 3025 \nQ 903 2953 641 2809 \nL 641 3341 \nQ 956 3463 1253 3523 \nQ 1550 3584 1831 3584 \nQ 2591 3584 2966 3190 \nQ 3341 2797 3341 1997 \nz\n\" transform=\"scale(0.015625)\"/>\n       <path id=\"DejaVuSans-69\" d=\"M 603 3500 \nL 1178 3500 \nL 1178 0 \nL 603 0 \nL 603 3500 \nz\nM 603 4863 \nL 1178 4863 \nL 1178 4134 \nL 603 4134 \nL 603 4863 \nz\n\" transform=\"scale(0.015625)\"/>\n       <path id=\"DejaVuSans-6c\" d=\"M 603 4863 \nL 1178 4863 \nL 1178 0 \nL 603 0 \nL 603 4863 \nz\n\" transform=\"scale(0.015625)\"/>\n       <path id=\"DejaVuSans-74\" d=\"M 1172 4494 \nL 1172 3500 \nL 2356 3500 \nL 2356 3053 \nL 1172 3053 \nL 1172 1153 \nQ 1172 725 1289 603 \nQ 1406 481 1766 481 \nL 2356 481 \nL 2356 0 \nL 1766 0 \nQ 1100 0 847 248 \nQ 594 497 594 1153 \nL 594 3053 \nL 172 3053 \nL 172 3500 \nL 594 3500 \nL 594 4494 \nL 1172 4494 \nz\n\" transform=\"scale(0.015625)\"/>\n       <path id=\"DejaVuSans-79\" d=\"M 2059 -325 \nQ 1816 -950 1584 -1140 \nQ 1353 -1331 966 -1331 \nL 506 -1331 \nL 506 -850 \nL 844 -850 \nQ 1081 -850 1212 -737 \nQ 1344 -625 1503 -206 \nL 1606 56 \nL 191 3500 \nL 800 3500 \nL 1894 763 \nL 2988 3500 \nL 3597 3500 \nL 2059 -325 \nz\n\" transform=\"scale(0.015625)\"/>\n       <path id=\"DejaVuSans-20\" transform=\"scale(0.015625)\"/>\n       <path id=\"DejaVuSans-64\" d=\"M 2906 2969 \nL 2906 4863 \nL 3481 4863 \nL 3481 0 \nL 2906 0 \nL 2906 525 \nQ 2725 213 2448 61 \nQ 2172 -91 1784 -91 \nQ 1150 -91 751 415 \nQ 353 922 353 1747 \nQ 353 2572 751 3078 \nQ 1150 3584 1784 3584 \nQ 2172 3584 2448 3432 \nQ 2725 3281 2906 2969 \nz\nM 947 1747 \nQ 947 1113 1208 752 \nQ 1469 391 1925 391 \nQ 2381 391 2643 752 \nQ 2906 1113 2906 1747 \nQ 2906 2381 2643 2742 \nQ 2381 3103 1925 3103 \nQ 1469 3103 1208 2742 \nQ 947 2381 947 1747 \nz\n\" transform=\"scale(0.015625)\"/>\n       <path id=\"DejaVuSans-65\" d=\"M 3597 1894 \nL 3597 1613 \nL 953 1613 \nQ 991 1019 1311 708 \nQ 1631 397 2203 397 \nQ 2534 397 2845 478 \nQ 3156 559 3463 722 \nL 3463 178 \nQ 3153 47 2828 -22 \nQ 2503 -91 2169 -91 \nQ 1331 -91 842 396 \nQ 353 884 353 1716 \nQ 353 2575 817 3079 \nQ 1281 3584 2069 3584 \nQ 2775 3584 3186 3129 \nQ 3597 2675 3597 1894 \nz\nM 3022 2063 \nQ 3016 2534 2758 2815 \nQ 2500 3097 2075 3097 \nQ 1594 3097 1305 2825 \nQ 1016 2553 972 2059 \nL 3022 2063 \nz\n\" transform=\"scale(0.015625)\"/>\n       <path id=\"DejaVuSans-6e\" d=\"M 3513 2113 \nL 3513 0 \nL 2938 0 \nL 2938 2094 \nQ 2938 2591 2744 2837 \nQ 2550 3084 2163 3084 \nQ 1697 3084 1428 2787 \nQ 1159 2491 1159 1978 \nL 1159 0 \nL 581 0 \nL 581 3500 \nL 1159 3500 \nL 1159 2956 \nQ 1366 3272 1645 3428 \nQ 1925 3584 2291 3584 \nQ 2894 3584 3203 3211 \nQ 3513 2838 3513 2113 \nz\n\" transform=\"scale(0.015625)\"/>\n       <path id=\"DejaVuSans-73\" d=\"M 2834 3397 \nL 2834 2853 \nQ 2591 2978 2328 3040 \nQ 2066 3103 1784 3103 \nQ 1356 3103 1142 2972 \nQ 928 2841 928 2578 \nQ 928 2378 1081 2264 \nQ 1234 2150 1697 2047 \nL 1894 2003 \nQ 2506 1872 2764 1633 \nQ 3022 1394 3022 966 \nQ 3022 478 2636 193 \nQ 2250 -91 1575 -91 \nQ 1294 -91 989 -36 \nQ 684 19 347 128 \nL 347 722 \nQ 666 556 975 473 \nQ 1284 391 1588 391 \nQ 1994 391 2212 530 \nQ 2431 669 2431 922 \nQ 2431 1156 2273 1281 \nQ 2116 1406 1581 1522 \nL 1381 1569 \nQ 847 1681 609 1914 \nQ 372 2147 372 2553 \nQ 372 3047 722 3315 \nQ 1072 3584 1716 3584 \nQ 2034 3584 2315 3537 \nQ 2597 3491 2834 3397 \nz\n\" transform=\"scale(0.015625)\"/>\n      </defs>\n      <use xlink:href=\"#DejaVuSans-50\"/>\n      <use xlink:href=\"#DejaVuSans-72\" x=\"58.552734\"/>\n      <use xlink:href=\"#DejaVuSans-6f\" x=\"97.416016\"/>\n      <use xlink:href=\"#DejaVuSans-62\" x=\"158.597656\"/>\n      <use xlink:href=\"#DejaVuSans-61\" x=\"222.074219\"/>\n      <use xlink:href=\"#DejaVuSans-62\" x=\"283.353516\"/>\n      <use xlink:href=\"#DejaVuSans-69\" x=\"346.830078\"/>\n      <use xlink:href=\"#DejaVuSans-6c\" x=\"374.613281\"/>\n      <use xlink:href=\"#DejaVuSans-69\" x=\"402.396484\"/>\n      <use xlink:href=\"#DejaVuSans-74\" x=\"430.179688\"/>\n      <use xlink:href=\"#DejaVuSans-79\" x=\"469.388672\"/>\n      <use xlink:href=\"#DejaVuSans-20\" x=\"528.568359\"/>\n      <use xlink:href=\"#DejaVuSans-64\" x=\"560.355469\"/>\n      <use xlink:href=\"#DejaVuSans-65\" x=\"623.832031\"/>\n      <use xlink:href=\"#DejaVuSans-6e\" x=\"685.355469\"/>\n      <use xlink:href=\"#DejaVuSans-73\" x=\"748.734375\"/>\n      <use xlink:href=\"#DejaVuSans-69\" x=\"800.833984\"/>\n      <use xlink:href=\"#DejaVuSans-74\" x=\"828.617188\"/>\n      <use xlink:href=\"#DejaVuSans-79\" x=\"867.826172\"/>\n     </g>\n    </g>\n   </g>\n   <g id=\"line2d_14\">\n    <path d=\"M 72.738977 285.726799 \nL 79.232068 284.739922 \nL 85.725159 283.452835 \nL 92.21825 281.796873 \nL 98.711341 279.695366 \nL 105.204432 277.065209 \nL 111.697523 273.819379 \nL 118.190614 269.870491 \nL 124.683705 265.135415 \nL 131.176795 259.540888 \nL 137.669886 253.029927 \nL 144.162977 245.568742 \nL 150.656068 237.153723 \nL 157.149159 227.817965 \nL 163.64225 217.636712 \nL 170.135341 206.731114 \nL 176.628432 195.269666 \nL 183.121523 183.466867 \nL 189.614614 171.578743 \nL 196.107705 159.895165 \nL 202.600795 148.729115 \nL 209.093886 138.403379 \nL 215.586977 129.23539 \nL 222.080068 121.521194 \nL 228.573159 115.519645 \nL 235.06625 111.438009 \nL 241.559341 109.420084 \nL 248.052432 109.537792 \nL 254.545523 111.786922 \nL 261.038614 116.087383 \nL 267.531705 122.287935 \nL 274.024795 130.17502 \nL 280.517886 139.484966 \nL 287.010977 149.918597 \nL 293.504068 161.157115 \nL 299.997159 172.878096 \nL 306.49025 184.770484 \nL 312.983341 196.547649 \nL 319.476432 207.957801 \nL 325.969523 218.791327 \nL 332.462614 228.884912 \nL 338.955705 238.122559 \nL 345.448795 246.433865 \nL 351.941886 253.790052 \nL 358.434977 260.198372 \nL 364.928068 265.695502 \nL 371.421159 270.340543 \nL 377.91425 274.208141 \nL 384.407341 277.38215 \nL 390.900432 279.950121 \nL 397.393523 281.998802 \n\" clip-path=\"url(#p98de47aa3a)\" style=\"fill: none; stroke-dasharray: 5.55,2.4; stroke-dashoffset: 0; stroke: #ff7f0e; stroke-width: 1.5\"/>\n   </g>\n   <g id=\"patch_53\">\n    <path d=\"M 56.50625 288.430125 \nL 56.50625 22.318125 \n\" style=\"fill: none; stroke: #000000; stroke-width: 0.8; stroke-linejoin: miter; stroke-linecap: square\"/>\n   </g>\n   <g id=\"patch_54\">\n    <path d=\"M 413.62625 288.430125 \nL 413.62625 22.318125 \n\" style=\"fill: none; stroke: #000000; stroke-width: 0.8; stroke-linejoin: miter; stroke-linecap: square\"/>\n   </g>\n   <g id=\"patch_55\">\n    <path d=\"M 56.50625 288.430125 \nL 413.62625 288.430125 \n\" style=\"fill: none; stroke: #000000; stroke-width: 0.8; stroke-linejoin: miter; stroke-linecap: square\"/>\n   </g>\n   <g id=\"patch_56\">\n    <path d=\"M 56.50625 22.318125 \nL 413.62625 22.318125 \n\" style=\"fill: none; stroke: #000000; stroke-width: 0.8; stroke-linejoin: miter; stroke-linecap: square\"/>\n   </g>\n   <g id=\"text_16\">\n    <!-- Histogram with: mu=100, sigma=15, bins=50 -->\n    <g transform=\"translate(95.770625 16.318125) scale(0.12 -0.12)\">\n     <defs>\n      <path id=\"DejaVuSans-48\" d=\"M 628 4666 \nL 1259 4666 \nL 1259 2753 \nL 3553 2753 \nL 3553 4666 \nL 4184 4666 \nL 4184 0 \nL 3553 0 \nL 3553 2222 \nL 1259 2222 \nL 1259 0 \nL 628 0 \nL 628 4666 \nz\n\" transform=\"scale(0.015625)\"/>\n      <path id=\"DejaVuSans-67\" d=\"M 2906 1791 \nQ 2906 2416 2648 2759 \nQ 2391 3103 1925 3103 \nQ 1463 3103 1205 2759 \nQ 947 2416 947 1791 \nQ 947 1169 1205 825 \nQ 1463 481 1925 481 \nQ 2391 481 2648 825 \nQ 2906 1169 2906 1791 \nz\nM 3481 434 \nQ 3481 -459 3084 -895 \nQ 2688 -1331 1869 -1331 \nQ 1566 -1331 1297 -1286 \nQ 1028 -1241 775 -1147 \nL 775 -588 \nQ 1028 -725 1275 -790 \nQ 1522 -856 1778 -856 \nQ 2344 -856 2625 -561 \nQ 2906 -266 2906 331 \nL 2906 616 \nQ 2728 306 2450 153 \nQ 2172 0 1784 0 \nQ 1141 0 747 490 \nQ 353 981 353 1791 \nQ 353 2603 747 3093 \nQ 1141 3584 1784 3584 \nQ 2172 3584 2450 3431 \nQ 2728 3278 2906 2969 \nL 2906 3500 \nL 3481 3500 \nL 3481 434 \nz\n\" transform=\"scale(0.015625)\"/>\n      <path id=\"DejaVuSans-6d\" d=\"M 3328 2828 \nQ 3544 3216 3844 3400 \nQ 4144 3584 4550 3584 \nQ 5097 3584 5394 3201 \nQ 5691 2819 5691 2113 \nL 5691 0 \nL 5113 0 \nL 5113 2094 \nQ 5113 2597 4934 2840 \nQ 4756 3084 4391 3084 \nQ 3944 3084 3684 2787 \nQ 3425 2491 3425 1978 \nL 3425 0 \nL 2847 0 \nL 2847 2094 \nQ 2847 2600 2669 2842 \nQ 2491 3084 2119 3084 \nQ 1678 3084 1418 2786 \nQ 1159 2488 1159 1978 \nL 1159 0 \nL 581 0 \nL 581 3500 \nL 1159 3500 \nL 1159 2956 \nQ 1356 3278 1631 3431 \nQ 1906 3584 2284 3584 \nQ 2666 3584 2933 3390 \nQ 3200 3197 3328 2828 \nz\n\" transform=\"scale(0.015625)\"/>\n      <path id=\"DejaVuSans-77\" d=\"M 269 3500 \nL 844 3500 \nL 1563 769 \nL 2278 3500 \nL 2956 3500 \nL 3675 769 \nL 4391 3500 \nL 4966 3500 \nL 4050 0 \nL 3372 0 \nL 2619 2869 \nL 1863 0 \nL 1184 0 \nL 269 3500 \nz\n\" transform=\"scale(0.015625)\"/>\n      <path id=\"DejaVuSans-68\" d=\"M 3513 2113 \nL 3513 0 \nL 2938 0 \nL 2938 2094 \nQ 2938 2591 2744 2837 \nQ 2550 3084 2163 3084 \nQ 1697 3084 1428 2787 \nQ 1159 2491 1159 1978 \nL 1159 0 \nL 581 0 \nL 581 4863 \nL 1159 4863 \nL 1159 2956 \nQ 1366 3272 1645 3428 \nQ 1925 3584 2291 3584 \nQ 2894 3584 3203 3211 \nQ 3513 2838 3513 2113 \nz\n\" transform=\"scale(0.015625)\"/>\n      <path id=\"DejaVuSans-3a\" d=\"M 750 794 \nL 1409 794 \nL 1409 0 \nL 750 0 \nL 750 794 \nz\nM 750 3309 \nL 1409 3309 \nL 1409 2516 \nL 750 2516 \nL 750 3309 \nz\n\" transform=\"scale(0.015625)\"/>\n      <path id=\"DejaVuSans-75\" d=\"M 544 1381 \nL 544 3500 \nL 1119 3500 \nL 1119 1403 \nQ 1119 906 1312 657 \nQ 1506 409 1894 409 \nQ 2359 409 2629 706 \nQ 2900 1003 2900 1516 \nL 2900 3500 \nL 3475 3500 \nL 3475 0 \nL 2900 0 \nL 2900 538 \nQ 2691 219 2414 64 \nQ 2138 -91 1772 -91 \nQ 1169 -91 856 284 \nQ 544 659 544 1381 \nz\nM 1991 3584 \nL 1991 3584 \nz\n\" transform=\"scale(0.015625)\"/>\n      <path id=\"DejaVuSans-3d\" d=\"M 678 2906 \nL 4684 2906 \nL 4684 2381 \nL 678 2381 \nL 678 2906 \nz\nM 678 1631 \nL 4684 1631 \nL 4684 1100 \nL 678 1100 \nL 678 1631 \nz\n\" transform=\"scale(0.015625)\"/>\n      <path id=\"DejaVuSans-2c\" d=\"M 750 794 \nL 1409 794 \nL 1409 256 \nL 897 -744 \nL 494 -744 \nL 750 256 \nL 750 794 \nz\n\" transform=\"scale(0.015625)\"/>\n     </defs>\n     <use xlink:href=\"#DejaVuSans-48\"/>\n     <use xlink:href=\"#DejaVuSans-69\" x=\"75.195312\"/>\n     <use xlink:href=\"#DejaVuSans-73\" x=\"102.978516\"/>\n     <use xlink:href=\"#DejaVuSans-74\" x=\"155.078125\"/>\n     <use xlink:href=\"#DejaVuSans-6f\" x=\"194.287109\"/>\n     <use xlink:href=\"#DejaVuSans-67\" x=\"255.46875\"/>\n     <use xlink:href=\"#DejaVuSans-72\" x=\"318.945312\"/>\n     <use xlink:href=\"#DejaVuSans-61\" x=\"360.058594\"/>\n     <use xlink:href=\"#DejaVuSans-6d\" x=\"421.337891\"/>\n     <use xlink:href=\"#DejaVuSans-20\" x=\"518.75\"/>\n     <use xlink:href=\"#DejaVuSans-77\" x=\"550.537109\"/>\n     <use xlink:href=\"#DejaVuSans-69\" x=\"632.324219\"/>\n     <use xlink:href=\"#DejaVuSans-74\" x=\"660.107422\"/>\n     <use xlink:href=\"#DejaVuSans-68\" x=\"699.316406\"/>\n     <use xlink:href=\"#DejaVuSans-3a\" x=\"762.695312\"/>\n     <use xlink:href=\"#DejaVuSans-20\" x=\"796.386719\"/>\n     <use xlink:href=\"#DejaVuSans-6d\" x=\"828.173828\"/>\n     <use xlink:href=\"#DejaVuSans-75\" x=\"925.585938\"/>\n     <use xlink:href=\"#DejaVuSans-3d\" x=\"988.964844\"/>\n     <use xlink:href=\"#DejaVuSans-31\" x=\"1072.753906\"/>\n     <use xlink:href=\"#DejaVuSans-30\" x=\"1136.376953\"/>\n     <use xlink:href=\"#DejaVuSans-30\" x=\"1200\"/>\n     <use xlink:href=\"#DejaVuSans-2c\" x=\"1263.623047\"/>\n     <use xlink:href=\"#DejaVuSans-20\" x=\"1295.410156\"/>\n     <use xlink:href=\"#DejaVuSans-73\" x=\"1327.197266\"/>\n     <use xlink:href=\"#DejaVuSans-69\" x=\"1379.296875\"/>\n     <use xlink:href=\"#DejaVuSans-67\" x=\"1407.080078\"/>\n     <use xlink:href=\"#DejaVuSans-6d\" x=\"1470.556641\"/>\n     <use xlink:href=\"#DejaVuSans-61\" x=\"1567.96875\"/>\n     <use xlink:href=\"#DejaVuSans-3d\" x=\"1629.248047\"/>\n     <use xlink:href=\"#DejaVuSans-31\" x=\"1713.037109\"/>\n     <use xlink:href=\"#DejaVuSans-35\" x=\"1776.660156\"/>\n     <use xlink:href=\"#DejaVuSans-2c\" x=\"1840.283203\"/>\n     <use xlink:href=\"#DejaVuSans-20\" x=\"1872.070312\"/>\n     <use xlink:href=\"#DejaVuSans-62\" x=\"1903.857422\"/>\n     <use xlink:href=\"#DejaVuSans-69\" x=\"1967.333984\"/>\n     <use xlink:href=\"#DejaVuSans-6e\" x=\"1995.117188\"/>\n     <use xlink:href=\"#DejaVuSans-73\" x=\"2058.496094\"/>\n     <use xlink:href=\"#DejaVuSans-3d\" x=\"2110.595703\"/>\n     <use xlink:href=\"#DejaVuSans-35\" x=\"2194.384766\"/>\n     <use xlink:href=\"#DejaVuSans-30\" x=\"2258.007812\"/>\n    </g>\n   </g>\n  </g>\n </g>\n <defs>\n  <clipPath id=\"p98de47aa3a\">\n   <rect x=\"56.50625\" y=\"22.318125\" width=\"357.12\" height=\"266.112\"/>\n  </clipPath>\n </defs>\n</svg>\n",
          "text/plain": "<Figure size 640x480 with 1 Axes>"
         },
         "metadata": {},
         "output_type": "display_data"
        }
       ]
      }
     },
     "d397bd082b9e49d0b78067b0a42f8b0d": {
      "model_module": "@jupyter-widgets/base",
      "model_module_version": "2.0.0",
      "model_name": "LayoutModel",
      "state": {}
     },
     "d64561a88589461c96376bea6755ee8c": {
      "model_module": "@jupyter-widgets/base",
      "model_module_version": "2.0.0",
      "model_name": "LayoutModel",
      "state": {}
     },
     "d83e38df596f4e3ca83e2ce064538a88": {
      "model_module": "@jupyter-widgets/base",
      "model_module_version": "2.0.0",
      "model_name": "LayoutModel",
      "state": {}
     },
     "dfa2540ee6e443ddb8b3f8ffe9e41d6f": {
      "model_module": "@jupyter-widgets/base",
      "model_module_version": "2.0.0",
      "model_name": "LayoutModel",
      "state": {}
     },
     "e25bf04ff7a64f44a4d1201c656705ae": {
      "model_module": "@jupyter-widgets/output",
      "model_module_version": "1.0.0",
      "model_name": "OutputModel",
      "state": {
       "layout": "IPY_MODEL_d18b0d04269542a49d9de1582aaa32b5",
       "outputs": [
        {
         "name": "stdout",
         "output_type": "stream",
         "text": "0 * 0 = 0\n"
        }
       ]
      }
     },
     "e2c7f8158fde42ffb2d4cc414b9fd50d": {
      "model_module": "@jupyter-widgets/controls",
      "model_module_version": "2.0.0",
      "model_name": "LabelModel",
      "state": {
       "layout": "IPY_MODEL_e98fc568833442948548ebf75ab96d9d",
       "style": "IPY_MODEL_6b24c3fb10fd474e944ce58d94ca4439",
       "value": "Sigma:"
      }
     },
     "e44806103bb64f3187de1a62e663c139": {
      "model_module": "@jupyter-widgets/base",
      "model_module_version": "2.0.0",
      "model_name": "LayoutModel",
      "state": {}
     },
     "e501fabfe4464c7abb11de28cd68686c": {
      "model_module": "@jupyter-widgets/controls",
      "model_module_version": "2.0.0",
      "model_name": "BoundedIntTextModel",
      "state": {
       "layout": "IPY_MODEL_aacd4e0c501a4e06bbbebc0ecf07b0e5",
       "max": 300,
       "min": 10,
       "style": "IPY_MODEL_f6c0665f3d894500bd5f468c033846ae",
       "value": 100
      }
     },
     "e57fe4bec06b4aa982450b5940e9ea2d": {
      "model_module": "@jupyter-widgets/controls",
      "model_module_version": "2.0.0",
      "model_name": "SliderStyleModel",
      "state": {
       "description_width": ""
      }
     },
     "e58ddedb04b74c899012103894081a5d": {
      "model_module": "@jupyter-widgets/base",
      "model_module_version": "2.0.0",
      "model_name": "LayoutModel",
      "state": {}
     },
     "e785813d5b434448ab1e4cb60a7f0766": {
      "model_module": "@jupyter-widgets/base",
      "model_module_version": "2.0.0",
      "model_name": "LayoutModel",
      "state": {}
     },
     "e7d0182156a342ef8e8b42ba29a5c9c9": {
      "model_module": "@jupyter-widgets/controls",
      "model_module_version": "2.0.0",
      "model_name": "SliderStyleModel",
      "state": {
       "description_width": ""
      }
     },
     "e89d0838326f4cca89a768785ad71969": {
      "model_module": "@jupyter-widgets/controls",
      "model_module_version": "2.0.0",
      "model_name": "ButtonModel",
      "state": {
       "icon": "legal",
       "layout": "IPY_MODEL_3887752ecd0f4c25a1ce63661fd1727f",
       "style": "IPY_MODEL_3c7e42f6cead4eb98b3b268837a8b341",
       "tooltip": null
      }
     },
     "e98fc568833442948548ebf75ab96d9d": {
      "model_module": "@jupyter-widgets/base",
      "model_module_version": "2.0.0",
      "model_name": "LayoutModel",
      "state": {}
     },
     "eb8303dfee67439e8db52edb70480a46": {
      "model_module": "@jupyter-widgets/base",
      "model_module_version": "2.0.0",
      "model_name": "LayoutModel",
      "state": {}
     },
     "edcdc9cec4014e93a137d0956a76b689": {
      "model_module": "@jupyter-widgets/controls",
      "model_module_version": "2.0.0",
      "model_name": "VBoxModel",
      "state": {
       "children": [
        "IPY_MODEL_2f32098334cf4e6f86e37255c1187862",
        "IPY_MODEL_5506432a78d8497f88efabe47be5b55d"
       ],
       "layout": "IPY_MODEL_2d512070d1b24e85b608cc315b9b06e5"
      }
     },
     "f0953101e592429a969e4c49d1fd703f": {
      "model_module": "@jupyter-widgets/controls",
      "model_module_version": "2.0.0",
      "model_name": "DescriptionStyleModel",
      "state": {
       "description_width": ""
      }
     },
     "f1aded904acc49a0b2f21e82c4a24ee3": {
      "model_module": "@jupyter-widgets/controls",
      "model_module_version": "2.0.0",
      "model_name": "LabelModel",
      "state": {
       "layout": "IPY_MODEL_eb8303dfee67439e8db52edb70480a46",
       "style": "IPY_MODEL_2cc09171d5a34da38da0056389dbf8a7",
       "value": "Bins:"
      }
     },
     "f1ee8825e9b04c6fa7684375d3aba405": {
      "model_module": "@jupyter-widgets/controls",
      "model_module_version": "2.0.0",
      "model_name": "BoundedIntTextModel",
      "state": {
       "layout": "IPY_MODEL_5ebadf6e66304096bbaf50f610d3a9b2",
       "max": 50,
       "min": 10,
       "style": "IPY_MODEL_ba13c2093d2a46d2aab8577565507eff",
       "value": 15
      }
     },
     "f24c9b97be4140ba8e7376c2741b8ecf": {
      "model_module": "@jupyter-widgets/base",
      "model_module_version": "2.0.0",
      "model_name": "LayoutModel",
      "state": {}
     },
     "f6c0665f3d894500bd5f468c033846ae": {
      "model_module": "@jupyter-widgets/controls",
      "model_module_version": "2.0.0",
      "model_name": "DescriptionStyleModel",
      "state": {
       "description_width": ""
      }
     },
     "fa8f628ab3d349099c2b2530b6021d7d": {
      "model_module": "@jupyter-widgets/base",
      "model_module_version": "2.0.0",
      "model_name": "LayoutModel",
      "state": {}
     },
     "fba8c1fb6a214827888d7516baf01c5b": {
      "model_module": "@jupyter-widgets/controls",
      "model_module_version": "2.0.0",
      "model_name": "LabelModel",
      "state": {
       "layout": "IPY_MODEL_6afdc2f13c8a4b24a72842e22d0a6794",
       "style": "IPY_MODEL_19777c6c74124ea89dcdd7e94fe51c63",
       "value": "Bins:"
      }
     },
     "fc72987d5f634b4bae9c8e42321421ed": {
      "model_module": "@jupyter-widgets/base",
      "model_module_version": "2.0.0",
      "model_name": "LayoutModel",
      "state": {}
     },
     "fd29e273bbc04733895781c6d23d15fa": {
      "model_module": "@jupyter-widgets/controls",
      "model_module_version": "2.0.0",
      "model_name": "SliderStyleModel",
      "state": {
       "description_width": ""
      }
     },
     "fe52d2bd158c42998f8e5a3f48150a5e": {
      "model_module": "@jupyter-widgets/base",
      "model_module_version": "2.0.0",
      "model_name": "LayoutModel",
      "state": {}
     },
     "ff7be3cb76c64536bb23d04b9a7d8cac": {
      "model_module": "@jupyter-widgets/base",
      "model_module_version": "2.0.0",
      "model_name": "LayoutModel",
      "state": {}
     }
    },
    "version_major": 2,
    "version_minor": 0
   }
  }
 },
 "nbformat": 4,
 "nbformat_minor": 5
}
